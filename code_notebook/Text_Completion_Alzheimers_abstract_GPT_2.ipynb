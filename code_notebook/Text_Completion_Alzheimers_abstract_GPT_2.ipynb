{
  "nbformat": 4,
  "nbformat_minor": 0,
  "metadata": {
    "colab": {
      "name": "Text Completion Alzheimers abstract GPT-2",
      "provenance": [],
      "collapsed_sections": [],
      "toc_visible": true
    },
    "kernelspec": {
      "name": "python3",
      "display_name": "Python 3"
    },
    "accelerator": "GPU"
  },
  "cells": [
    {
      "cell_type": "markdown",
      "metadata": {
        "id": "H7LoMj4GA4n_"
      },
      "source": [
        "#  Train a GPT-2 Text-Generating Model w/ GPU For Free \n",
        "\n",
        "by [Max Woolf](http://minimaxir.com)\n",
        "\n",
        "*Last updated: November 10th, 2019*\n",
        "\n",
        "Retrain an advanced text generating neural network on any text dataset **for free on a GPU using Collaboratory** using `gpt-2-simple`!\n",
        "\n",
        "For more about `gpt-2-simple`, you can visit [this GitHub repository](https://github.com/minimaxir/gpt-2-simple). You can also read my [blog post](https://minimaxir.com/2019/09/howto-gpt2/) for more information how to use this notebook!\n",
        "\n",
        "\n",
        "To get started:\n",
        "\n",
        "1. Copy this notebook to your Google Drive to keep it and save your changes. (File -> Save a Copy in Drive)\n",
        "2. Make sure you're running the notebook in Google Chrome.\n",
        "3. Run the cells below:\n"
      ]
    },
    {
      "cell_type": "code",
      "metadata": {
        "id": "KBkpRgBCBS2_",
        "colab": {
          "base_uri": "https://localhost:8080/",
          "height": 153
        },
        "outputId": "d569e349-1ec7-44ee-b66c-7d97f4740614"
      },
      "source": [
        "%tensorflow_version 1.x\n",
        "!pip install -q gpt-2-simple\n",
        "import gpt_2_simple as gpt2\n",
        "from datetime import datetime\n",
        "from google.colab import files"
      ],
      "execution_count": null,
      "outputs": [
        {
          "output_type": "stream",
          "text": [
            "WARNING:tensorflow:\n",
            "The TensorFlow contrib module will not be included in TensorFlow 2.0.\n",
            "For more information, please see:\n",
            "  * https://github.com/tensorflow/community/blob/master/rfcs/20180907-contrib-sunset.md\n",
            "  * https://github.com/tensorflow/addons\n",
            "  * https://github.com/tensorflow/io (for I/O related ops)\n",
            "If you depend on functionality not listed there, please file an issue.\n",
            "\n"
          ],
          "name": "stdout"
        }
      ]
    },
    {
      "cell_type": "markdown",
      "metadata": {
        "id": "Bj2IJLHP3KwE"
      },
      "source": [
        "## GPU\n",
        "\n",
        "Colaboratory uses either a Nvidia T4 GPU or an Nvidia K80 GPU. The T4 is slightly faster than the old K80 for training GPT-2, and has more memory allowing you to train the larger GPT-2 models and generate more text.\n",
        "\n",
        "You can verify which GPU is active by running the cell below."
      ]
    },
    {
      "cell_type": "code",
      "metadata": {
        "id": "sUmTooTW3osf",
        "colab": {
          "base_uri": "https://localhost:8080/",
          "height": 306
        },
        "outputId": "1db21261-521c-4957-d2ef-d6fbaa8d96f5"
      },
      "source": [
        "!nvidia-smi"
      ],
      "execution_count": null,
      "outputs": [
        {
          "output_type": "stream",
          "text": [
            "Sun Mar  1 22:50:20 2020       \n",
            "+-----------------------------------------------------------------------------+\n",
            "| NVIDIA-SMI 440.48.02    Driver Version: 418.67       CUDA Version: 10.1     |\n",
            "|-------------------------------+----------------------+----------------------+\n",
            "| GPU  Name        Persistence-M| Bus-Id        Disp.A | Volatile Uncorr. ECC |\n",
            "| Fan  Temp  Perf  Pwr:Usage/Cap|         Memory-Usage | GPU-Util  Compute M. |\n",
            "|===============================+======================+======================|\n",
            "|   0  Tesla T4            Off  | 00000000:00:04.0 Off |                    0 |\n",
            "| N/A   35C    P8     9W /  70W |      0MiB / 15079MiB |      0%      Default |\n",
            "+-------------------------------+----------------------+----------------------+\n",
            "                                                                               \n",
            "+-----------------------------------------------------------------------------+\n",
            "| Processes:                                                       GPU Memory |\n",
            "|  GPU       PID   Type   Process name                             Usage      |\n",
            "|=============================================================================|\n",
            "|  No running processes found                                                 |\n",
            "+-----------------------------------------------------------------------------+\n"
          ],
          "name": "stdout"
        }
      ]
    },
    {
      "cell_type": "markdown",
      "metadata": {
        "id": "0wXB05bPDYxS"
      },
      "source": [
        "## Downloading GPT-2\n",
        "\n",
        "If you're retraining a model on new text, you need to download the GPT-2 model first. \n",
        "\n",
        "There are three released sizes of GPT-2:\n",
        "\n",
        "* `124M` (default): the \"small\" model, 500MB on disk.\n",
        "* `355M`: the \"medium\" model, 1.5GB on disk.\n",
        "* `774M`: the \"large\" model, cannot currently be finetuned with Colaboratory but can be used to generate text from the pretrained model (see later in Notebook)\n",
        "* `1558M`: the \"extra large\", true model. Will not work if a K80 GPU is attached to the notebook. (like `774M`, it cannot be finetuned).\n",
        "\n",
        "Larger models have more knowledge, but take longer to finetune and longer to generate text. You can specify which base model to use by changing `model_name` in the cells below.\n",
        "\n",
        "The next cell downloads it from Google Cloud Storage and saves it in the Colaboratory VM at `/models/<model_name>`.\n",
        "\n",
        "This model isn't permanently saved in the Colaboratory VM; you'll have to redownload it if you want to retrain it at a later time."
      ]
    },
    {
      "cell_type": "code",
      "metadata": {
        "id": "P8wSlgXoDPCR",
        "colab": {
          "base_uri": "https://localhost:8080/",
          "height": 136
        },
        "outputId": "8f0f73fc-2f86-48d5-e8e0-c59b51767f0f"
      },
      "source": [
        "gpt2.download_gpt2(model_name=\"124M\")"
      ],
      "execution_count": null,
      "outputs": [
        {
          "output_type": "stream",
          "text": [
            "Fetching checkpoint: 1.05Mit [00:00, 425Mit/s]                                                      \n",
            "Fetching encoder.json: 1.05Mit [00:00, 118Mit/s]                                                    \n",
            "Fetching hparams.json: 1.05Mit [00:00, 698Mit/s]                                                    \n",
            "Fetching model.ckpt.data-00000-of-00001: 498Mit [00:02, 208Mit/s]                                   \n",
            "Fetching model.ckpt.index: 1.05Mit [00:00, 263Mit/s]                                                \n",
            "Fetching model.ckpt.meta: 1.05Mit [00:00, 153Mit/s]                                                 \n",
            "Fetching vocab.bpe: 1.05Mit [00:00, 159Mit/s]                                                       \n"
          ],
          "name": "stderr"
        }
      ]
    },
    {
      "cell_type": "markdown",
      "metadata": {
        "id": "N8KXuKWzQSsN"
      },
      "source": [
        "## Mounting Google Drive\n",
        "\n",
        "The best way to get input text to-be-trained into the Colaboratory VM, and to get the trained model *out* of Colaboratory, is to route it through Google Drive *first*.\n",
        "\n",
        "Running this cell (which will only work in Colaboratory) will mount your personal Google Drive in the VM, which later cells can use to get data in/out. (it will ask for an auth code; that auth is not saved anywhere)"
      ]
    },
    {
      "cell_type": "code",
      "metadata": {
        "id": "puq4iC6vUAHc",
        "colab": {
          "base_uri": "https://localhost:8080/",
          "height": 34
        },
        "outputId": "357b3d12-a0e8-4f3e-d92d-22c2962b2c19"
      },
      "source": [
        "gpt2.mount_gdrive()"
      ],
      "execution_count": null,
      "outputs": [
        {
          "output_type": "stream",
          "text": [
            "Drive already mounted at /content/drive; to attempt to forcibly remount, call drive.mount(\"/content/drive\", force_remount=True).\n"
          ],
          "name": "stdout"
        }
      ]
    },
    {
      "cell_type": "markdown",
      "metadata": {
        "id": "BT__brhBCvJu"
      },
      "source": [
        "## Uploading a Text File to be Trained to Colaboratory\n",
        "\n",
        "In the Colaboratory Notebook sidebar on the left of the screen, select *Files*. From there you can upload files:\n",
        "\n",
        "![alt text](https://i.imgur.com/TGcZT4h.png)\n",
        "\n",
        "Upload **any smaller text file**  (<10 MB) and update the file name in the cell below, then run the cell."
      ]
    },
    {
      "cell_type": "code",
      "metadata": {
        "id": "6OFnPCLADfll"
      },
      "source": [
        "file_name = \"abstracts_2020.txt\"\n",
        "\n",
        "#/content/drive/My Drive/Colab/arxivData_summary.txt\n",
        "#/content/drive/My Drive/Colab/abstracts_2000.txt"
      ],
      "execution_count": null,
      "outputs": []
    },
    {
      "cell_type": "code",
      "metadata": {
        "id": "4k_UQJm2Z7qw",
        "colab": {
          "base_uri": "https://localhost:8080/",
          "height": 34
        },
        "outputId": "1068587a-744d-4111-8900-9ce9a9b40441"
      },
      "source": [
        "cd /content/drive/My Drive/Colab"
      ],
      "execution_count": null,
      "outputs": [
        {
          "output_type": "stream",
          "text": [
            "/content/drive/My Drive/Colab\n"
          ],
          "name": "stdout"
        }
      ]
    },
    {
      "cell_type": "code",
      "metadata": {
        "id": "L5tpQQ9Rbpc3"
      },
      "source": [
        "import os\n",
        "os.chdir(\"/content/drive/My Drive/Colab\")"
      ],
      "execution_count": null,
      "outputs": []
    },
    {
      "cell_type": "code",
      "metadata": {
        "id": "fa9lIsRgb7mD",
        "colab": {
          "base_uri": "https://localhost:8080/",
          "height": 34
        },
        "outputId": "37665135-5607-4fea-83a9-b4e7220c08ae"
      },
      "source": [
        "ls"
      ],
      "execution_count": null,
      "outputs": [
        {
          "output_type": "stream",
          "text": [
            "abstracts_2000.txt  arxivData_summary.txt\n"
          ],
          "name": "stdout"
        }
      ]
    },
    {
      "cell_type": "markdown",
      "metadata": {
        "id": "HeeSKtNWUedE"
      },
      "source": [
        "If your text file is larger than 10MB, it is recommended to upload that file to Google Drive first, then copy that file from Google Drive to the Colaboratory VM."
      ]
    },
    {
      "cell_type": "code",
      "metadata": {
        "id": "-Z6okFD8VKtS"
      },
      "source": [
        "gpt2.copy_file_from_gdrive(file_name)"
      ],
      "execution_count": null,
      "outputs": []
    },
    {
      "cell_type": "markdown",
      "metadata": {
        "id": "LdpZQXknFNY3"
      },
      "source": [
        "## Finetune GPT-2\n",
        "\n",
        "The next cell will start the actual finetuning of GPT-2. It creates a persistent TensorFlow session which stores the training config, then runs the training for the specified number of `steps`. (to have the finetuning run indefinitely, set `steps = -1`)\n",
        "\n",
        "The model checkpoints will be saved in `/checkpoint/run1` by default. The checkpoints are saved every 500 steps (can be changed) and when the cell is stopped.\n",
        "\n",
        "The training might time out after 4ish hours; make sure you end training and save the results so you don't lose them!\n",
        "\n",
        "**IMPORTANT NOTE:** If you want to rerun this cell, **restart the VM first** (Runtime -> Restart Runtime). You will need to rerun imports but not recopy files.\n",
        "\n",
        "Other optional-but-helpful parameters for `gpt2.finetune`:\n",
        "\n",
        "\n",
        "*  **`restore_from`**: Set to `fresh` to start training from the base GPT-2, or set to `latest` to restart training from an existing checkpoint.\n",
        "* **`sample_every`**: Number of steps to print example output\n",
        "* **`print_every`**: Number of steps to print training progress.\n",
        "* **`learning_rate`**:  Learning rate for the training. (default `1e-4`, can lower to `1e-5` if you have <1MB input data)\n",
        "*  **`run_name`**: subfolder within `checkpoint` to save the model. This is useful if you want to work with multiple models (will also need to specify  `run_name` when loading the model)\n",
        "* **`overwrite`**: Set to `True` if you want to continue finetuning an existing model (w/ `restore_from='latest'`) without creating duplicate copies. "
      ]
    },
    {
      "cell_type": "code",
      "metadata": {
        "id": "aeXshJM-Cuaf",
        "colab": {
          "base_uri": "https://localhost:8080/",
          "height": 1000
        },
        "outputId": "485b05e6-6e97-4daf-a2a4-13255d140bfc"
      },
      "source": [
        "sess = gpt2.start_tf_sess()\n",
        "\n",
        "gpt2.finetune(sess,\n",
        "              dataset=file_name,\n",
        "              model_name='124M',\n",
        "              steps=1000,\n",
        "              restore_from='fresh',\n",
        "              run_name='run2020',\n",
        "              print_every=10,\n",
        "              sample_every=200,\n",
        "              save_every=500\n",
        "              )"
      ],
      "execution_count": null,
      "outputs": [
        {
          "output_type": "stream",
          "text": [
            "WARNING:tensorflow:From /usr/local/lib/python3.6/dist-packages/gpt_2_simple/src/sample.py:17: where (from tensorflow.python.ops.array_ops) is deprecated and will be removed in a future version.\n",
            "Instructions for updating:\n",
            "Use tf.where in 2.0, which has the same broadcast rule as np.where\n",
            "Loading checkpoint models/124M/model.ckpt\n",
            "INFO:tensorflow:Restoring parameters from models/124M/model.ckpt\n"
          ],
          "name": "stdout"
        },
        {
          "output_type": "stream",
          "text": [
            "\r  0%|          | 0/1 [00:00<?, ?it/s]"
          ],
          "name": "stderr"
        },
        {
          "output_type": "stream",
          "text": [
            "Loading dataset...\n"
          ],
          "name": "stdout"
        },
        {
          "output_type": "stream",
          "text": [
            "\r100%|██████████| 1/1 [03:29<00:00, 209.10s/it]\n"
          ],
          "name": "stderr"
        },
        {
          "output_type": "stream",
          "text": [
            "dataset has 39385529 tokens\n",
            "Training...\n",
            "[10 | 29.06] loss=2.77 avg=2.77\n",
            "[20 | 50.53] loss=2.93 avg=2.85\n",
            "[30 | 72.15] loss=2.96 avg=2.89\n",
            "[40 | 93.98] loss=2.91 avg=2.89\n",
            "[50 | 116.10] loss=2.85 avg=2.88\n",
            "[60 | 138.16] loss=2.89 avg=2.88\n",
            "[70 | 160.24] loss=2.70 avg=2.86\n",
            "[80 | 182.41] loss=2.77 avg=2.85\n",
            "[90 | 204.73] loss=2.72 avg=2.83\n",
            "[100 | 227.07] loss=2.66 avg=2.81\n",
            "[110 | 249.43] loss=2.79 avg=2.81\n",
            "[120 | 271.83] loss=2.98 avg=2.83\n",
            "[130 | 294.30] loss=2.81 avg=2.82\n",
            "[140 | 316.79] loss=2.69 avg=2.81\n",
            "[150 | 339.30] loss=2.83 avg=2.82\n",
            "[160 | 361.80] loss=2.64 avg=2.80\n",
            "[170 | 384.35] loss=2.84 avg=2.81\n",
            "[180 | 407.04] loss=2.83 avg=2.81\n",
            "[190 | 430.21] loss=2.95 avg=2.82\n",
            "[200 | 453.02] loss=2.67 avg=2.81\n",
            "======== SAMPLE 1 ========\n",
            " UA2(p/C1) and  MDA-SAR(p/C2). The primary findings are that both N-methylnitrosodiamin (N NMDAR) and MDA-SAR(p/C1) bind to N-methylnitrosodiamin at the P21-N-methylnitrosodiamin binding site. However, no evidence of reduced N-methylnitrosodiamin binding to MDA-SAR(p/C1) has been published. Our data suggest that MDA-SAR(p/C1) may increase N-methylnitrosodiamin binding and that N-methylnitrosodiamin inactivation may result from reduced methylnitrosodiamin activity, while MDA-SAR(p/C1) and MDA-SAR(p/C2) may cause increased MDA-SAR(p/C2). Moreover, our data demonstrate, that MDA-SAR(p/C2) may mediate N-methylnitrosodiamin binding, while MDA-SAR(p/C2) may mediate N-methylnitrosodiamin and increase MDA-SAR(p/C2). These data suggest that MDA-SAR(p/C1) or MDA-SAR(p/C2) may mediate both N-methylnitrosodiamin and MDA-SAR(p/C2) with the same mechanism.\n",
            "OBJECTIVES: To examine the relationship between cognitive function and Alzheimer's disease (AD) biomarkers of AD severity as determined through the Clinical Dementia Rating (CDR, CDSI), and cognitive decline. METHODS: Participants underwent a systematic assessment of AD biomarkers using the International Cognitive Assessment Scale (IBAS-cog) for the Assessment of Cognitive Severity (IAAS); data from a systematic assessment of cognitive function with the Clinical Dementia Rating (CDR, CDSI) (ANPAS-cog), and a baseline AD cognitive inventory (ADAD-cog) for an additional study (CDR, CDSI). RESULTS: The ANPAS-cog was better than the ANDI-cog in achieving  cognitive function using an overall CDR, CDSI, and ADAD-cog. At baseline, cognitive capacity was significantly enhanced (p = 0.041) after CDSI over CDSI (p < 0.05), as expected. No differences were found on ADAD-cog (p = 0.08), ADAD-cog (p = 0.01), or ADADAD-cog (both p < 0.05). Further research is needed to determine the mechanisms by which cognitive dysfunction might be ameliorated by CDSI. CONCLUSION: Cognitive dysfunction may be ameliorated by CDSI, ADAD-cog,/or ADADAD (both p < 0.05).\n",
            "Alzheimer's disease (AD) is a heterogeneous phenomenon with several syndromes. The majority of subjects with AD have no symptoms and are characterized by sporadic cognitive impairment. In the present study we used data from a double-blind, placebo-controlled, cross-over, placebo-controlled, longitudinal study to determine if AD patients' cognitive decline and the underlying neuropathogenesis are related. Eight AD patients were studied and their cognitive variables were investigated via a two-way  dual-transcranial magnetic resonance imaging (UMR) method. Both neuropathologic and neuropathological changes were examined using positron emission tomography (PET). Neurologic symptoms were   correlated (95% confidence interval [CI]1.6-4.7) with brain  degeneration (R2 = 0.7, P = 0.074). Brain biomarkers showed an inverse correlation (1.3, OR = 1.4, 95% CI: 0.7-3.3). The AD model was robust and was comparable to that of the placebo-controlled, placebo-controlled, longitudinal study. The AD model was a robust model,  and therefore predicted future cognitive impairment. Our objective was to investigate other neuropathologies of cognitive dysfunction in AD patients, including Alzheimer's disease and Parkinson's disease.\n",
            "OBJECTIVE: To compare neuropsychiatric symptoms, such as delusions, agitation and agitation with other symptoms of anxiety or depression. METHODS: The Morris water maze and the Structured Clinical Interview-Recorder-Aged version of the Mini Mental State Examination (MMSE) were used to generate baseline scores. All patients developed clinically relevant depressive symptoms (ie, depression of late stage), including mild to moderate anxiety disorders, panic attacks and posttraumatic stress syndrome (PTSS) and anxiety disorder, both related to the use of hallucinogens and other substances that may\n",
            "\n",
            "[210 | 487.87] loss=2.71 avg=2.80\n",
            "[220 | 510.50] loss=2.70 avg=2.80\n",
            "[230 | 533.18] loss=2.58 avg=2.79\n",
            "[240 | 555.86] loss=2.67 avg=2.78\n",
            "[250 | 578.53] loss=2.93 avg=2.79\n",
            "[260 | 601.16] loss=2.84 avg=2.79\n",
            "[270 | 623.78] loss=2.64 avg=2.78\n",
            "[280 | 646.39] loss=2.82 avg=2.79\n",
            "[290 | 669.02] loss=2.85 avg=2.79\n",
            "[300 | 691.64] loss=2.68 avg=2.78\n",
            "[310 | 714.31] loss=2.63 avg=2.78\n",
            "[320 | 737.42] loss=2.66 avg=2.77\n",
            "[330 | 760.61] loss=2.68 avg=2.77\n",
            "[340 | 783.31] loss=2.97 avg=2.78\n",
            "[350 | 806.00] loss=2.71 avg=2.78\n",
            "[360 | 828.74] loss=2.66 avg=2.77\n",
            "[370 | 851.51] loss=2.53 avg=2.76\n",
            "[380 | 874.24] loss=2.60 avg=2.76\n",
            "[390 | 896.89] loss=2.66 avg=2.76\n",
            "[400 | 919.59] loss=2.98 avg=2.76\n",
            "======== SAMPLE 1 ========\n",
            " clinical pathologic data and the results have yielded a number of promising candidates. This paper examines the efficacy and safety of the combination of a modified C-6 anti-C-6 antibody and an immunocytochemical regimen, the efficacy and safety of oral C-6 anti-C-6 antibodies based on previous studies, and the safety and cytotoxicity of C-6 immunotherapy.\n",
            "The most common diagnosis in Alzheimer syndrome (AD) is a combination of cerebral atrophy and a diffuse diffuse hyposmia. An association between cerebral atrophy and the development of dementia is described, with mild cognitive impairment being the most commonly reported  dementia diagnosis. However, the clinical features of AD are different, including a progressive reduction in left temporal lobe function, a reduction of hippocampal size and synapses, and a loss of hippocampal size in the right prefrontal cortex. In this article, we review the clinical features of cognitive impairment in AD and highlight the clinical characteristics and the role of the bilateral hippocampal and cerebellum subfields in AD and suggest alternative approaches to the diagnosis of cognitive impairment. Specifically, we provide evidence that the bilateral hippocampal subfields are the most vulnerable areas of  the hippocampal network, with mild impairment in this domain likely accompanied by severe cognitive deficits. We will also discuss possible differential diagnosis of dementia in the patient and caregiver groups, and possible possible strategies for improving diagnosis in these patients.\n",
            "BACKGROUND: Our objective is to compare the effect of an open-label ketone solution in the prevention or treatment of neurodegenerative disease in a group of 20 cognitively intact individuals. METHODS: Neuropsychiatric symptoms (NPI), executive function, and subjective memory were assessed in 13 individuals at four different stages of dementia. RESULTS: Three of the 20 cognitively intact individuals developed dementia by age 30, and at ages of 72 and 93 in age-matched control subjects with mild cognitive impairment: cognitively normal (IC(90.8 +/- 1.7), IC(86.7 +/- 3.4); IC(82.3 +/- 1.7), IC(83.0 +/- 0.7). At age 82, IC(84.8 +/- 2.8), IC(79.1 +/- 3.0). At  age 83, IC(79.5 +/- 5.7) and IC(78.8 +/- 5.5) were considered  as risk factors for AD, whereas at age 80, neither dementia nor IC(78.6 +/- 7.4) were considered. Among the 20 control subjects at age 82, IC(77).7 was considered to be associated with AD and IC(79.3 +/- 6.1, respectively). In contrast, IC(77.7 +/- 5.9), IC(74.6 +/- 4.2), and IC(77.7 +/- 4.9) did not differ significantly in the IC(80.4 +/- 5.3) and IC(87.7 +/- 5.8) group. INTERVENTION INADMINISTRATION: The most common diagnostic criteria for cognition disorders in the AD group: visual hallucinations or psychomotor incoherence; anxiety disorders; and social anxiety disorders. CONCLUSIONS: The data show that ketone-based ketone therapy in patients suffering from AD or dementia may be effective and could be used to prevent or reverse the cognitive decline in the cognitively intact community but do not prove the value of ketone in the treatment of cognitive dysfunction.\n",
            "We report on a single, randomized, open-label, clinical trial involving a group of patients taking  cognitive medication at the end of the second intranasal phase at the age of 12 months. We showed that the cognitive  biomarkers in patients who were evaluated  at both endpoints were similar to those previously reported. The effect of all of these measures was statistically significant on a cognitive level at the end of the first intranasal phase, and their relative difference was significant. All of the outcomes of the  study were compared in our previous study that included those who died earlier than those who died late: Alzheimeroses, vascular dementia, stroke, Parkinsonism, and others. All of the analyses were performed at a statistical threshold of p < 0.05; the results obtained here are the statistical significance of the results obtained from previous reports.\n",
            "The most common pathological hallmarks of Alzheimer's disease (AD) are neuroleptic neurofibrillary degeneration, amnestic mild cognitive impairment (aMCI) and intracerebellar neurofibrillary changes (ICD). We investigated the role these hallmarks may play in the development of AD in a cohort of patients with aMCI who received immunohistological screening for aMCI in a subset of four groups: two women who were diagnosed with aMCI and one Alzheimer's disease patient. All four groups died without incident AHD (aMCI versus aMCI) after 12 months. The frequency of incident AHD (0.05) was\n",
            "\n",
            "[410 | 953.62] loss=2.79 avg=2.76\n",
            "[420 | 976.22] loss=2.72 avg=2.76\n",
            "[430 | 998.82] loss=2.92 avg=2.77\n",
            "[440 | 1021.44] loss=2.78 avg=2.77\n",
            "[450 | 1044.34] loss=2.77 avg=2.77\n",
            "[460 | 1067.60] loss=2.69 avg=2.77\n",
            "[470 | 1090.43] loss=2.80 avg=2.77\n",
            "[480 | 1113.07] loss=2.73 avg=2.77\n",
            "[490 | 1135.77] loss=2.56 avg=2.76\n",
            "[500 | 1158.55] loss=2.68 avg=2.76\n",
            "Saving checkpoint/run2020/model-500\n",
            "[510 | 1183.99] loss=2.89 avg=2.76\n",
            "[520 | 1206.63] loss=2.88 avg=2.76\n",
            "[530 | 1229.30] loss=2.80 avg=2.76\n",
            "[540 | 1251.90] loss=2.66 avg=2.76\n",
            "[550 | 1274.51] loss=2.45 avg=2.75\n",
            "[560 | 1297.15] loss=2.79 avg=2.76\n",
            "[570 | 1319.79] loss=2.75 avg=2.76\n",
            "[580 | 1342.44] loss=2.71 avg=2.75\n",
            "[590 | 1365.47] loss=2.62 avg=2.75\n",
            "[600 | 1388.57] loss=2.71 avg=2.75\n",
            "======== SAMPLE 1 ========\n",
            "icle: the effects of cholinergic neurotroposes on the pathophysiology of Alzheimer disease (AD), are still obscure. Our current goal was to study the effects of cholinergic agonist, Ginkgo biloba extract, on the pathophysiological and clinical outcomes of dementia and mild dementia  in patients with mild cognitive impairment and Alzheimer disease.\n",
            "OBJECTIVE: A systematic literature search was conducted from 2009 to 2014 on all available publications and their abstracts, whether or not they covered a particular theme, which was examined using  the criteria for inclusion in a systematic review. We used the Google Scholar search feature for the articles. We searched for articles by the main authors or their editors (for each paper, the main article was used to obtain the abstract, abstract, or abstract review). We also searched for the abstract published in the media (in English) for the reference sources (in French), for reference journals and, especially, the English version of the journal article itself (in English). RESULTS: Our search yielded more than 600 articles for each of the major English-language and French-language publications. Of the available publications, the most popular abstracted is the \"Konstantin's theory of evolution: Evolution of the human being.\" The main article was by one of the main authors, Dr. John R. Kostin, the main article is by a Spanish-Italian paper in a Spanish-language publication. No other abstract from the main article was available. Only some specific abstracted articles have been included for inclusion in this systematic literary review. In addition to the abstracted articles, our search had limited specificity and focused on only articles which were described in terms of the main author's name. Some papers may have limited or only vague abstracts in terms of which aspects of the underlying biological mechanism, the main clinical diagnosis, and the main outcome were included in these categories. CONCLUSIONS: Our findings are preliminary and do not prove that cholinergic antagonism is involved in the pathophysiology of AD. It is possible that cholinergic antagonists may have an important role in the  neurodegenerative mechanisms that underlie AD.\n",
            "The use of a novel fluorescent probe can increase sensitivity to chemical changes in vivo. We review our current method of using a specific,  high-resolution fluorescent probe in vivo to understand the relationship between fluorescent activity, fluorescent pattern, and molecular dynamics. The use of light microscopy has been the major source of information relating to biological processes, and the use of laser light spectrometry, which uses a fluorescent probe as an index of photoperiodic activity, has been the method for understanding the biological processes underlying  biological processes.\n",
            "BACKGROUND: A wide variety of  neurodegenerative disorders (AD) can be attributed to degenerative diseases, including Alzheimer's disease, which are associated with neurodegeneration. However, there is a need to determine the biological basis for cognitive deficits in AD. We analyzed the effects of a wide variety of neurodegenerative diseases in a cross-sectional study of elderly  subjects and their family caregivers. METHODS: Three hundred and eighty nine participants (65%) were aged 60+ and over. During  their childhood and middle years they were assessed at a home examination and cognitive function. RESULTS: No major changes from previous years occurred. In comparison to patients with neurodiagnosed vascular dementia, the AD group showed significantly less decline in cognitive function when compared with normal family caregivers. CONCLUSIONS: In contrast, those at high risk for AD (i.e., caregivers at higher risk of neurodegeneration) did not  show better cognitive function at the home examination. The differences were found only in the cognitive performance of neurodegenerators. They may reflect changes over time in the brain functions of the population.\n",
            "In recent years several studies have suggested that changes in vascular risk could play an important role in early Alzheimer's disease pathology. Although not directly involved in Alzheimer's disease diagnosis or treatment, alterations in vascular risk appear important in clinical processes of the disease. In this study, two groups of elderly patients with Down's syndrome (SDS) were examined in order to examine the impact of vascular risk factors on the diagnosis and severity of disease. Results of a systematic trial comparing a large range of vascular risk factors at the time of the diagnosis or severity of disease reveal that vascular risk factors are associated with significantly more disease severity (and dementia) in SDS patients. Patients with at least one of the various types of cardiovascular risk factors who exhibit clinically significant changes in vascular risk factors had more worsening dementia than patients with no risk factors. The changes in the severity of the disease in SDS patients must be due to increased vascular risk factors which must be prevented.\n",
            "This paper analyzes the molecular mechanisms underlying the interaction between amyloid-beta peptide (Abeta) and the phosphorylation products of Abeta in Alzheimer's disease (AD).\n",
            "The Abeta2-phosphorylated form of Abeta(1-42),\n",
            "\n",
            "[610 | 1422.44] loss=2.36 avg=2.74\n",
            "[620 | 1445.05] loss=2.58 avg=2.74\n",
            "[630 | 1467.74] loss=2.51 avg=2.73\n",
            "[640 | 1490.48] loss=2.66 avg=2.73\n",
            "[650 | 1513.19] loss=2.63 avg=2.73\n",
            "[660 | 1535.93] loss=2.68 avg=2.73\n",
            "[670 | 1558.63] loss=2.78 avg=2.73\n",
            "[680 | 1581.34] loss=2.73 avg=2.73\n",
            "[690 | 1604.01] loss=2.75 avg=2.73\n",
            "[700 | 1626.71] loss=2.48 avg=2.73\n",
            "[710 | 1649.38] loss=2.62 avg=2.72\n",
            "[720 | 1672.24] loss=2.55 avg=2.72\n",
            "[730 | 1695.22] loss=2.78 avg=2.72\n",
            "[740 | 1717.94] loss=2.72 avg=2.72\n",
            "[750 | 1740.59] loss=2.80 avg=2.72\n",
            "[760 | 1763.32] loss=2.63 avg=2.72\n",
            "[770 | 1786.08] loss=2.84 avg=2.72\n",
            "[780 | 1808.83] loss=2.64 avg=2.72\n",
            "[790 | 1831.52] loss=2.91 avg=2.72\n",
            "[800 | 1854.26] loss=2.65 avg=2.72\n",
            "======== SAMPLE 1 ========\n",
            " and and a few species of cytoplasmic proteins present in various cell-free conditions. In addition, these results support the concept that cytoplasmic proteins contribute to the clearance of toxic substances, such as beta-amyloid peptide and human apoplasts.\n",
            "Tertogenic effects of aqueous-water isochronized copper (7,8-dioxal) have been reported. Among several possible sources of copper, the  use of  copper-based food products has been associated with health benefits in elderly subjects. This review aims to provide an overview on the health benefits of copper-based food products, and to discuss the potential of these products  for the elderly population. In particular, food products based on copper would represent an attractive option to use for the elderly population. We would further appreciate the contribution of copper-based food products to the population's health status and health promotion by the elderly.\n",
            "The most common reason for patients suffering from aphasia with dementia is their desire to forget their own memory, to forget their own needs/abilities, and to forget to remember more details. Patients suffering with aphasia do not  find it pleasant or satisfying to forget even as painful memories are present to them. We thus tested the hypothesis that patients would prefer to forget more and more important memories compared to those with their own memories. In a multivariate analysis, we found that patients with aphasic, aphasic-naive, and aphasic-non-naive patients were better at remembering than patients with dementia of the Alzheimer type. We also found that patients with more severe Alzheimer disease were better at remembering and more aware of details than patients with milder or non-severe dementia. These data suggest a possible explanation for the differential diagnosis between two groups of patients with an increased rate of cognitive deterioration after their own experience with an experienced memory impairment. To evaluate this hypothesis, we studied 15 patients with aphasic patients and 25 patients with an aphasic-naive who were at an initial diagnosis of aphasia with dementia. The patients with the highest cognitive decline were those with an inordinate memory impairment. The patients with aphasic than patients with milders and patients with aphasic-naive subjects did differ on the following scales: (1) Theorexic patients were more attentive, more sensitive to others' memories, and more aware of what they remembered vs those with aphasic-naive. Theorexic patients were better at remembering when they were at an Alzheimer disease diagnosis than patients with aphasic-naive at diagnosis. Memory dysfunction and learning impairment were significantly higher in the theorexic patients compared with dementia of the Alzheimer type. These findings provide a plausible model of how memory deterioration and learning impairment may be related to aphasic and  aphasic-naive dementia that needs further investigation for proper diagnosis and prognosis.\n",
            "BACKGROUND: The amnestic depression (AB) and the progressive memory impairment (PAPI) are characterized by clinically distinct pathophysiologic processes with distinct hallmarks and/or clinical symptoms. However, the underlying mechanisms of Ab appear to be unknown. METHODS: Ab has been reported to be neuropathologically and histologically confirmed to produce a syndrome associated  with increased expression of neuroglutamylcorticoid-like Abeta in the hippocampus, whereas PAPI, a disease-associated neuropeptide that forms amyloid plaques, can display a similar pattern of pathology. This study aims  at clarifying the mechanisms of different disorders by elucidating the pathophysigram of the association between the two disorders. RESULTS: In this study, we found significantly increased expression of neuroglutamylcorticoid-like Abeta and neuropeptide of Abeta1-42 in a subset of cells expressing the PAPI and/or  its variants, in the hippocampus of Ab Ab patient and patient with PAPI. CONCLUSION: These findings raise the possibility that different pathophysiologic processes of Ab, PAPI and/or their variants share similar pathophysiological patterns associated with progressive memory impairment.\n",
            "BACKGROUND: Although the effects of  oral NSAID therapy on cognitive function were not studied in neurogenic mice, the current study tested the hypothesis that  oral NSAID treatment may delay progression of Alzheimer's disease (AD). This study has shown that NSAID treatment significantly delayed progression of dementia by 4 years, as reported in the literature. In light of this, the authors explored whether NSAID treatment improves cognition at age 80 years by assessing cognitive function in AD. METHODS: We selected 24 AD mouse model and 30 age-matched control (NC) mice which were treated with NSAID for up to 4 years and were then divided into groups of treatment with NSAID group/placebo, control group/control group, and a total of 9 mice. AD mice had mild cognitive impairment but maintained their normal cognition throughout. CONCLUSION\n",
            "\n",
            "[810 | 1887.62] loss=2.57 avg=2.72\n",
            "[820 | 1910.24] loss=2.65 avg=2.72\n",
            "[830 | 1932.90] loss=2.70 avg=2.72\n",
            "[840 | 1955.54] loss=2.67 avg=2.72\n",
            "[850 | 1978.24] loss=2.47 avg=2.71\n",
            "[860 | 2001.40] loss=2.65 avg=2.71\n",
            "[870 | 2024.31] loss=2.63 avg=2.71\n",
            "[880 | 2047.00] loss=2.76 avg=2.71\n",
            "[890 | 2069.68] loss=2.67 avg=2.71\n",
            "[900 | 2092.45] loss=2.48 avg=2.71\n",
            "[910 | 2115.22] loss=2.73 avg=2.71\n",
            "[920 | 2137.95] loss=2.79 avg=2.71\n",
            "[930 | 2160.63] loss=2.72 avg=2.71\n",
            "[940 | 2183.29] loss=2.63 avg=2.71\n",
            "[950 | 2205.90] loss=2.55 avg=2.71\n",
            "[960 | 2228.51] loss=2.68 avg=2.71\n",
            "[970 | 2251.12] loss=2.78 avg=2.71\n",
            "[980 | 2273.73] loss=2.64 avg=2.71\n",
            "[990 | 2296.44] loss=2.53 avg=2.70\n",
            "[1000 | 2319.70] loss=2.56 avg=2.70\n",
            "Saving checkpoint/run2020/model-1000\n",
            "WARNING:tensorflow:From /usr/local/lib/python3.6/dist-packages/tensorflow_core/python/training/saver.py:963: remove_checkpoint (from tensorflow.python.training.checkpoint_management) is deprecated and will be removed in a future version.\n",
            "Instructions for updating:\n",
            "Use standard file APIs to delete files with this prefix.\n"
          ],
          "name": "stdout"
        }
      ]
    },
    {
      "cell_type": "markdown",
      "metadata": {
        "id": "IXSuTNERaw6K"
      },
      "source": [
        "After the model is trained, you can copy the checkpoint folder to your own Google Drive.\n",
        "\n",
        "If you want to download it to your personal computer, it's strongly recommended you copy it there first, then download from Google Drive. The checkpoint folder is copied as a `.rar` compressed file; you can download it and uncompress it locally."
      ]
    },
    {
      "cell_type": "code",
      "metadata": {
        "id": "gK3p110Gslhk",
        "colab": {
          "base_uri": "https://localhost:8080/",
          "height": 34
        },
        "outputId": "ae9d8a19-108e-4aa3-c785-eea20a25fe5e"
      },
      "source": [
        "from google.colab import drive\n",
        "drive.mount('/content/drive')"
      ],
      "execution_count": null,
      "outputs": [
        {
          "output_type": "stream",
          "text": [
            "Drive already mounted at /content/drive; to attempt to forcibly remount, call drive.mount(\"/content/drive\", force_remount=True).\n"
          ],
          "name": "stdout"
        }
      ]
    },
    {
      "cell_type": "code",
      "metadata": {
        "id": "8-zLOX_pO8Fw",
        "colab": {
          "base_uri": "https://localhost:8080/",
          "height": 34
        },
        "outputId": "a6f784c5-55c9-4649-d316-78f4deadfe28"
      },
      "source": [
        "cd /content/drive/My Drive\n"
      ],
      "execution_count": null,
      "outputs": [
        {
          "output_type": "stream",
          "text": [
            "/content/drive/My Drive\n"
          ],
          "name": "stdout"
        }
      ]
    },
    {
      "cell_type": "code",
      "metadata": {
        "id": "zcO5f-kLPbSV",
        "colab": {
          "base_uri": "https://localhost:8080/",
          "height": 34
        },
        "outputId": "0418b6ea-3d32-4dfc-ba04-6d0e154427ef"
      },
      "source": [
        "cd Colab"
      ],
      "execution_count": null,
      "outputs": [
        {
          "output_type": "stream",
          "text": [
            "/content/drive/My Drive/Colab\n"
          ],
          "name": "stdout"
        }
      ]
    },
    {
      "cell_type": "code",
      "metadata": {
        "id": "VHdTL8NDbAh3"
      },
      "source": [
        "gpt2.copy_checkpoint_to_gdrive(run_name='run2020')"
      ],
      "execution_count": null,
      "outputs": []
    },
    {
      "cell_type": "markdown",
      "metadata": {
        "id": "qQJgV_b4bmzd"
      },
      "source": [
        "You're done! Feel free to go to the **Generate Text From The Trained Model** section to generate text based on your retrained model."
      ]
    },
    {
      "cell_type": "markdown",
      "metadata": {
        "id": "pel-uBULXO2L"
      },
      "source": [
        "## Load a Trained Model Checkpoint\n",
        "\n",
        "Running the next cell will copy the `.rar` checkpoint file from your Google Drive into the Colaboratory VM."
      ]
    },
    {
      "cell_type": "code",
      "metadata": {
        "id": "DCcx5u7sbPTD"
      },
      "source": [
        "gpt2.copy_checkpoint_from_gdrive(run_name='run2000')"
      ],
      "execution_count": null,
      "outputs": []
    },
    {
      "cell_type": "markdown",
      "metadata": {
        "id": "RTa6zf3e_9gV"
      },
      "source": [
        "The next cell will allow you to load the retrained model checkpoint + metadata necessary to generate text.\n",
        "\n",
        "**IMPORTANT NOTE:** If you want to rerun this cell, **restart the VM first** (Runtime -> Restart Runtime). You will need to rerun imports but not recopy files."
      ]
    },
    {
      "cell_type": "code",
      "metadata": {
        "id": "-fxL77nvAMAX",
        "colab": {
          "base_uri": "https://localhost:8080/",
          "height": 51
        },
        "outputId": "208966f5-7a22-4e37-9a3d-a2421b14aed0"
      },
      "source": [
        "sess = gpt2.start_tf_sess()\n",
        "gpt2.load_gpt2(sess, run_name='run2020')"
      ],
      "execution_count": null,
      "outputs": [
        {
          "output_type": "stream",
          "text": [
            "Loading checkpoint checkpoint/run2020/model-1000\n",
            "INFO:tensorflow:Restoring parameters from checkpoint/run2020/model-1000\n"
          ],
          "name": "stdout"
        }
      ]
    },
    {
      "cell_type": "markdown",
      "metadata": {
        "id": "ClJwpF_ACONp"
      },
      "source": [
        "## Generate Text From The Trained Model\n",
        "\n",
        "After you've trained the model or loaded a retrained model from checkpoint, you can now generate text. `generate` generates a single text from the loaded model."
      ]
    },
    {
      "cell_type": "code",
      "metadata": {
        "id": "4RNY6RBI9LmL",
        "colab": {
          "base_uri": "https://localhost:8080/",
          "height": 122
        },
        "outputId": "6b3c64c0-d9f9-40d3-db9f-43e6cb421e90"
      },
      "source": [
        "gpt2.generate(sess, run_name='run2000')"
      ],
      "execution_count": null,
      "outputs": [
        {
          "output_type": "stream",
          "text": [
            "We have previously reported that in all of the human primary human neuropathology, normal aging was seen in a \"normal\" age group. Normal aging was found in a very elderly population, as is found in Alzheimer's disease and in postmortem neuropathology. The above results are not specific to Alzheimer's disease or senile dementia and will have to be tested in a variety of other neurological disorders in a variety of different cultures.\n",
            "The present study examined the relation of serum levels of apolipoprotein E, apolipoprotein B, apolipoprotein E polymorphism and apolipoprotein E genotype in the non-depressed elderly. The HDL-cholesterol level, apolipoprotein E, apolipoprotein E genotype and apolipoprotein E genotype were significantly reduced in the elderly compared to those in the elderly without Alzheimer's disease. However, there was no significant correlation between  apolipoprotein E genotype and apolipoprotein E genotype as assessed by the apolipoprotein E genotype method. Allelic apolipoprotein E genotype and apolipoprotein E genotype did not significantly differ between the elderly age group and those without Alzheimer's disease. The results suggest that the apolipoprotein E genotype may be a marker of the pathogenesis of Alzheimer's disease.\n",
            "The apolipoprotein E genotype was independent of age or gender in a series of 43 patients with probable Alzheimer's disease (AD). The mean age at onset was 62.8 years. The mean age at onset was 35.6 years in the oldest patients, and the mean age at onset of the remaining groups was 60.3 years. The mean age at onset of the remaining AD patients was 30.2 years and the mean age at onset of the older AD patients was 37.1 years. The mean age at onset of the AD patients was 21.6 years. The mean age at onset of the AD patients was 22.2 years. The mean age at onset of the AD patients was 21.3 years. The mean age at onset of the AD patients was 14.4 years.\n",
            "The diagnosis of dementia was made by the National Institute of Neurologic and Communicative Diseases and Stroke and  Communicative Disorders Association. In  the case of Alzheimer's disease, we have established the presence of the disease with a diagnosis of probable Alzheimer's disease. In the case of Parkinson's disease, we have established the presence of the disease with a diagnosis of probable Parkinson's disease. In the case of Alzheimer's disease, we have established the presence of the disease with a diagnosis of probable Alzheimer's disease.\n",
            "Activated heat shock (AHS) is an early and important histopathological feature of Alzheimer's disease. The brain anatomy of the human  brain contains the following  components: the nucleus basalis of Meynert (NBM), the choroid plexus (CPP), the hippocampus (LB), the amygdala (AM), and the entorhinal cortex (EC). The major component of the NBM is the CA1 region (NAB), which is central to memory formation. It is the area of the NAB where the hippocampus is most vulnerable. Because of the NAB, the NAB is the center of the hippocampus. The hippocampus is also the site of the entorhinal cortex. The NAB is the site of the entorhinal cortex. The NAB comprises the hippocampus, entorhinal cortex, and the entorhinal cortex. The NAB is a neurochemical picture of the cholinergic system of the central nervous system (CNS). The hippocampus is involved, as  are the entorhinal cortex, in the formation of the cholinergic system. The entorhinal cortex is involved, as are the choroid plexus, the amygdala, and the entorhinal cortex. The entorhinal cortex is involved, as are the choroid plexus, the amygdala, and the entorhinal cortex. The choroid plexus/choroid plexus is the most vulnerable region of the NAB. The choroid plexus/choroid plexus is the most vulnerable region of the NAB  and the entorhinal cortex/choroid plexus is the most vulnerable region of the NAB. The more vulnerable region is the entorhinal cortex/choroid plexus. The entorhinal cortex/choroid plexus is the most vulnerable region of the NAB. The choroid plexus/choroid plexus is the most vulnerable region of the NAB and the entorhinal cortex/choroid plexus is the most vulnerable region of the NAB. The choroid plexus/choroid plexus are the most vulnerable regions of the NAB and the entorhinal cortex\n"
          ],
          "name": "stdout"
        }
      ]
    },
    {
      "cell_type": "markdown",
      "metadata": {
        "id": "oF4-PqF0Fl7R"
      },
      "source": [
        "If you're creating an API based on your model and need to pass the generated text elsewhere, you can do `text = gpt2.generate(sess, return_as_list=True)[0]`\n",
        "\n",
        "You can also pass in a `prefix` to the generate function to force the text to start with a given character sequence and generate text from there (good if you add an indicator when the text starts).\n",
        "\n",
        "You can also generate multiple texts at a time by specifing `nsamples`. Unique to GPT-2, you can pass a `batch_size` to generate multiple samples in parallel, giving a massive speedup (in Colaboratory, set a maximum of 20 for `batch_size`).\n",
        "\n",
        "Other optional-but-helpful parameters for `gpt2.generate` and friends:\n",
        "\n",
        "*  **`length`**: Number of tokens to generate (default 1023, the maximum)\n",
        "* **`temperature`**: The higher the temperature, the crazier the text (default 0.7, recommended to keep between 0.7 and 1.0)\n",
        "* **`top_k`**: Limits the generated guesses to the top *k* guesses (default 0 which disables the behavior; if the generated output is super crazy, you may want to set `top_k=40`)\n",
        "* **`top_p`**: Nucleus sampling: limits the generated guesses to a cumulative probability. (gets good results on a dataset with `top_p=0.9`)\n",
        "* **`truncate`**: Truncates the input text until a given sequence, excluding that sequence (e.g. if `truncate='<|endoftext|>'`, the returned text will include everything before the first `<|endoftext|>`). It may be useful to combine this with a smaller `length` if the input texts are short.\n",
        "*  **`include_prefix`**: If using `truncate` and `include_prefix=False`, the specified `prefix` will not be included in the returned text."
      ]
    },
    {
      "cell_type": "code",
      "metadata": {
        "id": "8DKMc0fiej4N",
        "colab": {
          "base_uri": "https://localhost:8080/",
          "height": 326
        },
        "outputId": "4e8334ea-29c5-4200-a75a-cb48dbd2b39f"
      },
      "source": [
        "gpt2.generate(sess, run_name='run2000',\n",
        "              length=250,\n",
        "              temperature=0.7,\n",
        "              prefix=\"Alzheimer's disease is caused by\",\n",
        "              nsamples=5,\n",
        "              batch_size=5\n",
        "              )"
      ],
      "execution_count": null,
      "outputs": [
        {
          "output_type": "stream",
          "text": [
            "Alzheimer's disease is caused by a highly selective neurodegenerative process. Therefore, the mechanism of amyloid deposition and progression  is a multifaceted, multi-system biology.\n",
            "The effect of the apolipoprotein E4 receptor antagonist, apolipoprotein E4, on the activity of an immunohistochemical assay for the carboxyl-terminal domain of the apolipoprotein E4 receptor was examined in postmortem human brain. The presence of a high concentration of the apolipoprotein E4 receptor was also observed in the cerebral cortex. There was a striking effect on the level of the apolipoprotein E4 receptor binding to the apolipoprotein E4 receptor. In contrast, the binding of the apolipoprotein E4 receptor was not altered in the cerebral cortex in the frontal cortex or in the temporal cortex. These findings suggest that apolipoprotein E4 receptor activation is an important part of the apolipoprotein E4 receptor system.\n",
            "The amiridin-responsive protein family was identified from the parietal and temporal cortex of the infant rat brain. A beta-protein  fragment, the beta-protein of which is expressed in the galanin-responsive protein family, was found\n",
            "====================\n",
            "Alzheimer's disease is caused by genetic mutation of the apolipoprotein E gene in humans. The apoE2 allele is a risk factor for the disease; therefore, we cannot exclude an association between the apoE2 allele and the disease. There are several studies suggesting that the apoE2 allele is a risk factor for the disease. However, these may be of a delay or have no effect on the age at onset. The other risk factors for the disease include the risk of hypertension and cardiovascular disease, and the presence of a familial form of Alzheimer's disease. Furthermore, the apoE2 allele is a risk factor for the disease in an earlier age at onset.\n",
            "Alzheimer's disease (AD) is a progressive neurodegenerative disorder that results in progressive memory impairment, language disturbance, and slowing of cognitive processing. The disorder is characterized by  a progressive loss of cognitive functions, with major impairments in the ability to understand and to perform complex tasks in the absence of specific cognitive impairment. Although the disease has been classified into three types (multi-infarct, multi-infarct multi-infarct, and multi-infarct multi-infarct), the  clinical and neuropathologic features that distinguish\n",
            "====================\n",
            "Alzheimer's disease is caused by a genetic mutation in the presenilin-1 gene. The vulnerability of APP to apoptosis is known to be mediated by a specific gene called presenilin-2. The expression of presenilin-2 strongly increases in the brain of the mice overexpressing APP. This is in contrast to the homeostatic effects of APP, which is expressed by neurons, in the brains of patients with Alzheimer's disease. Presenilin-2 is also expressed in the brain of patients with cerebrovascular disease. The expression of presenilin-2 in the brain of patients with vascular dementia may reflect the hypothalamic-pituitary-adrenal axis.\n",
            "Many studies have shown that amyloid beta-peptide (A beta) is released from the beta-end-peptide (beta-AP) pathway in a variety of tissues, including brain. A beta is released as a soluble protein found in the amyloid beta-peptide (A beta) protein depositions during the development of the amyloid deposits. In this study, we examined whether A beta production by the soluble A beta precursor protein (APP) interacts with the soluble A beta precursor protein\n",
            "====================\n",
            "Alzheimer's disease is caused by an imbalance in the depletion of biologically active hydroxyl radical energy in the brain. This energy imbalance leads to the dysfunction of the phytohemagmin pathway, which is the primary pathologic process in Alzheimer's disease; this process is disturbed in several brain regions, including the hippocampus, the  prefrontal cortex, and the hypothalamus. In addition, the amyloid-beta peptide, a major component of the senile plaques which accumulate in the brains of Alzheimer's disease patients, is also  found to be depleted in the brain in response to excitotoxic insults. Thus, potential mechanisms of the phosphomonoester system in brain are elucidated.\n",
            "The A beta peptide (A beta) is the principal constituent of amyloid plaques in Alzheimer's disease which are composed primarily of the beta A4 peptide. The A beta peptide is deposited in paraffin-embedded cerebral microvessels, and it is localized as secretory amyloid precursor protein (APP). A beta peptide is a multipolar proteolytic marker of APP processing and secretion. A beta peptide is resistant to proteolysis and is less able to break down the amyloid beta peptide.\n",
            "====================\n",
            "Alzheimer's disease is caused by genetic factors. The genetic influence of the amyloid beta-peptide is discussed in this paper.\n",
            "Apolipoprotein E (apoE) is a cholesterol-lowering protein found in the brain,  and its role in the regulation of the blood pressure is unknown. Overexpression of apoE by the human apoE4 allele was shown to be an important risk factor in Alzheimer's disease, and previously expressed apoE was shown to be a risk factor for the development of Parkinson's disease, depression, and Alzheimer's disease. The apoE gene was previously shown to be a risk factor for late-onset Alzheimer's disease and is likely to be important in the pathogenesis of these diseases. However, apoE4, a polymorphic apoE4 gene, was not detected in the serum of normal individuals. We now report that the dosage of the apoE4 allele in serum is not associated with the development of Alzheimer's disease. The study also found a significant positive interaction between the apoE4 allele and apoE4 in the development of Alzheimer's disease.\n",
            "The apolipoprotein E (apoE) isoform is a necessary substrate for the normal\n",
            "====================\n"
          ],
          "name": "stdout"
        }
      ]
    },
    {
      "cell_type": "code",
      "metadata": {
        "id": "iaEID7bsRsg7",
        "colab": {
          "base_uri": "https://localhost:8080/",
          "height": 241
        },
        "outputId": "845f78ab-ef3c-4243-d117-2348b2e27e65"
      },
      "source": [
        "gpt2.generate(sess, run_name='run2000',\n",
        "              length=50,\n",
        "              temperature=0.7,\n",
        "              prefix=\"Alzheimer's disease is caused by\",\n",
        "              nsamples=5,\n",
        "              batch_size=5\n",
        "              )"
      ],
      "execution_count": null,
      "outputs": [
        {
          "output_type": "stream",
          "text": [
            "Alzheimer's disease is caused by a genetic mutation that results in a mutation that causes the presenilin-1 (PS1) gene to encode an APP fragment which is expressed in the brains of Alzheimer's disease patients. In this study, we demonstrate that the PS1 gene\n",
            "====================\n",
            "Alzheimer's disease is caused by mutations of the genes encode for the beta-amyloid precursor protein (APP) gene located on chromosome 21. The mutations are also responsible for the  common form of the disease.\n",
            "The neuropathologic features of the Alzheimer's disease (AD\n",
            "====================\n",
            "Alzheimer's disease is caused by the accumulation of beta-amyloid peptide in the brains of individuals with Alzheimer's disease. A cytokine response to protect against this beta-amyloid peptide accumulation may be required for the onset of the disease.\n",
            "The hypothalamic\n",
            "====================\n",
            "Alzheimer's disease is caused by a genetic defect in the amyloid precursor protein (APP). APP is thought to be defective in humans because of its early activity. To date, the APP gene has been reported to have been used as a locus for early onset familial Alzheimer's\n",
            "====================\n",
            "Alzheimer's disease is caused by the  excessive production of beta A peptide. These two peptides are \"beta A\" peptides present as  soluble, adenoids and, in addition, beta A peptides which are insoluble, and beta A peptides which are\n",
            "====================\n"
          ],
          "name": "stdout"
        }
      ]
    },
    {
      "cell_type": "code",
      "metadata": {
        "id": "hU7-XKbIO3jn",
        "colab": {
          "base_uri": "https://localhost:8080/",
          "height": 258
        },
        "outputId": "04634d24-e911-46d4-808e-095109d8a8e9"
      },
      "source": [
        "gpt2.generate(sess, run_name='run2010',\n",
        "              length=250,\n",
        "              temperature=0.7,\n",
        "              prefix=\"Alzheimer's disease is caused by\",\n",
        "              nsamples=5,\n",
        "              batch_size=5\n",
        "              )"
      ],
      "execution_count": null,
      "outputs": [
        {
          "output_type": "stream",
          "text": [
            "Alzheimer's disease is caused by mutations in the presenilin-1 gene. We have shown previously that the presenilin 1 gene is present in the brain of a transgenic mouse expressing AD-associated amyloid beta (Abeta) plaques. We have now shown that the presenilin 1 gene is associated with neurotrophic  and neuroprotective effects in  a transgenic mouse model of AD. We have also shown that presenilin 1 gene expression is associated with a reduction in the levels of cytokines and proinflammatory cytokines in AD brains. Our results provide a novel mechanism by which presenilin 1 gene expression might mediate neurotrophic and neuroprotective effects of Abeta peptide.\n",
            "Glycogen synthase kinase-3beta (GSK-3beta) is a member of the putative primary cell-associated protein kinase that cleaves and aggregates the paired helical filaments (PHF) related to Alzheimer's disease. While GSK-3beta has been shown to be a member of the so-called filamentous protein kinase family, the central role of GSK-3beta in GSK-3beta aggregation has been somewhat unclear. Here, we have examined\n",
            "====================\n",
            "Alzheimer's disease is caused by a combination of genetic and environmental factors. The etiology of Alzheimer's disease is complex and involves a number of brain systems and, in particular, its deposition in the brain, the neuronal and synaptic connections. The protein and tissue found in the brains of patients and their families are identical to those of patients with Alzheimer's disease. Age-related changes in the brain, such as loss of nicotinic acetylcholine receptors, are also related to the neurodegeneration in Alzheimer's disease. The major pathological changes are the formation of the amyloid plaques, Alzheimer's disease-like neurofibrillary tangles and beta-amyloid plaques. Alzheimer's disease often causes a neuronal degeneration, such as Alzheimer's disease-like protein deposits, and the loss of the basal forebrain cholinergic neurons is associated with the formation of amyloid deposits. This is the main pathological feature in Alzheimer's disease. Abnormal protein deposits, such as the collagen-associated beta-amyloid plaques, are the major pathological features in Alzheimer's disease. The clinical and pathological features of Alzheimer's disease are similar to those of the other senile dementia  and Alzheimer's disease. The distribution of the amyloid\n",
            "====================\n",
            "Alzheimer's disease is caused by the accumulation of amyloid-beta-peptides (Abeta) in the brain of patients with Alzheimer's disease (AD). Despite the recent discovery of Abeta monomers in the brain of patients with AD, the mechanism by which Abeta accumulates and its ability to form plaques and neurofibrillary tangles in AD remains controversial. We investigated the effect of a low-fat diet on plaque formation in AD. Western blot analysis of the plaque formation and Abeta deposition in the brain demonstrated that Abeta was generated in the presence of a low-fat diet. The present results suggest that the low-fat diet might be beneficial for the prevention and treatment of AD.\n",
            "Schizophrenia (SAD) is the most common cause of dementia in the elderly. In the previous years, a number of anticholinesterase drugs have been developed to treat schizophrenia. In this review, we review the current state of the field and possible directions for future research.\n",
            "The amyloid (Abeta) peptide is a key component of senile plaques in Alzheimer's disease (AD) and, more recently, in the Huntington's disease (HD). The localization of the Abeta peptide in brains of\n",
            "====================\n",
            "Alzheimer's disease is caused by an abnormal deposition of beta-amyloid plaques. A growing body of evidence suggests that beta-amyloid is produced by the extracellular beta-amyloid  peptides, which have been implicated in an important role in the pathogenesis of Alzheimer's disease. However, the precise mechanisms of Abeta deposition are not clear. In the present study, we investigated the effect of pretraining  Tg2576 cells, a model of Alzheimer's disease, on the pathogenesis of Alzheimer's disease. Pretraining by Tg2576 cells transiently induced tau hyperphosphorylation and in vitro expression of the ubiquitin-proteasome system. Immunoblotting of Abeta(1-40) and tau(1-42) peptides was performed to compare the effect of pretraining Tg2576 cells and wild-type cells on Abeta(1-40) and tau(1-42) plaques. Pretraining cells displayed increased levels of tau(1-42) and tau(1-42) peptides. Pretraining cells generated tau(1-42) but not tau(1-42) plaques, indicating that pret\n",
            "====================\n",
            "Alzheimer's disease is caused by a progressive loss of cholinergic neurons and the loss of presynaptic terminals in the substantia nigra,  the major source of neuronal activity in the brain. Cholinergic deficits are associated with impaired memory and learning in the hippocampus of Alzheimer's disease.  The most  common course of cholinergic dysfunction in Alzheimer's disease is the formation of wild-type, non-nucleus-cholinergic cells that are expressed exclusively in the substantia nigra and possess presynaptic terminals. The cholinergic system in Alzheimer's disease is not dependent on the presence or absence of presynaptic terminals.  It is not detectable in normal or diseased subjects and it is not detectable in Alzheimer's disease. The lack of a loss of presynaptic terminals suggests that presynaptic terminals, which are thought to be critical for memory, are of higher commonality with other neurons in the substantia nigra. In the absence of presynaptic terminals, there is no discernible loss of presynaptic neuronal activity, which is characteristic of Alzheimer's disease. In contrast, presynaptic terminals are found in the substantia nigra and possess cortex and subiculum terminals, and the subiculum terminal is characterized\n",
            "====================\n"
          ],
          "name": "stdout"
        }
      ]
    },
    {
      "cell_type": "code",
      "metadata": {
        "id": "T-1IgxPLQaW8",
        "colab": {
          "base_uri": "https://localhost:8080/",
          "height": 224
        },
        "outputId": "d3c249de-bc8c-4ecb-8ee3-edfd76b132ff"
      },
      "source": [
        "gpt2.generate(sess, run_name='run2010',\n",
        "              length=50,\n",
        "              temperature=0.7,\n",
        "              prefix=\"Alzheimer's disease is caused by\",\n",
        "              nsamples=5,\n",
        "              batch_size=5\n",
        "              )"
      ],
      "execution_count": null,
      "outputs": [
        {
          "output_type": "stream",
          "text": [
            "Alzheimer's disease is caused by a combination of genetic, environmental, and medical factors. Here, we review the current state of the knowledge regarding the etiology and pathogenesis of AD.\n",
            "Alzheimer's disease (AD) is a progressive disorder that is characterized by progressive and\n",
            "====================\n",
            "Alzheimer's disease is caused by vitamin B12 deficiency and vitamin B-12 deficiency exacerbated many  neurodegenerative disorders including Alzheimer's disease. The vitamin B-12 deficiency is an  integral part of the production of oxidative stress and the maintenance of the brain. Vitamin B-\n",
            "====================\n",
            "Alzheimer's disease is caused by abnormal processing of amyloid precursor protein (APP), a key component of the amyloid plaques found in the brain, in which the beta-amyloid (Abeta) peptide  has recently been detected to be the primary pathological\n",
            "====================\n",
            "Alzheimer's disease is caused by a complex neurodegenerative process that includes  the conversion of beta-amyloid (Abeta) to soluble Abeta (Abeta(1-40)]. The two peptide fragments undergo normal synthesis by degradation, which is the consequence of\n",
            "====================\n",
            "Alzheimer's disease is caused by oxidative damage to the cell surface.  Vitamin E, a major component of Vitamin E supplements, also lowers the levels of total cholesterol and the levels of total amyloid-beta  peptide (Abeta) (42). These findings suggest that\n",
            "====================\n"
          ],
          "name": "stdout"
        }
      ]
    },
    {
      "cell_type": "code",
      "metadata": {
        "id": "P9zUvwnobaS2",
        "colab": {
          "base_uri": "https://localhost:8080/",
          "height": 258
        },
        "outputId": "cf3a93ae-30ec-4d2a-aef2-35df0733e222"
      },
      "source": [
        "gpt2.generate(sess, run_name='run2020',\n",
        "              length=250,\n",
        "              temperature=0.7,\n",
        "              prefix=\"Alzheimer's disease is caused by\",\n",
        "              nsamples=5,\n",
        "              batch_size=5\n",
        "              )"
      ],
      "execution_count": null,
      "outputs": [
        {
          "output_type": "stream",
          "text": [
            "Alzheimer's disease is caused by an imbalance between  synaptic and cholinergic precursors. We have previously shown that the density of the cholinergic precursors is reduced in the hippocampus of mice suffering from AD (p = 0.04). Here, we investigated the effects of apolipoprotein E (apoE) on the hippocampal cholinergic precursors by binding them with the PG-2A2-R yamikit, an apolipoprotein E (apoE)-deficient mouse model. The interaction of apoE with the PG-2A2-R yamikit reduced the volume of the hippocampal cholinergic precursors (p = 0.04) and the  dentate gyrus (p = 0.04) in the mouse model, and induced a decrease in the density of the hippocampal cholinergic precursors (p < 0.05). These results revealed that apoE-mediated cholinergic dysfunction in the hippocampus is caused by an imbalance between the cholinergic precursors and the PG-2A2-R yamikit. In addition, apoE-mediated cholinergic dysfunction in the hippocampal cholinergic precurs\n",
            "====================\n",
            "Alzheimer's disease is caused by the accumulation of toxic  proteins, which are known to play a role in the pathogenesis of the disease. In this paper, we summarize the current knowledge regarding the role of the protein-protein interaction in the pathogenesis of Alzheimer's disease. We also discuss the biochemical and clinical implications of the interaction, considering that involved in the proteolytic processing of the protein-protein interaction is a redox-insoluble proteolytic pathway, which has been implicated in the pathology of Alzheimer's disease.\n",
            "The beta-amyloid peptide, expressed in a transmembrane region of the apolipoprotein E (apoE) epsilon4 allele, has been implicated in the pathogenesis of Alzheimer's disease (AD). In this study, we used a novel, high-throughput, double-molecule [3H]polymerase chain reaction (PCR) method to identify the beta-amyloid peptide and the apoE epsilon4 allele in two transgenic mouse models of AD. The enzyme, which is activated in AD mouse, was expressed in the apoE epsilon4/apoE epsilon4/apoE epsilon3/apoE\n",
            "====================\n",
            "Alzheimer's disease is caused by defective protein processing of amyloid precursor protein (APP) and deposition of the amyloid precursor protein in the brains of transgenic mice. Interestingly, APP is a key player in the pathogenesis of Alzheimer's disease. APP is a major player in the pathogenesis of amyloidosis in neurons and it is involved in the regulation of neuronal cell cycle and synaptic plasticity. It is also the major player in the neuroinflammatory process and plays a critical role in  our understanding  of the pathogenesis of neurofibrillary changes and their role in the neurodegenerative process. APP is a potential candidate for treatment of Alzheimer's disease because it has demonstrated  clinical benefits in animal models. APP is a polypeptide that seems to be intimately linked with the development of neurofibrillary diseases such as Alzheimer's, Parkinson's and Huntington's diseases. In this review, we have briefly reviewed the role of APP in the neurodegenerative process and its potential therapeutic potential.\n",
            "The structure and function of calcineurin are key  in the well-known role of calcineurin in the management of Alzheimer's disease. We have previously shown that the presence of calcineurin in the brain of normal elderly\n",
            "====================\n",
            "Alzheimer's disease is caused by a neuritic protein called amyloid-beta. Amyloid-beta is a neurotoxic polypeptide that is present in amyloid-beta plaques. The amyloid-beta protein is produced by the intracellular accumulation of amyloid-beta in neurons.  Amyloid-beta also causes neurodegeneration, neurotoxicity, and neuroinflammation. Amyloid-beta has been implicated in several neurodegenerative diseases, including Alzheimer's disease, Parkinson's disease, amyotrophic lateral sclerosis, and amyotrophic lateral sclerosis. Amyloid-beta is found in brain parenchyma, cerebral ischemia, and ischemia of the brain. Amyloid-beta has been found in several neurodegenerative diseases, including Alzheimer's disease and Parkinson's disease. Inhibitors of amyloid-beta have  been proposed as potential therapeutic agents for neurodegenerative diseases, especially Alzheimer's disease. Here we report the identification of two novel inhibitors of amyloid-beta, Thioflavin-1 and Thioflavin-3. We furthermore report the identification of these two inhibitors of amyloid-beta as potential agents for the\n",
            "====================\n",
            "Alzheimer's disease is caused by a mutation in the gene for beta-amyloid (A beta) that predisposes to the development of senile plaques. The mutations in the allele for A beta (A beta) cause post-translational modifications that cause the accumulation of Abeta plaques. The mutation causes Abeta to form aggregated plaques, the most prominent of which is the large-branching protein, that is packed in the outermost compartment of Abeta. Interestingly, the plaques are composed of a combination of the two alleles. Through the regulation of the beta-amyloid protein  and the regulation of the beta-secretase enzyme, Abeta plaques are able to form in vitro and in vivo. The aggregation activity of Abeta plaques occurs through the interaction of the two proteins and the binding sites of the beta-secretase enzyme. The hyperphosphorylation of the beta-secretase is a common feature of Alzheimer's disease and correlates with the aggregation defects. Our findings suggest that Abeta aggregation may be a crucial process  in the process of Abeta aggregation.\n",
            "The beta-amyloid precursor protein (beta-APP) is a member of the amyloid precursor protein family with the\n",
            "====================\n"
          ],
          "name": "stdout"
        }
      ]
    },
    {
      "cell_type": "code",
      "metadata": {
        "id": "c1B-Fb9ubdfR",
        "colab": {
          "base_uri": "https://localhost:8080/",
          "height": 224
        },
        "outputId": "888dd3ed-3d3f-4195-9191-7289fd3130f6"
      },
      "source": [
        "gpt2.generate(sess, run_name='run2020',\n",
        "              length=50,\n",
        "              temperature=0.7,\n",
        "              prefix=\"Alzheimer's disease is caused by\",\n",
        "              nsamples=5,\n",
        "              batch_size=5\n",
        "              )"
      ],
      "execution_count": null,
      "outputs": [
        {
          "output_type": "stream",
          "text": [
            "Alzheimer's disease is caused by an accumulation of amyloid-beta protein. A chaperone identified by the first gene (SC18B) is required for the clearance of amyloid-beta, and is now the preferred chaperone for amyloid-beta\n",
            "====================\n",
            "Alzheimer's disease is caused by  mutations in the APP gene. We present the results of a  systematic review and an analysis of the literature on the pathomechanism of Alzheimer's disease, focusing on the role of the APP gene in the pathogenesis of the disease. We\n",
            "====================\n",
            "Alzheimer's disease is caused by the growing burden of neurodegenerative and inflammatory diseases. This article  discusses the current state of knowledge in the field of neuroinflammation and its potential therapeutic implications.\n",
            "BACKGROUND: The mechanisms that regulate the polymerization of amyloid beta\n",
            "====================\n",
            "Alzheimer's disease is caused by mutations in the amyloid precursor protein (APP) gene. The disease can be classified into two main types: sporadic, and rarer. The sporadic cases are those with a high risk of Alzheimer's disease, no known mutations and no known risk\n",
            "====================\n",
            "Alzheimer's disease is caused by oxidative stress and is hyper-oxidative. This is the first proposed mechanism of the disease. A recent study showed that the following oxidative stress  factors are also risk factors for the development of Alzheimer's disease. It seems that oxidative stress factors are\n",
            "====================\n"
          ],
          "name": "stdout"
        }
      ]
    },
    {
      "cell_type": "code",
      "metadata": {
        "id": "aEZv9SL6bFqR",
        "colab": {
          "base_uri": "https://localhost:8080/",
          "height": 343
        },
        "outputId": "6a8770fe-8941-4bc1-fa5e-2714529377b7"
      },
      "source": [
        "gpt2.generate(sess, run_name='run2000',\n",
        "              length=250,\n",
        "              temperature=0.7,\n",
        "              prefix=\"Alzheimer's disease should be treated with\",\n",
        "              nsamples=5,\n",
        "              batch_size=5\n",
        "              )"
      ],
      "execution_count": null,
      "outputs": [
        {
          "output_type": "stream",
          "text": [
            "Alzheimer's disease should be treated with cholinesterase inhibitors.\n",
            "1. The ability of a cholinergic factor, choline acetyltransferase (ChAT), to treat Alzheimer's disease (AD), is unclear. 2. The cholinergic hypothesis has been based on the hypothesis that cholinergic mechanisms of action are intact in AD and,  in addition to their function in the normal aging process, the hypothesis that cholinergic mechanisms of action in AD are intact. 3. A number of studies have shown that a cholinergic neurotransmitter, choline acetyltransferase (ChAT), can reverse the destruction of acetylcholine (ACh), a cholinergic neurotransmitter. 4. Recently, choline acetyltransferase (ChAT) inhibitors, eicosapentaenoic acid (EPA), can have an effect on acetylcholine release from plasma or from cholinergic neurons of the central nervous system (CNS). 5. The role of ChAT in the prevention, treatment, and prevention of AD is unclear. 6. To clarify whether ChAT is an effective treatment  for AD, we have analyzed ChAT activity in the cerebellum and hippocampus in Alzheimer's disease (AD) patients. 7\n",
            "====================\n",
            "Alzheimer's disease should be treated with tacrine or muscarinic agonists. A possible treatment strategy for dementia is to increase the amount of acetylcholine available to the brain in the treatment of the disease. From an understanding of the role of acetylcholine in the central nervous system, the development of a treatment strategy could be a very useful means of improving the quality of life for patients with dementia.\n",
            "Apolipoprotein E (apoE) is a large protein low in free amino acid (FA) and it is a major constituent of the apolipoprotein E gene (APOE) genotype and epsilon4 allele. ApoE is also related to the  apolipoprotein E4 allele in two other human diseases, Alzheimer's disease (AD), and vascular dementia. In this study, we investigated the association of apoE genotype with the number of incident cases of AD, vascular dementia, and chronic renal failure (CVD). We found no association between  apoE genotype and the number of incident cases of CVD. There was no evidence of an association of apoE genotype with the number of incident cases of AD, vascular dementia, and chronic renal failure (CVD). ApoE was also\n",
            "====================\n",
            "Alzheimer's disease should be treated with pharmacological treatment.\n",
            "Alzheimer's disease is a multifaceted, multi-infarct dementia that is a contributory cause of dementia. The neuropathologic findings of the neuropathologic and clinical trials of the anticonvulsant anticonvulsants are the most complete and reliable in demonstrating the clinical and neurochemical characteristics of Alzheimer's disease and its etiology. More so, the clinical and neuropathologic investigations that have been carried out on the clinical and neurochemical basis of Alzheimer's disease are the most fruitful in showing the etiology of the disease and its pathogenesis.\n",
            "We now report that the SOD-1 antigen is expressed in the cerebral cortex of individuals with AD. The effect of SOD-1 on SOD-1 mRNA expression is discussed and tested.\n",
            "The immunohistochemical features of senile plaques in the brains of patients with Alzheimer's disease are examined in comparison with those in the brains of subjects with other dementing disorders. In particular, the plaques were found to be composed of a large number of paired helical filaments (PHF), different in shape and density from those of the PHF in normal and AD brains. The density of PHF in the\n",
            "====================\n",
            "Alzheimer's disease should be treated with the same dosage of amyloid precursor protein.\n",
            "An international investigation was performed in the Central African Republic  to assess the prevalence of dementia in the population aged 65 years or more. The study was designed to examine the prevalence of dementia in the population aged 65 years or more over a period of 3.5 years. Twenty-four cases of dementia in the population aged 65 years or more were compared to 20 cases of dementia in the population aged 60 years or more over a period of 3.5 years. The prevalence had no significant effect on age, education, sex, age at death, or the extent of education. There was no difference in the prevalence of dementia among the population aged 60 years or more over a period of 3.5 years. There was no difference in the prevalence of dementia in the population aged 60 years or more over a period of 3.5 years among the population aged 60 years or more over a period of 2.5 years. The prevalence of dementia did not differ across the disease stages.\n",
            "The last of the periodic table (PDS) documents the distribution of mental status in the population aged 65 years or more. Mental status has been measured in a relatively large number of people in a number of different countries.\n",
            "====================\n",
            "Alzheimer's disease should be treated with SMA.\n",
            "OBJECTIVE: To study the influence of the Alzheimer Disease Assessment Scale (ADAS) and the family history of the diagnosis of senile dementia of the Alzheimer type (SDAT) on the level of education in a sample of AD patients. DESIGN: A survey of the family history of the diagnosis of senile dementia of the Alzheimer type (SDAT) and the family history of the diagnosis of SDAT was conducted by telephone interviews. SETTING: The Study is a prospective study of the development of a diagnostic test battery for the diagnosis of SDAT. PARTICIPANTS: Two hundred and fifty-one patients  age 65 years and older, with an average age of 66.7 years were followed for 2 1/2 years. The sample consisted of 55 patients diagnosed as suffering from PD or Alzheimer disease, and the family history of the diagnosis of SDAT was examined prospectively in a multivariate model. INTERVENTION: On the basis of  age and family history of the diagnosis of SDAT, the ADAS and the family history of SDAT were administered to the patients. RESULTS: The ADAS score was significantly lower among the patients with  SDAT than among the patients with  PD\n",
            "====================\n"
          ],
          "name": "stdout"
        }
      ]
    },
    {
      "cell_type": "code",
      "metadata": {
        "id": "Ql5vjo7ARvW5",
        "colab": {
          "base_uri": "https://localhost:8080/",
          "height": 275
        },
        "outputId": "06f70000-1792-4e26-cef2-5a059509f4c7"
      },
      "source": [
        "gpt2.generate(sess, run_name='run2000',\n",
        "              length=50,\n",
        "              temperature=0.7,\n",
        "              prefix=\"Alzheimer's disease should be treated with\",\n",
        "              nsamples=5,\n",
        "              batch_size=5\n",
        "              )"
      ],
      "execution_count": null,
      "outputs": [
        {
          "output_type": "stream",
          "text": [
            "Alzheimer's disease should be treated with low doses of tacrine, but at higher doses.\n",
            "We report a case of A beta-pleated sheet-like structures in the anterior part of the hippocampus of a patient with Alzheimer's disease, who had a severe memory disturbance and memory loss\n",
            "====================\n",
            "Alzheimer's disease should be treated with antipiracy, as it has been successfully shown without it to worsen the symptoms of Alzheimer's disease. The treatment of Alzheimer's disease is more complicated when the disease is not treated with antipiracy and when the disease is treated with antipiracy\n",
            "====================\n",
            "Alzheimer's disease should be treated with the drug ABT, which has been shown to affect cognition, memory and intellectual function.\n",
            "Abnormal gene expression in Alzheimer's disease has been found to be marked in the cerebellum, which is characterized by a high level of the apol\n",
            "====================\n",
            "Alzheimer's disease should be treated with a combination of the multisystemic approach and the  multidisciplinary approach.\n",
            "The beta-amyloid precursor protein (beta AP) is a major component of the amyloid deposits found in the senile plaques of Alzheimer's\n",
            "====================\n",
            "Alzheimer's disease should be treated with a selective, non-drug therapy. New strategies, including selective and non-selective cathepsin B inhibitors, may be developed in the near future.\n",
            "We report the results of a study  of the association between memory and learning and\n",
            "====================\n"
          ],
          "name": "stdout"
        }
      ]
    },
    {
      "cell_type": "code",
      "metadata": {
        "id": "EYfiK-QRPHCs",
        "colab": {
          "base_uri": "https://localhost:8080/",
          "height": 343
        },
        "outputId": "86d02991-41d1-400f-9827-aea2909f90fd"
      },
      "source": [
        "gpt2.generate(sess, run_name='run2010',\n",
        "              length=250,\n",
        "              temperature=0.7,\n",
        "              prefix=\"Alzheimer's disease should be treated with\",\n",
        "              nsamples=5,\n",
        "              batch_size=5\n",
        "              )"
      ],
      "execution_count": null,
      "outputs": [
        {
          "output_type": "stream",
          "text": [
            "Alzheimer's disease should be treated with anti-inflammatory drug, ibuprofen, which improves the effects of ibuprofen on the inflammatory response. The compound ibuprofen is also found to reduce the rate of  neuronal apoptosis in Alzheimer's disease and to increase the survival of microglia cells.\n",
            "The authors report the development of a novel, novel, active antihealing agent that may be useful as a means of blocking the induction of apoptosis in the brain. The drug combination (ICR) A2805 and A2806 are able to inhibit the induction of neuronal apoptosis in patients with the Alzheimer's disease (AD). This Anti-apoptotic Antibody has been demonstrated to be effective as a treatment for AD and other neurodegenerative disorders.\n",
            "An investigation of cytochrome P450 (CYP450) related molecules was performed in the present study. The results show that CYP450 is positively related to Alzheimer's disease (AD) and that the C-terminal fragment C695 is related to the disorder. These results suggest that the C-terminal fragment C695 is a critical component of the C-terminal  sequence of the C-terminal  region of the C-terminal portion of\n",
            "====================\n",
            "Alzheimer's disease should be treated with caution. The clinical manifestations  of Alzheimer's disease are not always well defined. A diagnosis of probable Alzheimer's disease should be made by a clinician with clinical criteria for Alzheimer's disease. The diagnosis of Alzheimer's disease may be difficult in the early stages, especially in those who do not have a high level of education. There is no cure for Alzheimer's disease.\n",
            "OBJECTIVE: To determine whether there is a relationship between the number of novel cases of Alzheimer's disease and the age of the patient. METHODS: Two hundred and twelve patients with probable Alzheimer's disease and a total of 101 patients with probable Alzheimer's disease were included in this study. The number of novel cases of Alzheimer's disease and the age of the patient were determined by comparing the number of patients with probable Alzheimer's disease with that of the complete cohort. The number of novel cases of Alzheimer's disease was calculated by dividing the number of patients with probable Alzheimer's disease by the number of patients with probable Alzheimer's disease. RESULTS: The number of novel cases of Alzheimer's disease was significantly higher in patients with probable Alzheimer's disease compared with those with probable Alzheimer's disease (p less than 0.001). The number of novel cases of Alzheimer's disease was\n",
            "====================\n",
            "Alzheimer's disease should be treated with caution, particularly in patients with severe dementia of the Alzheimer type.\n",
            "PURPOSE: To examine the relationship between gene expression in the cortical and entorhinal cortex across the normal and Alzheimer's disease (AD) groups. METHODS: A total of 1010 patients with AD (mean age: 71.0 years; range: 70-87 years) with normal and mild cognitive impairment (mean age: 77.0 years; range: 77-83 years) (n=133) and AD (mean age: 72.0 years; range: 73-79 years) (n=143) were studied. RESULTS: In the normal group, gene expression was decreased in the entorhinal cortex (P=0.004, equal to 0.11). In the AD group, gene expression was increased relative to that in the normal group (P=0.005, equal to 0.14). No significant differences in gene expression were found in the Alzheimer's group compared to the normal group. CONCLUSION: The association between gene expression in the entorhinal cortex and the AD group is not consistent with the association between gene expression in the entorhinal cortex and the normal group.\n",
            "BACK\n",
            "====================\n",
            "Alzheimer's disease should be treated with caution. Further studies are needed to clarify the role of converging pathogenic factors, including fibril formation, in the pathogenesis of Alzheimer's disease.\n",
            "OBJECTIVE: To determine if institutionalized patients with Alzheimer's disease (AD) have a more significant improvement of cognitive function over time than patients with other dementias. BACKGROUND: Baseline cognitive function measures are based on measures of executive functioning and memory. The aim was to determine whether the results of memory tests can be used to discriminate AD from other dementias. METHODS: Twenty-seven institutionalized patients with AD, who were randomly assigned to two groups, were examined by two cognitively normal volunteers, and the comparison group was identified using neuropsychological tests. The cognitive test scores were compared with those obtained from a group of other dementia patients. RESULTS: Compared with the comparison group, the cognitive test scores were significantly improved in the comparison group when the comparison group was in the treatment group. CONCLUSIONS: This study demonstrates the effect of  institutionalization on memory testing performance.\n",
            "The aim of this study was to evaluate the efficacy of tacrine in the treatment of patients with dementia of the Alzheimer type (DAT). New data were obtained from a six\n",
            "====================\n",
            "Alzheimer's disease should be treated with  a high dose of nonsteroidal anti-inflammatory drugs (NSAIDs). Recently, we demonstrated that the short form of beta-amyloid (Abeta) peptide, produced in the brain-blood buffer fraction, is able to bind the amyloid beta-peptide, Abeta(1-42) peptide, and the amyloid beta-peptide to induce apoptotic growth in wild-type mouse astrocytes. These results strongly support the hypothesis that Abeta(1-42) is a key factor in the pathogenesis of Alzheimer's disease.\n",
            "Oxidative stress is involved in the pathogenesis of Alzheimer's disease (AD). Recent studies have shown a strong association between oxidative stress and the development of AD. In the present study, we employed the antioxidant vitamin B12, a member of the vitamin B12-rich group of vitamin B12, to investigate the neuroprotective effects of vitamin B12 against oxidative stress. We conclude that this vitamin B12-rich vitamin B12 interacts with the cytochrome P450 system to exert the antioxidant effect on the brain  and neuroblasts. In addition, we found that this vitamin B12-rich antioxidant is able to\n",
            "====================\n"
          ],
          "name": "stdout"
        }
      ]
    },
    {
      "cell_type": "code",
      "metadata": {
        "id": "XiQUKtcIQd1G",
        "colab": {
          "base_uri": "https://localhost:8080/",
          "height": 275
        },
        "outputId": "12fa8c21-f608-48d6-e3d0-eedfdf457068"
      },
      "source": [
        "gpt2.generate(sess, run_name='run2010',\n",
        "              length=50,\n",
        "              temperature=0.7,\n",
        "              prefix=\"Alzheimer's disease should be treated with\",\n",
        "              nsamples=5,\n",
        "              batch_size=5\n",
        "              )"
      ],
      "execution_count": null,
      "outputs": [
        {
          "output_type": "stream",
          "text": [
            "Alzheimer's disease should be treated with cerebrovascular administration of purer acetylcholine. The clinical and biochemical characteristics of Alzheimer's disease should be improved, for various indications in Alzheimer's disease (AD) the action of acetylcholine is mediated by activation of cholin\n",
            "====================\n",
            "Alzheimer's disease should be treated with caution when the drug is being used for Alzheimer's disease.\n",
            "We examined the association between the Apolipoprotein E genotype and cerebrovascular disease in a large prospective study of elderly Chinese. A total of 400 participants participated in the study\n",
            "====================\n",
            "Alzheimer's disease should be treated with caution, because it is believed to be a progressive disease that is likely to progress as slowly as Alzheimer's disease. This review discusses the main problems first reported by the authors and summarizes the potential use of specific therapeutic agents for Alzheimer's disease.\n",
            "The\n",
            "====================\n",
            "Alzheimer's disease should be treated with a combination of antipsychotic medication, tacrine, and memantine (equivalent to mg/day) and with the use of new drugs.\n",
            "Although attention has been focussed on Alzheimer's disease (AD) as a disease with a major\n",
            "====================\n",
            "Alzheimer's disease should be treated with caution when serious cognitive impairment is associated with dementia.\n",
            "We performed a comparison of the severity of Alzheimer disease (AD) and vascular dementia (VaD) with those of Alzheimer disease (AD) and vascular dementia (VaD). The three major neuro\n",
            "====================\n"
          ],
          "name": "stdout"
        }
      ]
    },
    {
      "cell_type": "code",
      "metadata": {
        "id": "snKHj61KbjIt",
        "colab": {
          "base_uri": "https://localhost:8080/",
          "height": 292
        },
        "outputId": "3774259a-cd09-4fe5-c4d7-65c6eb22665c"
      },
      "source": [
        "gpt2.generate(sess, run_name='run2020',\n",
        "              length=250,\n",
        "              temperature=0.7,\n",
        "              prefix=\"Alzheimer's disease should be treated with\",\n",
        "              nsamples=5,\n",
        "              batch_size=5\n",
        "              )"
      ],
      "execution_count": null,
      "outputs": [
        {
          "output_type": "stream",
          "text": [
            "Alzheimer's disease should be treated with the same therapeutic strategies as for other dementias.\n",
            "The amyloid-beta (Abeta) peptide, which is used to synthesize the amyloid precursor protein, is one of the major drivers of neurodegenerative diseases, including Alzheimer's disease. Here, we report that the amyloid-beta peptide exerts its beneficial effects by activating the transcription of the gene, and by enhancing its expression with a transcriptional response that becomes highly expressed. This transcriptional response affects the expression of several genes, including the protein phosphatase A, the protein phosphatase C, the protein phosphatase CII, the protein phosphatase B, the protein phosphatase CII, the protein phosphatase A and the protein phosphatase C. In  addition, the transcription of the gene in neuronal and glial cells, as well as the expression of the gene in the neuropathological stably transfected rat model of Alzheimer's disease, is also inhibited by the peptide. Inhibition of the transcription of all three proteins, together with the signalling activity of the gene, also suppresses the expression of the genes. In addition, the gene expression of all three proteins in the neuronal and\n",
            "====================\n",
            "Alzheimer's disease should be treated with anti-aggregation agent as an antiamyloid therapy.\n",
            "OBJECTIVE: The aim of this study was to evaluate the effect of  an oral formulation of the apolipoprotein E (ApoE) epsilon 4 allele on Alzheimer's disease (AD) and its role in the pathogenesis of AD. METHODS: In this study, we used the apolipoprotein E (ApoE) epsilon 4 allele to evaluate the effects of apolipoprotein E (ApoE epsilon 4) on AD-like pathology in two independent samples. The epsilon 4 allele was found to be associated with a significant increase in AD-like pathology, but not in the other two alleles. The beta-actin and tau phosphorylated Tau (Ptau) were significantly increased in AD-like pathology, but not in the other two alleles. The ApoE genotype was also found to be associated with a greater increase in AD-like pathology. The change in the alpha-synuclein and gamma-synuclein levels in AD-like pathology was similar in both the ApoE and apo E epsilon 4 isoforms, whereas\n",
            "====================\n",
            "Alzheimer's disease should be treated with the most appropriate anti-cancer drug available (as a selective agent),  and first to be used as a  treatment for Alzheimer's disease.\n",
            "Alzheimer's disease is a neurodegenerative disorder characterized by progressive memory loss which is characterized by an accumulation of amyloid-beta protein (Abeta) peptides and neurofibrillary fibrils. The Abeta plaques consist of plaques composed of many toxic species, such as amyloid beta-1-42, the neurotoxic species of which are the major components of the amyloid plaques, and the neurotoxic species of which are the neurotoxic Abeta species of which are the neurotoxic species of which are the Abeta species of which are the neurotoxic species of which are the neurotoxic species of which are the neurotoxic species of which are the neurotoxic species of which are the neurotoxic species of which are the neurotoxic species of which are the neurotoxic species of which are the neurotoxic species of which are the neurotoxic species of which are the neurotoxic species of which are the neurotoxic species of which are the neurotoxic species of which are the neurotoxic species of which are the neurotoxic species of which are the neurot\n",
            "====================\n",
            "Alzheimer's disease should be treated with a combination of anti-depressants and antidiabetic drugs. Pharmacokinetic studies indicate that the extract of the plant nusculotus (N. obra) is the only active component of the plant that is able to inhibit the enzyme tyrosine hydroxylase (TUR) 2.2.1. In vitro, the extract of nusculotus is able to inhibit the activity of the enzyme, but it is not able to alter the activity of tyrosine hydroxylase (TUR) 2.2.1. These results suggest that the extract of nusculotus is able to inhibit the activity of the enzyme, but it is not capable of modifying the activity of the enzyme. The mechanisms of this action are discussed.\n",
            "BACKGROUND: Alzheimer's disease (AD) is characterized by the aggregation of amyloid-beta (Abeta) peptide into various insoluble fragments. The search for new agents for AD has focused on targeting Abeta, a member of the amyloid precursor protein (APP) that is found in the brain. The aim of this study was to determine the ability of a three-dimensional antibody to cleave APP, with a solub\n",
            "====================\n",
            "Alzheimer's disease should be treated with the primary prevention strategy: drugs with additional side effects.\n",
            "The assembly and purification of amyloid precursor protein (APP) by beta-secretase (BACE1) has been used in the etiology of Alzheimer's disease. However, the  potential role of this enzyme in the initiation and progression of the neurodegenerative disease is still largely unexplored. In this study, we determined the  presence of a new enzyme, beta-secretase, in the APP precursor, beta-amylase (ASP), in human amyloid precursor protein (APPs) from the brains of Alzheimer's disease (AD) and control brains, using immunocytochemistry. We found that as the amino acid of ASP, tau, inhibited the formation of ASP, but not tau, in AD and control brains. Moreover, ASP-deficient brains had a decreased density of tau in the frontal cortex of AD and controls, but not in AD brains. We also found that the  expression of BACE1 in AD and controls was increased inducible in the frontal cortex of AD and control brains. In this study, we found that beta-secretase plays a role in the initiation and progression\n",
            "====================\n"
          ],
          "name": "stdout"
        }
      ]
    },
    {
      "cell_type": "code",
      "metadata": {
        "id": "1IepbMakbkx0",
        "colab": {
          "base_uri": "https://localhost:8080/",
          "height": 275
        },
        "outputId": "92b0da98-bc11-4cfd-ccdb-2df6b745e916"
      },
      "source": [
        "gpt2.generate(sess, run_name='run2020',\n",
        "              length=50,\n",
        "              temperature=0.7,\n",
        "              prefix=\"Alzheimer's disease should be treated with\",\n",
        "              nsamples=5,\n",
        "              batch_size=5\n",
        "              )"
      ],
      "execution_count": null,
      "outputs": [
        {
          "output_type": "stream",
          "text": [
            "Alzheimer's disease should be treated with a VPAGA monoclonal antibody. The two next steps are: (1) to determine the clinical efficacy of a monoclonal antibody to a monoclonal antibody of 4,5-dihydroxyvitamin D\n",
            "====================\n",
            "Alzheimer's disease should be treated with a combination of symptomatic anti-Alzheimer's disease drugs and a non-Alzheimer's disease drug combined with a single anti-Alzheimer's drug.\n",
            "BACKGROUND: In this retrospective study, we aimed to determine the prevalence\n",
            "====================\n",
            "Alzheimer's disease should be treated with an agent of the \"silent killer,\" and the first step of the treatment should be the treatment of the disease.\n",
            "Over the past few years,  research has explored a variety of neurodegenerative diseases. In the 1960s, the\n",
            "====================\n",
            "Alzheimer's disease should be treated with haloperidol with no side effects.\n",
            "The loss of white matter (WM) in the hippocampus is a prominent but not necessarily well-understood aspect of Alzheimer's disease (AD). We have investigated the relationship between the volume of WM in\n",
            "====================\n",
            "Alzheimer's disease should be treated with a beta-amyloid precursor protein inhibitor.\n",
            "Tyracyclines are the most abundant intracellular protein of the serine/threonine chain in the mammalian brain. The only known compound that can inhibit the expression of these neurot\n",
            "====================\n"
          ],
          "name": "stdout"
        }
      ]
    },
    {
      "cell_type": "code",
      "metadata": {
        "id": "DSrWj9XMbLz4",
        "colab": {
          "base_uri": "https://localhost:8080/",
          "height": 275
        },
        "outputId": "bcfaaf18-7723-4246-e356-cefdf2b8c1c3"
      },
      "source": [
        "gpt2.generate(sess, run_name='run2000',\n",
        "              length=250,\n",
        "              temperature=0.7,\n",
        "              prefix=\"Alzheimer's disease is characterized by\",\n",
        "              nsamples=5,\n",
        "              batch_size=5\n",
        "              )"
      ],
      "execution_count": null,
      "outputs": [
        {
          "output_type": "stream",
          "text": [
            "Alzheimer's disease is characterized by the accumulation of beta-amyloid peptide (beta-AP) throughout the brain. In the transgenic model, the A beta peptide amyloid precursor protein is localized in the Golgi apparatus in the brainstem, and the Golgi apparatus appears to be  a central control system for the generation of APP. In GBS, the density of soluble APP was determined in the hippocampus, but did not differ by the APP genotype or the APP genotype. In the transgenic mouse model, the density of APP was found in the cerebral cortex of the transgenic mice, and the density of APP was found in the hippocampus. In the transgenic mouse model, the density of APP was found in the cerebral cortex of the transgenic mice, and the density of APP was found in the hippocampus. However, the density of APP was not different between transgenic mice and transgenic mice in the hippocampus, and no difference was found between transgenic mice and transgenic mice in the temporal cortex. In the transgenic mouse model, the density of APP was found in the cerebral cortex of the transgenic mice, and the density of APP was found in the hippocampus. In the transgenic mouse model, the density of APP was found\n",
            "====================\n",
            "Alzheimer's disease is characterized by the presence of neurofibrillary changes and amyloid fibril formation. In the present study, we have characterized the extent of amyloid fibril formation in the neuritic and diffuse plaques of Alzheimer's disease. These plaques were composed of amyloid fibrils, and the extent of amyloid fibril formation was not quantitatively altered. The extent of amyloid fibril formation was higher at the neuritic and diffuse plaques, and this difference was less pronounced in the diffuse plaques. Our results indicate that, in addition to the amyloid fibrils, the diffuse plaques contain tau protein and an altered tau isoform.\n",
            "A consistent finding in the literature is the prevalence of Alzheimer's disease (AD) among early-onset (adult) aging individuals. To examine the relationship between AD prevalence and the prevalence of AD among late-onset (AD) individuals, the prevalence of mild cognitive impairment, as measured by the Mini-Mental State Examination, was correlated with the diagnosis of AD with a P value of 0.64 (p less than 0.001). We found that the familial risk of AD for AD was 0.28 (p\n",
            "====================\n",
            "Alzheimer's disease is characterized by progressive neurodegeneration and memory loss. The present study attempted to address this issue through a neuropathologic approach to the study of Alzheimer's disease, using an immunoelectron microscopic method with a monoclonal antibody raised against the microtubule associated protein tau. In addition, we administered a tau monoclonal antibody against a monoclonal antibody raised against the microtubule associated protein tau, which specifically recognized the neurofibrillary tangles of Alzheimer's disease. The immunoreactive neurofibrillary tangles of Alzheimer's disease were also recognized by the microtubule associated protein tau. This neurofibrillary tangles were also immunopositive to a monoclonal antibody raised against tau. Immunohistochemical studies of the microtubule associated protein tau were performed in the presence of the antibody. The microtubule-associated protein tau was immunoreactive to the antibody raised against the microtubule associated protein tau and the microtubule-associated protein tau in the presence of the antibody. When immunohistochemically  labeled, the microtubule-associated protein tau was  labeled with a monoclonal antibody,\n",
            "====================\n",
            "Alzheimer's disease is characterized by the presence of both amyloid deposits and neurofibrillary tangles (NFTs). In the present study, the extent to which the expression of the PrP-receptor gene, as well as the expression of the synapse-specific gene PrP-receptor gene, were determined in eight Alzheimer's disease cases and eight normal controls were analyzed. The extent to which the PrP-receptor gene expression was reduced was determined by the expression of the synapse-specific gene PrP-receptor gene and by the expression of the synapse-specific gene PrP-receptor gene in the two groups. The PrP-receptor gene expression was not affected by the presence or absence of NFTs. Furthermore, in the normal group, the expression of the synapse-specific gene PrP-receptor gene was significantly reduced. The extent of PrP-receptor gene expression was not affected by NFTs. The PrP-receptor gene expression was reduced in both groups of cases, and the PrP-receptor gene expression was decreased in the Alzheimer's disease group. This study demonstrates that PrP-receptor gene expression is reduced in Alzheimer's disease.\n",
            "1. The authors\n",
            "====================\n",
            "Alzheimer's disease is characterized by an autosomal dominant sequence of Alzheimer's disease mutations, and the gene is located on chromosome 11.\n",
            "The present study examined the ability of young, adult, and old adult male Sprague-Dawley rats to carry the C4 protein, a constitutive protein of neurons and astrocytes in both the striatum and hippocampus. These animals were a significant model of developmentally-dependent plasticity, and have a high level of activation of cholinergic neurons in their hippocampus.\n",
            "The use of a validated test battery to measure the performance of young adults in a variety of tasks was used to evaluate the learning of a group of patients with a range of learning impairments. The mean age of the patients was 35, while the mean age of the subjects was 56. The data were analyzed by means of Student's exact test. The mean age of the patients was 36. The mean age of the subjects was 56. The mean age of the subjects was 56. The mean age of the subjects was 56. The mean age of the subjects was 56. The mean age of the subjects was 56. The mean age of the subjects was 66. The mean age of the subjects was 62. The mean age of the subjects was 62.\n",
            "====================\n"
          ],
          "name": "stdout"
        }
      ]
    },
    {
      "cell_type": "code",
      "metadata": {
        "id": "Ps0HVOrYR0k3",
        "colab": {
          "base_uri": "https://localhost:8080/",
          "height": 207
        },
        "outputId": "1958ce86-cdde-41df-88f7-bdfd1d2e27e0"
      },
      "source": [
        "gpt2.generate(sess, run_name='run2000',\n",
        "              length=50,\n",
        "              temperature=0.7,\n",
        "              prefix=\"Alzheimer's disease is characterized by\",\n",
        "              nsamples=5,\n",
        "              batch_size=5\n",
        "              )"
      ],
      "execution_count": null,
      "outputs": [
        {
          "output_type": "stream",
          "text": [
            "Alzheimer's disease is characterized by progressive dementia of the Alzheimer type, and the occurrence of a cortical subcortical Lewy body disease. The ventricular size of the cerebral cortex is reduced in Alzheimer's disease, and the cerebellar density is reduced by an inordinate magnitude\n",
            "====================\n",
            "Alzheimer's disease is characterized by the presence of multiple neurodegenerative processes, the presence of which are accentuated in the AD brain. In this study, we have compared the levels of cAMP and Ginkgo biloba extract, the enzyme that cleaves  phosphat\n",
            "====================\n",
            "Alzheimer's disease is characterized by a progressive neurodegenerative process, including progressive as well as severe neurodegenerative changes. A progressive memory deficit is also present in many demented patients. Using the NINCDS-ADRDA criteria, the present case report provides the\n",
            "====================\n",
            "Alzheimer's disease is characterized by neuronal degeneration and synaptic loss. In addition, the gene encoding APP is expressed by up to 40% of all neurons in the nervous system. For example, the expression of the APP gene is increased in the hippocampal region of the human brain.\n",
            "====================\n",
            "Alzheimer's disease is characterized by the presence of senile plaques, and Alzheimer's disease is associated with formic acid  plaques. The present study explored the role of an electrical current in the neurodegeneration of Alzheimer's disease (AD) patients. The current was\n",
            "====================\n"
          ],
          "name": "stdout"
        }
      ]
    },
    {
      "cell_type": "code",
      "metadata": {
        "id": "7dPb1WCNPKu6",
        "colab": {
          "base_uri": "https://localhost:8080/",
          "height": 292
        },
        "outputId": "2030c22b-d13d-4d84-df3a-937dad544a1d"
      },
      "source": [
        "gpt2.generate(sess, run_name='run2010',\n",
        "              length=250,\n",
        "              temperature=0.7,\n",
        "              prefix=\"Alzheimer's disease is characterized by\",\n",
        "              nsamples=5,\n",
        "              batch_size=5\n",
        "              )"
      ],
      "execution_count": null,
      "outputs": [
        {
          "output_type": "stream",
          "text": [
            "Alzheimer's disease is characterized by a progressive impairment of cholinergic functions. Here we show that the amyloid-beta peptide (Abeta) in cerebrospinal fluid (CSF) from patients with Alzheimer's disease (AD) has a significant effect on the activity of the cholinergic system and the cholinergic receptor subtype. Abeta induced a novel effect on the cholinergic system and the receptor subtype. These results indicate that a cholinergic cell type and an APOE4 lineage are required for the cholinergic modulation of Abeta production and neurotransmitter release.\n",
            "Alzheimer's disease (AD) is the most common form of dementia and is characterized by the progressive loss of cognitive functions. The etiology and treatment of AD is still unclear. We now report the discovery of a novel protein, a 45 kDa member of the neurofilamentous protein tau, that is expressed in the brains of patients with AD and controls. The expression of tau isoforms in the brain of patients with AD and controls was investigated in a large animal model and in a mouse model of AD. The expression of tau isoforms was determined in a subcellular region of the brain of patients with AD. The expression of\n",
            "====================\n",
            "Alzheimer's disease is characterized by a progressive loss of neuronal function, such as neuronal loss, loss of synaptic connections, and increased levels of the neurotransmitter acetylcholine. In addition, the pathological lesions are associated with a loss of brain-derived neurotrophic factor (BDNF) and neuroprotective factors such as interleukin-1beta (IL-1beta) and gamma-secretase. These findings suggest that BDNF and IL-1beta may be involved in the pathogenesis of AD and cognitive deficits are related to the presence of the disease-modifying gene, BDNF.\n",
            "BACKGROUND: The presence of neurofibrillary tangles (NFT) in the cerebral vessels of Alzheimer's disease (AD) patients is associated with a decrease in cerebral blood flow (CBF). OBJECTIVE: To determine the relationship between NFT and CBF. METHODS: We assessed cerebral CBF in AD patients and controls. RESULTS: NFT in the AD patient group was related to a significantly lower CBF (p = 0.0373) and a significantly higher CBF (p = 0.0337) than in the control group, and in addition to this, there were significant differences in CBF (p =\n",
            "====================\n",
            "Alzheimer's disease is characterized by progressive cognitive impairment, on the one hand, and and at the same time, a severe cognitive deficit. In the latter case, behavioral disturbances are more frequent. In Alzheimer's disease, behavioral disturbances are aggravated by the presence of agraphia, which is a synapse formation. In this paper, we propose a novel approach to the diagnosis of Alzheimer's disease. We propose a disease-specific diagnosis based on the following criteria: (1) the presence of a clinically diagnosed dementia of the Alzheimer type; (2) the presence of a series of clinically diagnosed behavioral disturbances; and (3) the presence of a series of clinically diagnosed behavioral disturbances as well. We propose a new method for the first time to identify the disease-specific  histopathological changes associated with  the presence of behavioral disturbances in Alzheimer's disease, by including the presence of agraphia and the presence of a series of clinically diagnosed behavioral disturbances.\n",
            "The beta-amyloid (Abeta) peptide is found in large amounts in cerebrospinal fluid (CSF) of Alzheimer's disease subjects. Abeta is the main constituent of amyloid plaques in the brains of Alzheimer's disease patients. The aim of this study was to evaluate the effects\n",
            "====================\n",
            "Alzheimer's disease is characterized by a progressive neuronal loss, which is associated with the development of neurofibrillary tangles and neurofibrillary degeneration. The temporal and frontal lobes of the human brain are severely affected, which carries a severe and severe risk of death. The temporal and frontal lobes of the human brain are also severely affected. This study examined the role of the brain lesions in the pathogenesis of AD and related dementias. In order to clarify the relationship between the temporal and frontal lobes and the dementias, the study was conducted on a case-control basis, in which the diagnosis was made with a neuropathological examination. The dementia was diagnosed by neuropathological examination. The mean age of the patient was 55 years. The results of the study showed that the severity of the disease is severe, but the severity increases with the severity of the disease. The most severe cases are those in which the lesions are severe. The degree of cognitive impairment in these cases is more severe than in the other cases, which is related to the severity of the disease.\n",
            "The present study examined the possible association between the neocortical regions of the temporal cortex and the temporal lobe and the cognitive reserve of the elderly. A total of 114 patients with Alzheimer\n",
            "====================\n",
            "Alzheimer's disease is characterized by a progressive course of the amyloid precursor protein (APP). The present study reports on the distribution of APP and the Abeta(2-28) peptide, respectively. APP is localized in the  brain of three different patients with Alzheimer's disease. Upon binding to the APP receptor, different APP ligands exhibit different binding patterns. The binding of APP to Abeta(2-28) is restricted to its localized binding in the absence of the Abeta(2-28)-cleaving site in the APP compartment. Abeta(2-28)-mediated binding of APP to Abeta(2-28) is mediated by the two-dimensional peptide interface. The binding site of APP was recently determined to be restricted to APP (sAPPalpha) and APP (sAPPalpha2). Here we demonstrate that Abeta(2-28) binding to APP provides a novel mechanism for APP binding to Abeta(2-28). The present findings are discussed in terms of the role of APP in the pathogenesis of Alzheimer's disease.\n",
            "OBJECTIVE: To clarify the association between body mass index (BMI) and the risk of Alzheimer's disease (AD) in a longitudinal study of older adults.\n",
            "====================\n"
          ],
          "name": "stdout"
        }
      ]
    },
    {
      "cell_type": "code",
      "metadata": {
        "id": "TrrrU2aeQg89",
        "colab": {
          "base_uri": "https://localhost:8080/",
          "height": 207
        },
        "outputId": "40fa5750-0164-4933-a0aa-59ec603429a7"
      },
      "source": [
        "gpt2.generate(sess, run_name='run2010',\n",
        "              length=50,\n",
        "              temperature=0.7,\n",
        "              prefix=\"Alzheimer's disease is characterized by\",\n",
        "              nsamples=5,\n",
        "              batch_size=5\n",
        "              )"
      ],
      "execution_count": null,
      "outputs": [
        {
          "output_type": "stream",
          "text": [
            "Alzheimer's disease is characterized by a progressive loss of cognitive functions. The molecular pathophysome of Alzheimer's disease is based in the formation of amyloid-beta (Abeta) and promotes an inflammatory response. The growing evidence for an etiopathogenesis of Alzheimer's disease\n",
            "====================\n",
            "Alzheimer's disease is characterized by the presence of amyloid plaques that are the hallmark of Alzheimer's disease (AD). Amyloid fibrils (A beta, beta-amyloid, and tau) can exhibit concomitant pathological changes, such as ext\n",
            "====================\n",
            "Alzheimer's disease is characterized by severe pathological changes in the brain. The aim of this study was to mimic the effects of the amyloid-beta-peptides and the tau-immunoreactive fragment of the presenilin 1 (PS-1)\n",
            "====================\n",
            "Alzheimer's disease is characterized by a progressive loss of synapses and the loss of neurons. This loss provides a new target for the development of new drugs that target synapse loss in Alzheimer's disease, which has been the target of intense interest. In this study, we tested the\n",
            "====================\n",
            "Alzheimer's disease is characterized by changes in the brain, particularly of the central nervous system, as well as in the blood. A significant amount of the disease is caused by mutations in the amyloid precursor protein, the most important  protein found in Alzheimer's disease. Recently,\n",
            "====================\n"
          ],
          "name": "stdout"
        }
      ]
    },
    {
      "cell_type": "code",
      "metadata": {
        "id": "2kB1cH-Dbpog",
        "colab": {
          "base_uri": "https://localhost:8080/",
          "height": 275
        },
        "outputId": "627ca93d-e46e-41e3-c376-846a854d1f70"
      },
      "source": [
        "gpt2.generate(sess, run_name='run2020',\n",
        "              length=250,\n",
        "              temperature=0.7,\n",
        "              prefix=\"Alzheimer's disease is characterized by\",\n",
        "              nsamples=5,\n",
        "              batch_size=5\n",
        "              )"
      ],
      "execution_count": null,
      "outputs": [
        {
          "output_type": "stream",
          "text": [
            "Alzheimer's disease is characterized by a decrease in brain-derived neurotrophic factor (BDNF) and decreased brain-derived neurotrophic factor (BDNF) concentrations. In  this study, we investigated the effect of two doses of alpha-synuclein (M1 and M2), a flavonoid with anti-BDNF, on the androgen and estrogen receptor subunits (ERs) in the hippocampus and postcentral gyrus (cGluR), a nucleolus-containing subcellular structure located in the hippocampus in Alzheimer's disease. M1 and M2 were administrated in the hippocampus for 4 h and then  the assay was repeated in the cGluR subcellular region (CGR). The M1 and M2 dose of M1 and M2 completely suppressed the decrease of BDNF levels in the cGluR subcellular regions, whereas the M1 dose suppressed the increase of BDNF levels in the cGluR subcellular region. Furthermore, the M1 dose of M2 significantly decreased the BDNF levels in the cGluR subcellular region and CGR. Furthermore, M1 also significantly increased the BDNF levels in the CGR subcellular region (P < 0\n",
            "====================\n",
            "Alzheimer's disease is characterized by progressive impairment of memory. The aim of the present study is to develop a novel, single-photon emission computed tomography (3-CT) probe for the endoplasmic reticulum (ER) and to determine whether it contributes to the  diagnosis of one.\n",
            "The aim of the present study was to investigate whether (i) the presence of beta-amyloid (Abeta) in the brain of patients with Alzheimer's disease (AD) could be a risk factor for the development of AD. In this study, the density of Abeta in the brain of patients with AD was measured using a polysomnography technique and the levels of Abeta were measured using two-dimensional (2D) nanomolar electron tomography. The concentrations of Abeta were measured using a molecular radioimmunoassay method. The levels of Abeta were determined by the ELISA method and in the presence of Abeta in blood. The levels of Abeta were significantly decreased in the presence of Abeta, but not in the absence of Abeta. (ii) Abeta was found to be an important risk factor for the development of AD in the cerebrospinal fluid.\n",
            "The most important neuroim\n",
            "====================\n",
            "Alzheimer's disease is characterized by the presence of neurofibrillary tangles that are characterized by only three distinct initial folds: a dense, axonal, and non-axonal subcellular core, and a putative neuritic core, which is subsequently composed of a variety of neurofibrillary tangles. The specific neurofibrillary tangles are characterized by a loss of neurons and neurofibrillary tangles that are abnormally elongated, and a loss of neurons and the neurofibrillary tangles that are elongated remain. The neurofibrillary tangles that are abnormally elongated are characterized by being surrounded by hyperphosphorylated tau, which is a hallmark of Alzheimer's disease, whereas the neurofibrillary tangles that are abnormally elongated are characterized by being surrounded by hyperphosphorylated tau, which is a characteristic of Parkinson's disease.\n",
            "BACKGROUND: Global cerebral glucose isometabolism is a key mediator of expression of genes involved in several metabolic stress pathways and is an important risk factor for Alzheimer's disease. The present study used a novel, non-amyloidogenic, non-amyloidogenic (non-amyloid-receptor) gene that has been\n",
            "====================\n",
            "Alzheimer's disease is characterized by the development of presenilin-1 and presenilin-2/3, a two-truncated protein which is associated with the development of presenilin-1 and presenilin-2/3. The two proteins are expressed in different cell types and have diverse morphologies, suggesting the evolution of a unique RNA-protein family. The RNA-protein family includes the presenilin-1 and presenilin-2/3 isoforms and the two proteins are closely related. The two proteins are associated with neurons and glial cells, but not with other neurons. The two proteins have been proposed to be involved in the pathogenesis of Alzheimer's disease, and their development suggests that presenilin-1 and presenilin-2/3 are involved in the pathogenesis of Alzheimer's disease.\n",
            "Alzheimer's disease is characterized by the development of senile plaques of amyloid-like protein in brain and surrounding tissue. The levels of amyloid-like protein are increased in  senile plaques of Alzheimer's disease. In contrast, the levels of amyloid-like protein are reduced in the brains of patients with Alzheimer's disease. We\n",
            "====================\n",
            "Alzheimer's disease is characterized by a progressive neurodegeneration. The main source of cellular and molecular damage is the production of amyloid-beta (Abeta) peptides. Abeta peptides are believed to be responsible for a variety of diseases including Alzheimer's disease, Parkinson's disease, multiple sclerosis, and amyotrophic lateral sclerosis. We hypothesized that the production of Abeta and its subsequent degradation would be mediated by a \"survival-differentiation\" mechanism. In this study, we used an  experimental model of Abeta production to model the nature of  its degradation through a \"survival-differentiation\" mechanism. We demonstrate that the survival-differentiation mechanism of Abeta is mediated by an independent interaction of the protein proteolysis factor PPARgamma with the proteolytic  domain of PPARgamma. The proteolytic domain of PPARgamma is also responsible for the production of Abeta, thus suggesting a survival-differentiation mechanism. In the present study, we observed that Abeta-induced mitochondrial degradation is dependent on the  proteolytic domain of PPARgamma. Furthermore, we found that the levels of PPARgamma are reduced in Abeta-induced mitochondria in  a manner similar to\n",
            "====================\n"
          ],
          "name": "stdout"
        }
      ]
    },
    {
      "cell_type": "code",
      "metadata": {
        "id": "j4G0H2HBbq0e",
        "colab": {
          "base_uri": "https://localhost:8080/",
          "height": 207
        },
        "outputId": "76f4be2c-1f3c-4447-8302-d746f74b10e0"
      },
      "source": [
        "gpt2.generate(sess, run_name='run2020',\n",
        "              length=50,\n",
        "              temperature=0.7,\n",
        "              prefix=\"Alzheimer's disease is characterized by\",\n",
        "              nsamples=5,\n",
        "              batch_size=5\n",
        "              )"
      ],
      "execution_count": null,
      "outputs": [
        {
          "output_type": "stream",
          "text": [
            "Alzheimer's disease is characterized by an increased risk of  dementia. We propose that apoE genotype mediate the genotype-phenotype interaction, and that we are able to identify the allele-phenotype interaction in AD. The results indicate that the APOE4/\n",
            "====================\n",
            "Alzheimer's disease is characterized by progressive hyperphosphorylation of tau, and the accumulation of phosphorylated tau is associated with neurodegeneration. In the present study, we measured the expression of the tau and phosphorylated tau by immunohist\n",
            "====================\n",
            "Alzheimer's disease is characterized by  the aggregation of the amyloid precursor protein (APP) and the metabolic alterations leading to the formation of the amyloid beta-protein (A beta). Both soluble and insoluble APP and A beta are required for the initiation of A beta\n",
            "====================\n",
            "Alzheimer's disease is characterized by severe cognitive impairment, a progressive neurodegeneration, and the development of senile plaques and neurofibrillary tangles. A genetic study was undertaken to characterize the protein kinase A-II (apoA-II), a key enzyme\n",
            "====================\n",
            "Alzheimer's disease is characterized by progressive neurodegeneration linked to neurodegenerative changes. This review summarizes the currently available evidence on the role of amyloid-beta (Abeta) as a potential therapeutic target for Alzheimer's disease. We also discuss the recent advances in\n",
            "====================\n"
          ],
          "name": "stdout"
        }
      ]
    },
    {
      "cell_type": "markdown",
      "metadata": {
        "id": "zjjEN2Tafhl2"
      },
      "source": [
        "For bulk generation, you can generate a large amount of text to a file and sort out the samples locally on your computer. The next cell will generate a generated text file with a unique timestamp.\n",
        "\n",
        "You can rerun the cells as many times as you want for even more generated texts!"
      ]
    },
    {
      "cell_type": "code",
      "metadata": {
        "id": "Fa6p6arifSL0"
      },
      "source": [
        "gen_file = 'gpt2_gentext_{:%Y%m%d_%H%M%S}.txt'.format(datetime.utcnow())\n",
        "\n",
        "gpt2.generate_to_file(sess,\n",
        "                      destination_path=gen_file,\n",
        "                      length=500,\n",
        "                      temperature=0.7,\n",
        "                      nsamples=100,\n",
        "                      batch_size=20\n",
        "                      )"
      ],
      "execution_count": null,
      "outputs": []
    },
    {
      "cell_type": "code",
      "metadata": {
        "id": "0-LRex8lfv1g"
      },
      "source": [
        "# may have to run twice to get file to download\n",
        "files.download(gen_file)"
      ],
      "execution_count": null,
      "outputs": []
    },
    {
      "cell_type": "markdown",
      "metadata": {
        "id": "QQAN3M6RT7Kj"
      },
      "source": [
        "## Generate Text From The Pretrained Model\n",
        "\n",
        "If you want to generate text from the pretrained model, not a finetuned model, pass `model_name` to `gpt2.load_gpt2()` and `gpt2.generate()`.\n",
        "\n",
        "This is currently the only way to generate text from the 774M or 1558M models with this notebook."
      ]
    },
    {
      "cell_type": "code",
      "metadata": {
        "id": "hsUd_jHgUZnD",
        "colab": {
          "base_uri": "https://localhost:8080/",
          "height": 158
        },
        "outputId": "4e0c8a3f-3527-41c4-e3fe-3357f3f8f6c2"
      },
      "source": [
        "model_name = \"774M\"\n",
        "\n",
        "gpt2.download_gpt2(model_name=model_name)"
      ],
      "execution_count": null,
      "outputs": [
        {
          "output_type": "stream",
          "text": [
            "Fetching checkpoint: 1.05Mit [00:00, 354Mit/s]                                                      \n",
            "Fetching encoder.json: 1.05Mit [00:00, 131Mit/s]                                                    \n",
            "Fetching hparams.json: 1.05Mit [00:00, 279Mit/s]                                                    \n",
            "Fetching model.ckpt.data-00000-of-00001: 3.10Git [00:23, 131Mit/s]                                  \n",
            "Fetching model.ckpt.index: 1.05Mit [00:00, 380Mit/s]                                                \n",
            "Fetching model.ckpt.meta: 2.10Mit [00:00, 226Mit/s]                                                 \n",
            "Fetching vocab.bpe: 1.05Mit [00:00, 199Mit/s]                                                       \n"
          ],
          "name": "stderr"
        }
      ]
    },
    {
      "cell_type": "code",
      "metadata": {
        "id": "BAe4NpKNUj2C",
        "colab": {
          "base_uri": "https://localhost:8080/",
          "height": 124
        },
        "outputId": "b09bfe1d-2ff8-4b8a-fffb-273d28d5d4ae"
      },
      "source": [
        "sess = gpt2.start_tf_sess()\n",
        "\n",
        "gpt2.load_gpt2(sess, model_name=model_name)"
      ],
      "execution_count": null,
      "outputs": [
        {
          "output_type": "stream",
          "text": [
            "WARNING: Logging before flag parsing goes to stderr.\n",
            "W0828 18:37:58.571830 139905369159552 deprecation.py:323] From /usr/local/lib/python3.6/dist-packages/tensorflow/python/training/saver.py:1276: checkpoint_exists (from tensorflow.python.training.checkpoint_management) is deprecated and will be removed in a future version.\n",
            "Instructions for updating:\n",
            "Use standard file APIs to check for files with this prefix.\n"
          ],
          "name": "stderr"
        },
        {
          "output_type": "stream",
          "text": [
            "Loading pretrained model models/774M/model.ckpt\n"
          ],
          "name": "stdout"
        }
      ]
    },
    {
      "cell_type": "code",
      "metadata": {
        "id": "-xInIZKaU104",
        "colab": {
          "base_uri": "https://localhost:8080/",
          "height": 797
        },
        "outputId": "56348e28-7d08-45e3-c859-f26c0efd066d"
      },
      "source": [
        "gpt2.generate(sess,\n",
        "              model_name=model_name,\n",
        "              prefix=\"The secret of life is\",\n",
        "              length=100,\n",
        "              temperature=0.7,\n",
        "              top_p=0.9,\n",
        "              nsamples=5,\n",
        "              batch_size=5\n",
        "              )"
      ],
      "execution_count": null,
      "outputs": [
        {
          "output_type": "stream",
          "text": [
            "The secret of life is that it's really easy to make it complicated,\" said Bill Nye, the host of the popular science show \"Bill Nye the Science Guy.\" \"And this is one of the reasons why we all need to be smarter about science, because we can't keep up with the amazing things that are going on all the time.\"\n",
            "\n",
            "While Nye is correct that \"everything that's going on all the time\" is making the world a better place, he misses the point. This is not\n",
            "====================\n",
            "The secret of life is in the rhythm of the universe. It's not a mystery. It's not a mystery to me. It's the nature of the universe. It's the beauty of the universe. It's the way the universe works. It's the way the universe is. It's the way the universe is going to work. It's the way the universe is. It's the way the universe is. It's the way the universe is. It's the way the universe is. It's the way\n",
            "====================\n",
            "The secret of life is in the universe.\n",
            "\n",
            "\n",
            "-\n",
            "\n",
            "The Red Devil\n",
            "\n",
            "It's the end of the world as we know it, and the only thing that can save us is a band of super-powered individuals known as the Red Devil.\n",
            "\n",
            "\n",
            "The Red Devil is a group of super-powered individuals who are seeking the secret of life and the only way they know how to do it is by taking on the roles of a variety of different super-powered individuals, each of which has their own\n",
            "====================\n",
            "The secret of life is in the mixing of the elements, and it is the mixing of the elements that makes life possible.\"\n",
            "\n",
            "But in the world of food science, the idea of a \"complex\" or \"complexity\" is almost entirely imaginary.\n",
            "\n",
            "As a scientist, I'm fascinated by the question of how life first began.\n",
            "\n",
            "It's the question that drives my work and the work of the scientists who work on it.\n",
            "\n",
            "My current research is exploring how microbes work in the first moments\n",
            "====================\n",
            "The secret of life is the journey of life, the search for the truth.\n",
            "\n",
            "4.4.2. The last thing you know\n",
            "\n",
            "There is nothing more important than the last thing you know.\n",
            "\n",
            "4.4.3. The little things that make all the difference\n",
            "\n",
            "The little things that make all the difference.\n",
            "\n",
            "4.4.4. The truth is the best teacher\n",
            "\n",
            "The truth is the best teacher.\n",
            "\n",
            "4.4.5. The truth is what\n",
            "====================\n"
          ],
          "name": "stdout"
        }
      ]
    },
    {
      "cell_type": "markdown",
      "metadata": {
        "id": "ig-KVgkCDCKD"
      },
      "source": [
        "# Etcetera\n",
        "\n",
        "If the notebook has errors (e.g. GPU Sync Fail), force-kill the Colaboratory virtual machine and restart it with the command below:"
      ]
    },
    {
      "cell_type": "code",
      "metadata": {
        "id": "rIHiVP53FnsX"
      },
      "source": [
        "!kill -9 -1"
      ],
      "execution_count": null,
      "outputs": []
    },
    {
      "cell_type": "markdown",
      "metadata": {
        "id": "wmTXWNUygS5E"
      },
      "source": [
        "# LICENSE\n",
        "\n",
        "MIT License\n",
        "\n",
        "Copyright (c) 2019 Max Woolf\n",
        "\n",
        "Permission is hereby granted, free of charge, to any person obtaining a copy\n",
        "of this software and associated documentation files (the \"Software\"), to deal\n",
        "in the Software without restriction, including without limitation the rights\n",
        "to use, copy, modify, merge, publish, distribute, sublicense, and/or sell\n",
        "copies of the Software, and to permit persons to whom the Software is\n",
        "furnished to do so, subject to the following conditions:\n",
        "\n",
        "The above copyright notice and this permission notice shall be included in all\n",
        "copies or substantial portions of the Software.\n",
        "\n",
        "THE SOFTWARE IS PROVIDED \"AS IS\", WITHOUT WARRANTY OF ANY KIND, EXPRESS OR\n",
        "IMPLIED, INCLUDING BUT NOT LIMITED TO THE WARRANTIES OF MERCHANTABILITY,\n",
        "FITNESS FOR A PARTICULAR PURPOSE AND NONINFRINGEMENT. IN NO EVENT SHALL THE\n",
        "AUTHORS OR COPYRIGHT HOLDERS BE LIABLE FOR ANY CLAIM, DAMAGES OR OTHER\n",
        "LIABILITY, WHETHER IN AN ACTION OF CONTRACT, TORT OR OTHERWISE, ARISING FROM,\n",
        "OUT OF OR IN CONNECTION WITH THE SOFTWARE OR THE USE OR OTHER DEALINGS IN THE\n",
        "SOFTWARE."
      ]
    }
  ]
}