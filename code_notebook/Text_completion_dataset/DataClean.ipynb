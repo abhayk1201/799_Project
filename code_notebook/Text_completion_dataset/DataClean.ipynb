{
 "cells": [
  {
   "cell_type": "code",
   "execution_count": 57,
   "metadata": {},
   "outputs": [],
   "source": [
    "# f = open(\"pubmed_result_2000.txt\", 'r')\n",
    "# fout = open(\"abstracts_2000.txt\", 'w')\n",
    "\n",
    "f = open(\"pubmed_result_2020.txt\", 'r')\n",
    "fout = open(\"abstracts_2020.txt\", 'w')\n",
    "\n",
    "\n",
    "# Get list of all lines in file\n",
    "listOfLines = f.readlines()\n",
    "f.close()"
   ]
  },
  {
   "cell_type": "code",
   "execution_count": 2,
   "metadata": {},
   "outputs": [],
   "source": [
    "# listOfLines = listOfLines[9000:9180]\n",
    "# listOfLines"
   ]
  },
  {
   "cell_type": "code",
   "execution_count": 6,
   "metadata": {
    "scrolled": true
   },
   "outputs": [
    {
     "name": "stdout",
     "output_type": "stream",
     "text": [
      "PMID\n",
      "STAT\n",
      "DA  \n",
      "DRDT\n",
      "CTDT\n",
      "PB  \n",
      "DP  \n",
      "TI  \n",
      "BTI \n",
      "AB  \n",
      "CI  \n",
      "FED \n",
      "ED  \n",
      "FAU \n",
      "AU  \n",
      "LA  \n",
      "GR  \n",
      "PT  \n",
      "PL  \n",
      "OTO \n",
      "OT  \n",
      "EDAT\n",
      "MHDA\n",
      "CDAT\n",
      "AID \n",
      "ISBN\n",
      "CN  \n",
      "OWN \n",
      "DCOM\n",
      "LR  \n",
      "IS  \n",
      "VI  \n",
      "IP  \n",
      "PG  \n",
      "AD  \n",
      "TA  \n",
      "JT  \n",
      "JID \n",
      "CRDT\n",
      "PHST\n",
      "PST \n",
      "SO  \n",
      "PMC \n",
      "SB  \n",
      "MH  \n",
      "OID \n",
      "GN  \n",
      "TT  \n",
      "RN  \n",
      "RF  \n",
      "CON \n",
      "OAB \n",
      "OABL\n",
      "PS  \n",
      "FPS \n",
      "CIN \n",
      "SI  \n",
      "EIN \n",
      "MID \n",
      "CRF \n",
      "DEP \n",
      "UIN \n",
      "UOF \n",
      "LID \n",
      "CRI \n",
      "RIN \n",
      "IR  \n",
      "FIR \n",
      "IRAD\n",
      "ECI \n",
      "AUID\n",
      "ROF \n",
      "GS  \n",
      "EFR \n",
      "RPI \n"
     ]
    }
   ],
   "source": [
    "separators = []\n",
    "for line in listOfLines:\n",
    "    tabs = line.strip(\"\\n\").split(\"- \")\n",
    "    if len(tabs) ==2 and tabs[0] not in separators and len(tabs[0]) < 6:\n",
    "        print(tabs[0])\n",
    "        separators.append(tabs[0])"
   ]
  },
  {
   "cell_type": "code",
   "execution_count": 58,
   "metadata": {},
   "outputs": [
    {
     "name": "stdout",
     "output_type": "stream",
     "text": [
      "142180\n",
      "142180\n"
     ]
    }
   ],
   "source": [
    "count1=0\n",
    "count2=0\n",
    "abstract_list = []\n",
    "lc = 0\n",
    "flag = False\n",
    "# Iterate over the lines\n",
    "for line in listOfLines:\n",
    "    \n",
    "    if \"AB  -\" in line:\n",
    "        count1 = count1 +1\n",
    "        start = lc\n",
    "        abstract = ''\n",
    "        flag = True\n",
    "    #if \"CI  -\" in line or \"FED -\" in line or \"ED -\" in line  or \"FAU -\" in line:\n",
    "    if \"- \" in line and flag == True and \"AB  -\" not in line:\n",
    "        flag = False\n",
    "        count2 = count2 +1\n",
    "        end = lc\n",
    "        for ind in range(start, end):\n",
    "            abstract +=  listOfLines[ind].strip(\"\\n\")\n",
    "        #print (range(start, end))\n",
    "        abstract_list.append(abstract.replace(\"      \",\" \").replace(\"AB  - \",\"\"))\n",
    "        fout.write(abstract.replace(\"      \",\" \").replace(\"AB  - \",\"\")+\"\\n\")\n",
    "    lc += 1        \n",
    "print (count1)\n",
    "print (count2)\n",
    "fout.close()"
   ]
  },
  {
   "cell_type": "code",
   "execution_count": 56,
   "metadata": {},
   "outputs": [
    {
     "data": {
      "text/plain": [
       "65722"
      ]
     },
     "execution_count": 56,
     "metadata": {},
     "output_type": "execute_result"
    }
   ],
   "source": [
    "len(abstract_list)"
   ]
  },
  {
   "cell_type": "code",
   "execution_count": 49,
   "metadata": {},
   "outputs": [
    {
     "data": {
      "text/plain": [
       "'No therapy exists for the Lewy body diseases, which are an important cause of dementia. We regard Lewy body diseases and Parkinson disease as components of a spectrum of disorders having a degree of Alzheimer disease neuropathology. Immunologic features of Alzheimer disease and Parkinson disease suggest the involvement of similar phenomena in Lewy body diseases pathogenesis. Based on the efficacy of anti-inflammatory medication in arresting the progression of Alzheimer disease and the presence of common immunologic features in Alzheimer disease and Parkinson disease, a case is made for therapeutic intervention at the immune system level. Anti-inflammatory medications appear to be an appropriate therapeutic approach to Lewy body diseases.'"
      ]
     },
     "execution_count": 49,
     "metadata": {},
     "output_type": "execute_result"
    }
   ],
   "source": [
    "abstract_list[11235]"
   ]
  },
  {
   "cell_type": "code",
   "execution_count": null,
   "metadata": {},
   "outputs": [],
   "source": [
    "for abstra"
   ]
  },
  {
   "cell_type": "code",
   "execution_count": null,
   "metadata": {},
   "outputs": [],
   "source": [
    "len(abstract_list)"
   ]
  },
  {
   "cell_type": "code",
   "execution_count": null,
   "metadata": {},
   "outputs": [],
   "source": [
    "#Create Pandas dataframe"
   ]
  },
  {
   "cell_type": "code",
   "execution_count": null,
   "metadata": {},
   "outputs": [],
   "source": [
    "import pandas as pd "
   ]
  },
  {
   "cell_type": "code",
   "execution_count": null,
   "metadata": {},
   "outputs": [],
   "source": [
    "#arxivData_summary.txt\n",
    "pos_f = open(\"Alz_data_cleaned_summary.txt\", 'r', encoding='utf-8')\n",
    "# Get list of all lines in file\n",
    "pos_listOfLines = pos_f.readlines()\n",
    "\n",
    "\n",
    "# Calling DataFrame constructor on list \n",
    "pos_df = pd.DataFrame(pos_listOfLines, columns =['abstract']) \n",
    "pos_df[\"label\"] = 1\n",
    "\n",
    "train_pos=pos_df.sample(frac=0.8,random_state=200) #random state is a seed value\n",
    "test_pos=pos_df.drop(train_pos.index)\n",
    "print(pos_df.shape)\n",
    "print(train_pos.shape)\n",
    "print(test_pos.shape)\n"
   ]
  },
  {
   "cell_type": "code",
   "execution_count": null,
   "metadata": {},
   "outputs": [],
   "source": []
  },
  {
   "cell_type": "code",
   "execution_count": null,
   "metadata": {},
   "outputs": [],
   "source": [
    "test_pos.iloc[25]['abstract']"
   ]
  },
  {
   "cell_type": "code",
   "execution_count": null,
   "metadata": {},
   "outputs": [],
   "source": [
    "len(test_pos.iloc[25]['abstract'].split(\" \"))"
   ]
  },
  {
   "cell_type": "code",
   "execution_count": null,
   "metadata": {},
   "outputs": [],
   "source": [
    "type(test_pos.iloc[25]['abstract'])"
   ]
  },
  {
   "cell_type": "code",
   "execution_count": null,
   "metadata": {},
   "outputs": [],
   "source": [
    "import numpy as np\n",
    "import random\n",
    "idx= random.randint(3,len(test_pos.iloc[25]['abstract'].split(\" \"))-3)"
   ]
  },
  {
   "cell_type": "code",
   "execution_count": null,
   "metadata": {},
   "outputs": [],
   "source": [
    "token = test_pos.iloc[25]['abstract'].split(\" \")[random.randint(3,len(test_pos.iloc[25]['abstract'].split(\" \"))-3)]\n",
    "x = test_pos.iloc[25]['abstract'].split(\" \")[idx]\n",
    "lis = test_pos.iloc[25]['abstract'].split(\" \")\n",
    "lis[lis.index(x)] = 'replaced!'"
   ]
  },
  {
   "cell_type": "code",
   "execution_count": null,
   "metadata": {},
   "outputs": [],
   "source": [
    "mask_f = open(\"masked_test.txt\", 'w', encoding='utf-8')\n",
    "for i in range(3232):\n",
    "    idx= random.randint(3,len(test_pos.iloc[i]['abstract'].split(\" \"))-3)\n",
    "    masked_word = test_pos.iloc[i]['abstract'].split(\" \")[idx]\n",
    "    masked_abstract = '[CLS] ' + test_pos.iloc[i]['abstract'].replace(masked_word, '[MASK]').rstrip(\"\\n\") + ' [SEP]'\n",
    "    mask_f.write(masked_abstract + \"\\t\\t\" + masked_word + \"\\n\")"
   ]
  },
  {
   "cell_type": "code",
   "execution_count": null,
   "metadata": {},
   "outputs": [],
   "source": [
    "mask_f = open(\"masked_test.txt\", 'r', encoding='utf-8')\n",
    "for lines  in mask_f:\n",
    "  print (lines)"
   ]
  },
  {
   "cell_type": "code",
   "execution_count": null,
   "metadata": {},
   "outputs": [],
   "source": [
    "['[CLS] Alzheimers disease, and dementia, represent a common cause of disability and one of the most relevant challenges in the health world. In addition, these conditions do not have, at moment, a pharmacological treatment that can stop the  pathological progress. Mild cognitive impairment (MCI), defined as the borderline between normal aging and early dementia, represents a meaningful field of study because, in the transition to dementia, clinicians have defined a useful therapeutic window. Additionally, due to the lack of effective pharmacological interventions, recent years have seen an increase in research into new technological solutions to assess, stimulate, and assist patients afflicted with  Alzheimers disease. This review aims to outline the use of information and communication technologies in the field studying MCI. Particularly, the goal is to depict the framework and describe the most worthwhile research efforts, in order to display the current technologies available, describe the research objectives, and delineate prospective future researches. Regarding data sources,  the research was conducted within three databases, PubMed [MASK] Web of Science, and Scopus, between January 2009 and December 2017. A total of 646 articles were found in the initial search. Accurate definition of the exclusion criteria and selection strategy allowed identification of the most relevant papers to use for the study. Finally, 56 papers were fully evaluated and included in this review. Three major clinical application areas have been portrayed, namely \"Cognitive Assessment,\" \"Treatment,\" and \"Assistance.\" These have been combined with three main technological solutions, specifically \"Sensors,\" \"Personal Devices,\" and \"Robots.\" Furthermore, the study of the publications time series illustrates a steadily increasing trend, characterized by the enrollment of small groups of subjects, and particularly oriented to the subjects assistance using robots companion. In conclusion, despite the new technological solutions for people with MCI have received much interest, particularly regarding robots for assistance, nowadays it still owns vast room for improvement. [SEP]', 'Central,\\n']"
   ]
  },
  {
   "cell_type": "code",
   "execution_count": null,
   "metadata": {},
   "outputs": [],
   "source": [
    "'[CLS] ' + test_pos.iloc[25]['abstract'].replace(x, '[MASK]') + ' [SEP]'"
   ]
  },
  {
   "cell_type": "code",
   "execution_count": null,
   "metadata": {},
   "outputs": [],
   "source": [
    "test_pos.iloc[25]['abstract']"
   ]
  },
  {
   "cell_type": "code",
   "execution_count": null,
   "metadata": {},
   "outputs": [],
   "source": [
    "#arxivData_summary.txt\n",
    "neg_f = open(\"arxivData_summary.txt\", 'r')\n",
    "# Get list of all lines in file\n",
    "neg_listOfLines = neg_f.readlines()\n",
    "\n",
    "\n",
    "neg_df = pd.DataFrame(neg_listOfLines, columns =['abstract']).sample(20000)\n",
    "neg_df[\"label\"] = 0\n",
    "train_neg=neg_df.sample(frac=0.8,random_state=200) #random state is a seed value\n",
    "test_neg=neg_df.drop(train_neg.index)\n",
    "print(neg_df.shape)\n",
    "print(train_neg.shape)\n",
    "print(test_neg.shape)"
   ]
  },
  {
   "cell_type": "code",
   "execution_count": null,
   "metadata": {},
   "outputs": [],
   "source": [
    "train_df = pd.concat([train_pos, train_neg]).sample(frac=1).reset_index(drop=True)\n",
    "test_df = pd.concat([test_pos, test_neg]).sample(frac=1).reset_index(drop=True)\n",
    "print(train_df.shape)\n",
    "print(test_df.shape)"
   ]
  },
  {
   "cell_type": "code",
   "execution_count": null,
   "metadata": {
    "scrolled": true
   },
   "outputs": [],
   "source": [
    "neg_df.sample(10)"
   ]
  },
  {
   "cell_type": "code",
   "execution_count": null,
   "metadata": {},
   "outputs": [],
   "source": [
    "pos_df.sample(10)"
   ]
  },
  {
   "cell_type": "code",
   "execution_count": null,
   "metadata": {},
   "outputs": [],
   "source": [
    "train_df.sample(10)"
   ]
  },
  {
   "cell_type": "code",
   "execution_count": null,
   "metadata": {},
   "outputs": [],
   "source": [
    "test_df.sample(10)"
   ]
  },
  {
   "cell_type": "code",
   "execution_count": null,
   "metadata": {},
   "outputs": [],
   "source": []
  }
 ],
 "metadata": {
  "kernelspec": {
   "display_name": "Python 3",
   "language": "python",
   "name": "python3"
  },
  "language_info": {
   "codemirror_mode": {
    "name": "ipython",
    "version": 3
   },
   "file_extension": ".py",
   "mimetype": "text/x-python",
   "name": "python",
   "nbconvert_exporter": "python",
   "pygments_lexer": "ipython3",
   "version": "3.7.6"
  }
 },
 "nbformat": 4,
 "nbformat_minor": 2
}
