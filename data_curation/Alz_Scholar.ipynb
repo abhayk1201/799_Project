{
 "cells": [
  {
   "cell_type": "code",
   "execution_count": 1,
   "metadata": {},
   "outputs": [
    {
     "name": "stdout",
     "output_type": "stream",
     "text": [
      "{'_filled': False,\n",
      " 'affiliation': 'Assistant Project Scientist, University of California, '\n",
      "                'Berkeley',\n",
      " 'citedby': 216,\n",
      " 'email': '@berkeley.edu',\n",
      " 'id': '4bahYMkAAAAJ',\n",
      " 'interests': ['Depth Cues',\n",
      "               '3D Shape',\n",
      "               'Shape from Texture & Shading',\n",
      "               'Naive Physics',\n",
      "               'Haptics'],\n",
      " 'name': 'Steven A. Cholewiak',\n",
      " 'url_picture': 'https://scholar.google.com/citations?view_op=medium_photo&user=4bahYMkAAAAJ'}\n"
     ]
    }
   ],
   "source": [
    "import scholarly\n",
    "\n",
    "print(next(scholarly.search_author('Steven A. Cholewiak')))"
   ]
  },
  {
   "cell_type": "code",
   "execution_count": 3,
   "metadata": {},
   "outputs": [
    {
     "name": "stdout",
     "output_type": "stream",
     "text": [
      "{'_filled': False,\n",
      " 'affiliation': 'Associate Professor at NMIMS university',\n",
      " 'citedby': 9701,\n",
      " 'email': '@nmims.edu',\n",
      " 'id': '7FKjS2wAAAAJ',\n",
      " 'interests': ['Finance'],\n",
      " 'name': 'Dr. Abhay Kumar',\n",
      " 'url_picture': 'https://scholar.google.com/citations?view_op=medium_photo&user=7FKjS2wAAAAJ'}\n"
     ]
    }
   ],
   "source": [
    "print(next(scholarly.search_author('Abhay Kumar')))"
   ]
  },
  {
   "cell_type": "code",
   "execution_count": 4,
   "metadata": {},
   "outputs": [
    {
     "name": "stdout",
     "output_type": "stream",
     "text": [
      "{'_filled': False,\n",
      " 'bib': {'abstract': 'Eighty-three brains obtained at autopsy from nondemented '\n",
      "                     'and demented individuals were examined for extracellular '\n",
      "                     'amyloid deposits and intraneuronal neurofibrillary '\n",
      "                     'changes. The distribution pattern and packing density of '\n",
      "                     'amyloid deposits turned out to be of limited …',\n",
      "         'author': 'H Braak and E Braak',\n",
      "         'eprint': 'http://info-centre.jenage.de/assets/pdfs/library/braak_braak_ACTA_NEUROPATHOL_1991.pdf',\n",
      "         'title': 'Neuropathological stageing of Alzheimer-related changes',\n",
      "         'url': 'https://link.springer.com/article/10.1007/BF00308809'},\n",
      " 'citedby': 11994,\n",
      " 'id_scholarcitedby': '17409024742379397785',\n",
      " 'source': 'scholar',\n",
      " 'url_scholarbib': 'https://scholar.googleusercontent.com/scholar.bib?q=info:maKCJ8RHmfEJ:scholar.google.com/&output=citation&scisdr=CgXgJJ0cEL6M9YEMRjQ:AAGBfm0AAAAAXWoJXjT5rX9GADBvn6nuzPHSJLjQ9Kr7&scisig=AAGBfm0AAAAAXWoJXtKywJwd8gWbXEdcVZKxlvfjR4ah&scisf=4&ct=citation&cd=0&hl=en'}\n"
     ]
    }
   ],
   "source": [
    "search_query = scholarly.search_pubs_query('Alzheimer')\n",
    "print(next(search_query))"
   ]
  },
  {
   "cell_type": "code",
   "execution_count": 5,
   "metadata": {},
   "outputs": [
    {
     "name": "stdout",
     "output_type": "stream",
     "text": [
      "{'_filled': False,\n",
      " 'bib': {'abstract': 'We have purified and characterized the cerebral amyloid '\n",
      "                     'protein that forms the plaque core in Alzheimer disease '\n",
      "                     'and in aged individuals with Down syndrome. The protein '\n",
      "                     'consists of multimeric aggregates of a polypeptide of '\n",
      "                     'about 40 residues (4 kDa). The amino acid …',\n",
      "         'author': 'CL Masters and G Simms and NA Weinman…',\n",
      "         'eprint': 'https://www.pnas.org/content/pnas/82/12/4245.full.pdf',\n",
      "         'title': 'Amyloid plaque core protein in Alzheimer disease and Down '\n",
      "                  'syndrome',\n",
      "         'url': 'https://www.pnas.org/content/82/12/4245.short'},\n",
      " 'citedby': 4657,\n",
      " 'id_scholarcitedby': '6693756341499679327',\n",
      " 'source': 'scholar',\n",
      " 'url_scholarbib': 'https://scholar.googleusercontent.com/scholar.bib?q=info:X1IbdO3_5FwJ:scholar.google.com/&output=citation&scisdr=CgXgJJ0cEL6M9YEMRjQ:AAGBfm0AAAAAXWoJXjT5rX9GADBvn6nuzPHSJLjQ9Kr7&scisig=AAGBfm0AAAAAXWoJXquJZPhEcWwQYu03n98ierj2AC8t&scisf=4&ct=citation&cd=1&hl=en'}\n"
     ]
    }
   ],
   "source": [
    "print(next(search_query))"
   ]
  },
  {
   "cell_type": "code",
   "execution_count": 6,
   "metadata": {},
   "outputs": [
    {
     "name": "stdout",
     "output_type": "stream",
     "text": [
      "{'_filled': False,\n",
      " 'bib': {'abstract': 'The global prevalence of dementia is estimated to be as '\n",
      "                     'high as 24 million, and is predicted to double every 20 '\n",
      "                     'years through to 2040, leading to a costly burden of '\n",
      "                     'disease. Alzheimer disease (AD) is the leading cause of '\n",
      "                     'dementia and is characterized by a progressive decline …',\n",
      "         'author': 'C Reitz and C Brayne and R Mayeux',\n",
      "         'eprint': 'https://www.ncbi.nlm.nih.gov/pmc/articles/PMC3339565/',\n",
      "         'title': 'Epidemiology of Alzheimer disease',\n",
      "         'url': 'https://www.nature.com/nrneurol/journal/v7/n3/abs/nrneurol.2011.2.html'},\n",
      " 'citedby': 1224,\n",
      " 'id_scholarcitedby': '2157281841995146113',\n",
      " 'source': 'scholar',\n",
      " 'url_scholarbib': 'https://scholar.googleusercontent.com/scholar.bib?q=info:gWOF0Gc08B0J:scholar.google.com/&output=citation&scisdr=CgXgJJ0cEL6M9YEMRjQ:AAGBfm0AAAAAXWoJXjT5rX9GADBvn6nuzPHSJLjQ9Kr7&scisig=AAGBfm0AAAAAXWoJXlJeW-iiZ_FQAhY86oTx4YguF2N0&scisf=4&ct=citation&cd=2&hl=en'}\n"
     ]
    }
   ],
   "source": [
    "print(next(search_query))"
   ]
  },
  {
   "cell_type": "code",
   "execution_count": 7,
   "metadata": {},
   "outputs": [
    {
     "name": "stdout",
     "output_type": "stream",
     "text": [
      "{'_filled': True,\n",
      " 'affiliation': 'Assistant Project Scientist, University of California, '\n",
      "                'Berkeley',\n",
      " 'citedby': 216,\n",
      " 'citedby5y': 157,\n",
      " 'cites_per_year': {2008: 2,\n",
      "                    2009: 5,\n",
      "                    2010: 6,\n",
      "                    2011: 10,\n",
      "                    2012: 21,\n",
      "                    2013: 15,\n",
      "                    2014: 16,\n",
      "                    2015: 16,\n",
      "                    2016: 38,\n",
      "                    2017: 27,\n",
      "                    2018: 32,\n",
      "                    2019: 27},\n",
      " 'coauthors': [<scholarly.scholarly.Author object at 0x000002593EB59D68>,\n",
      "               <scholarly.scholarly.Author object at 0x000002593EB596A0>,\n",
      "               <scholarly.scholarly.Author object at 0x000002593EB59CF8>,\n",
      "               <scholarly.scholarly.Author object at 0x000002593EB59DD8>,\n",
      "               <scholarly.scholarly.Author object at 0x000002593EB59E10>,\n",
      "               <scholarly.scholarly.Author object at 0x000002593EB59E48>,\n",
      "               <scholarly.scholarly.Author object at 0x000002593EB59E80>,\n",
      "               <scholarly.scholarly.Author object at 0x000002593EB59EB8>,\n",
      "               <scholarly.scholarly.Author object at 0x000002593EB59EF0>,\n",
      "               <scholarly.scholarly.Author object at 0x000002593EB59F28>,\n",
      "               <scholarly.scholarly.Author object at 0x000002593EB59F60>,\n",
      "               <scholarly.scholarly.Author object at 0x000002593EB59F98>,\n",
      "               <scholarly.scholarly.Author object at 0x000002593EB59FD0>,\n",
      "               <scholarly.scholarly.Author object at 0x000002593EB4C1D0>,\n",
      "               <scholarly.scholarly.Author object at 0x000002593EB4C8D0>,\n",
      "               <scholarly.scholarly.Author object at 0x000002593EB4CEF0>,\n",
      "               <scholarly.scholarly.Author object at 0x000002593EB4CFD0>,\n",
      "               <scholarly.scholarly.Author object at 0x000002593EB4CD68>,\n",
      "               <scholarly.scholarly.Author object at 0x000002593EB4CF60>,\n",
      "               <scholarly.scholarly.Author object at 0x000002593EB4CF28>],\n",
      " 'email': '@berkeley.edu',\n",
      " 'hindex': 7,\n",
      " 'hindex5y': 7,\n",
      " 'i10index': 6,\n",
      " 'i10index5y': 6,\n",
      " 'id': '4bahYMkAAAAJ',\n",
      " 'interests': ['Depth Cues',\n",
      "               '3D Shape',\n",
      "               'Shape from Texture & Shading',\n",
      "               'Naive Physics',\n",
      "               'Haptics'],\n",
      " 'name': 'Steven A. Cholewiak',\n",
      " 'publications': [<scholarly.scholarly.Publication object at 0x000002593EB4CE48>,\n",
      "                  <scholarly.scholarly.Publication object at 0x000002593EB4CE10>,\n",
      "                  <scholarly.scholarly.Publication object at 0x000002593EB4CE80>,\n",
      "                  <scholarly.scholarly.Publication object at 0x000002593EB4CDD8>,\n",
      "                  <scholarly.scholarly.Publication object at 0x000002593EB4CEB8>,\n",
      "                  <scholarly.scholarly.Publication object at 0x000002593EB4CCF8>,\n",
      "                  <scholarly.scholarly.Publication object at 0x000002593EB4C828>,\n",
      "                  <scholarly.scholarly.Publication object at 0x000002593EB4CDA0>,\n",
      "                  <scholarly.scholarly.Publication object at 0x000002593EB4CD30>,\n",
      "                  <scholarly.scholarly.Publication object at 0x000002593EB4CCC0>,\n",
      "                  <scholarly.scholarly.Publication object at 0x000002593EB4CBE0>,\n",
      "                  <scholarly.scholarly.Publication object at 0x000002593EB4CC88>,\n",
      "                  <scholarly.scholarly.Publication object at 0x000002593EB4CA90>,\n",
      "                  <scholarly.scholarly.Publication object at 0x000002593EB4CC50>,\n",
      "                  <scholarly.scholarly.Publication object at 0x000002593EB4CB70>,\n",
      "                  <scholarly.scholarly.Publication object at 0x000002593EB4C9B0>,\n",
      "                  <scholarly.scholarly.Publication object at 0x000002593EB4CC18>,\n",
      "                  <scholarly.scholarly.Publication object at 0x000002593EB4CBA8>,\n",
      "                  <scholarly.scholarly.Publication object at 0x000002593EB4CB00>,\n",
      "                  <scholarly.scholarly.Publication object at 0x000002593EB4CB38>,\n",
      "                  <scholarly.scholarly.Publication object at 0x000002593EB4CAC8>,\n",
      "                  <scholarly.scholarly.Publication object at 0x000002593EB4CA20>,\n",
      "                  <scholarly.scholarly.Publication object at 0x000002593EB4CA58>,\n",
      "                  <scholarly.scholarly.Publication object at 0x000002593EB4C9E8>,\n",
      "                  <scholarly.scholarly.Publication object at 0x000002593EB4C978>,\n",
      "                  <scholarly.scholarly.Publication object at 0x000002593EB4C940>,\n",
      "                  <scholarly.scholarly.Publication object at 0x000002593EB4C908>,\n",
      "                  <scholarly.scholarly.Publication object at 0x000002593EB4C438>,\n",
      "                  <scholarly.scholarly.Publication object at 0x000002593EB4C898>,\n",
      "                  <scholarly.scholarly.Publication object at 0x000002593EB4C710>,\n",
      "                  <scholarly.scholarly.Publication object at 0x000002593EB4C860>,\n",
      "                  <scholarly.scholarly.Publication object at 0x000002593EB4C7F0>,\n",
      "                  <scholarly.scholarly.Publication object at 0x000002593EB4C6A0>,\n",
      "                  <scholarly.scholarly.Publication object at 0x000002593EB4C780>,\n",
      "                  <scholarly.scholarly.Publication object at 0x000002593EB4C7B8>,\n",
      "                  <scholarly.scholarly.Publication object at 0x000002593EB4C748>,\n",
      "                  <scholarly.scholarly.Publication object at 0x000002593EB4C630>,\n",
      "                  <scholarly.scholarly.Publication object at 0x000002593EB4C6D8>,\n",
      "                  <scholarly.scholarly.Publication object at 0x000002593EB4C320>,\n",
      "                  <scholarly.scholarly.Publication object at 0x000002593EB4C588>,\n",
      "                  <scholarly.scholarly.Publication object at 0x000002593EB4C668>,\n",
      "                  <scholarly.scholarly.Publication object at 0x000002593EB4C5F8>,\n",
      "                  <scholarly.scholarly.Publication object at 0x000002593EB4C5C0>,\n",
      "                  <scholarly.scholarly.Publication object at 0x000002593EB4C518>,\n",
      "                  <scholarly.scholarly.Publication object at 0x000002593EB4C550>,\n",
      "                  <scholarly.scholarly.Publication object at 0x000002593EB4C470>],\n",
      " 'url_picture': 'https://scholar.google.com/citations?view_op=medium_photo&user=4bahYMkAAAAJ'}\n"
     ]
    }
   ],
   "source": [
    "# Retrieve the author's data, fill-in, and print\n",
    "search_query = scholarly.search_author('Steven A Cholewiak')\n",
    "author = next(search_query).fill()\n",
    "print(author)"
   ]
  },
  {
   "cell_type": "code",
   "execution_count": 8,
   "metadata": {},
   "outputs": [
    {
     "name": "stdout",
     "output_type": "stream",
     "text": [
      "['A frequency-domain analysis of haptic gratings', 'Haptic identification of stiffness and force magnitude', 'Inferring the intentional states of autonomous virtual agents', 'Visual perception of the physical stability of asymmetric three-dimensional objects', 'Perception of physical stability and center of mass of 3-D objects', 'ChromaBlur: Rendering chromatic eye aberration improves accommodation and realism', 'Discrimination of real and virtual surfaces with sinusoidal and triangular gratings using the fingertip and stylus', 'Perception of intentions and mental states in autonomous virtual agents', 'Agency and rationality: Adopting the intentional stance toward evolved virtual agents.', 'Intra-and intermanual curvature aftereffect can be obtained via tool-touch', 'The perception of physical stability of 3d objects: The role of parts', 'Frequency analysis of the detectability of virtual haptic gratings', 'Varifocal virtuality: a novel optical layout for near-eye display', 'Colour, contours, shading and shape: flow interactions reveal anchor neighbourhoods', 'Distinguishing between texture and shading flows for 3D shape estimation', 'Rendering correct blur', 'ChromaBlur: Rendering Chromatic Eye Aberration Improves Accommodation and Realism in HMDs', 'Appearance controls interpretation of orientation flows for 3D shape estimation', 'Limits on the estimation of shape from specular surfaces', 'Predicting 3D shape perception from shading and texture flows', 'Towards a unified explanation of shape from shading and texture', 'The tipping point: Visual estimation of the physical stability of three-dimensional objects', 'Perception of Physical Stability of Asymmetrical Three-Dimensional Objects', 'Cutaneous perception', 'Peripheral stimulation can override foveal stimulation in driving accommodation', 'PSEUDO LIGHT-FIELD DISPLAY APPARATUS', 'Creating correct blur and its effect on accommodation', 'ChromaBlur: Rendering natural chromatic aberration drives accommodation effectively', 'Driving accommodation using simulated higher-order aberrations', 'Modeling Accommodation Control of the Human Eye: Chromatic Aberration and Color Opponency', 'The Dark Secrets of Dirty Concavities', 'What happens to a shiny 3D object in a rotating environment?', 'Effects of varied spatial scale on perception of shape from shiny surfaces', 'Visually disentangling shading and surface pigmentation when the two are correlated', 'Perceptual regions of interest for 3D shape derived from shading and texture flows', 'Visual perception of the physical stability of asymmetric three', 'Visual adaptation to physical stability of objects', 'Curvature aftereffect and visual-haptic interactions in simulated environments', 'On the edge: Perceived stability and center of mass of 3D objects', 'Perceiving intelligent action: Experiments in the interpretation of intentional motion', '2010 Index IEEE Transactions on Haptics Vol. 3', 'Living within a virtual environment populated by intelligent autonomous agents', 'Pain: Physiological mechanisms', 'Perceptual estimation of variance in orientation and its dependence on sample size', 'Haptic stiffness identification and information transfer', 'This manuscript has been accepted for publication at Decision']\n"
     ]
    }
   ],
   "source": [
    "# Print the titles of the author's publications\n",
    "print([pub.bib['title'] for pub in author.publications])"
   ]
  },
  {
   "cell_type": "code",
   "execution_count": 9,
   "metadata": {},
   "outputs": [
    {
     "name": "stdout",
     "output_type": "stream",
     "text": [
      "{'_filled': True,\n",
      " 'bib': {'abstract': <div class=\"gsc_vcd_value\" id=\"gsc_vcd_descr\"><div class=\"gsh_small\">The detectability and discriminability of virtual haptic gratings were analyzed in the frequency domain. Detection (Exp. 1) and discrimination (Exp. 2) thresholds for virtual haptic gratings were estimated using a force-feedback device that simulated sinusoidal and square-wave gratings with spatial periods from 0.2 to 38.4 mm. The detection threshold results indicated that for spatial periods up to 6.4 mm (i.e., spatial frequencies &gt;0.156 cycle/mm), the detectability of square-wave gratings could be predicted quantitatively from the detection thresholds of their corresponding fundamental components. The discrimination experiment confirmed that at higher spatial frequencies, the square-wave gratings were initially indistinguishable from the corresponding fundamental components until the third harmonics were detectable. At lower spatial frequencies, the third harmonic components of square-wave gratings had lower …</div></div>,\n",
      "         'author': 'Steven A Cholewiak and Kwangtaek Kim and Hong Z Tan and '\n",
      "                   'Bernard D Adelstein',\n",
      "         'journal': 'IEEE Transactions on Haptics',\n",
      "         'number': '1',\n",
      "         'pages': '3-14',\n",
      "         'publisher': 'IEEE',\n",
      "         'title': 'A frequency-domain analysis of haptic gratings',\n",
      "         'url': 'https://ieeexplore.ieee.org/abstract/document/5210096/',\n",
      "         'volume': '3',\n",
      "         'year': 2009},\n",
      " 'citedby': 43,\n",
      " 'id_citations': '4bahYMkAAAAJ:u5HHmVD_uO8C',\n",
      " 'id_scholarcitedby': '18104797610932568627',\n",
      " 'source': 'citations'}\n"
     ]
    },
    {
     "name": "stderr",
     "output_type": "stream",
     "text": [
      "b:\\tenflow\\lib\\site-packages\\arrow\\factory.py:208: ArrowParseWarning: The .get() parsing method without a format string will parse more strictly in version 0.15.0.See https://github.com/crsmithdev/arrow/issues/612 for more details.\n",
      "  ArrowParseWarning,\n"
     ]
    }
   ],
   "source": [
    "# Take a closer look at the first publication\n",
    "pub = author.publications[0].fill()\n",
    "print(pub)"
   ]
  },
  {
   "cell_type": "code",
   "execution_count": 10,
   "metadata": {},
   "outputs": [
    {
     "name": "stdout",
     "output_type": "stream",
     "text": [
      "['Application of psychophysical techniques to haptic research', 'Tactile and haptic illusions', 'Modeling and rendering realistic textures from unconstrained tool-surface interactions', 'One hundred data-driven haptic texture models and open-source methods for rendering on 3D objects', 'Generating haptic texture models from unconstrained tool-surface interactions', 'Performance metrics for haptic interfaces', 'Emotional responses of tactile icons: Effects of amplitude, frequency, duration, and envelope', 'Effect of waveform on tactile perception by electrovibration displayed on touch screens', 'Dynamic simulation of tool-mediated texture interaction', 'Lossy data compression of vibrotactile material-like textures', 'Just noticeable differences of low-intensity vibrotactile forces at the fingertip', \"What you can't feel won't hurt you: Evaluating haptic hardware using a haptic contrast sensitivity function\", 'Perceptual properties of vibrotactile material texture: Effects of amplitude changes and stimuli beneath detection thresholds', 'Data-driven modeling of isotropic haptic textures using frequency-decomposed neural networks', 'Haptics as an interaction modality', 'Discrimination of real and virtual surfaces with sinusoidal and triangular gratings using the fingertip and stylus', 'Roughness perception of virtual textures displayed by electrovibration on touch screens', 'Relationship between tactual roughness judgment and surface morphology of fabric by fingertip touching method', 'Virtual active touch: Perception of virtual gratings wavelength through pointing-stick interface', 'Spectrum-based synthesis of vibrotactile stimuli: Active footstep display for crinkle of fragile structures', 'Spectrum-based vibrotactile footstep-display for crinkle of fragile structures', 'The physical basis of perceived roughness in virtual sinusoidal textures', 'Development of a multiple contact haptic display with texture-enhanced graphics', 'A physics-based vibrotactile feedback library for collision events', 'Improving the prediction of haptic impression user ratings using perception-based weighting methods: experimental evaluation', 'Single pitch perception of multi-frequency textures', 'Tactile perception of natural and simulated textures: A psychophysical approach', 'High-bandwidth tribometry as a means of recording natural textures', 'Wearable finger pad deformation sensor for tactile textures in frequency domain by using accelerometer on finger side', 'Data-driven haptic modeling and rendering of realistic virtual textured surfaces', 'Distinguishability of periodic haptic stimuli in the frequency domain', 'Analysis of fingertip/fabric friction-induced vibration signals toward vibrotactile rendering', 'Web-based virtual workplace environment for improving safety', 'The human perception of haptic vibrations', '基于频谱分析的织物粗糙感', 'A Multilevel Customized Training Platform for Machining in Internet Environment', 'ROUGHNESS DISCRIMINATION OF TEXTURED GRATINGS', 'Detection and Discrimination Thresholds for Haptic Gratings on Electrostatic Tactile Displays', 'Stochastic relationships between the normal and shear interaction forces during tactile exploration of textures', 'Tactile Perception by Electrovibration', 'Roughness discrimination of textured gratings using multiplecontact methods', 'Research on Evaluation Method of Contiguous Sense of Linen Fabrics', '图像局部纹理特性的静电力触觉渲染']\n"
     ]
    }
   ],
   "source": [
    "# Which papers cited that publication?\n",
    "print([citation.bib['title'] for citation in pub.get_citedby()])"
   ]
  },
  {
   "cell_type": "code",
   "execution_count": 17,
   "metadata": {},
   "outputs": [],
   "source": [
    "search_query =next(scholarly.search_pubs_query('Alzheimer')).fill()"
   ]
  },
  {
   "cell_type": "code",
   "execution_count": 21,
   "metadata": {},
   "outputs": [
    {
     "data": {
      "text/plain": [
       "'Eighty-three brains obtained at autopsy from nondemented and demented individuals were examined for extracellular amyloid deposits and intraneuronal neurofibrillary changes. The distribution pattern and packing density of amyloid deposits turned out to be of limited …'"
      ]
     },
     "execution_count": 21,
     "metadata": {},
     "output_type": "execute_result"
    }
   ],
   "source": [
    "search_query.bib['abstract']"
   ]
  },
  {
   "cell_type": "code",
   "execution_count": 23,
   "metadata": {},
   "outputs": [
    {
     "name": "stdout",
     "output_type": "stream",
     "text": [
      "{'_filled': True,\n",
      " 'bib': {'ENTRYTYPE': 'article',\n",
      "         'ID': 'braak1991neuropathological',\n",
      "         'abstract': 'Eighty-three brains obtained at autopsy from nondemented '\n",
      "                     'and demented individuals were examined for extracellular '\n",
      "                     'amyloid deposits and intraneuronal neurofibrillary '\n",
      "                     'changes. The distribution pattern and packing density of '\n",
      "                     'amyloid deposits turned out to be of limited …',\n",
      "         'author': 'Braak, Heiko and Braak, Eva',\n",
      "         'eprint': 'http://info-centre.jenage.de/assets/pdfs/library/braak_braak_ACTA_NEUROPATHOL_1991.pdf',\n",
      "         'journal': 'Acta neuropathologica',\n",
      "         'number': '4',\n",
      "         'pages': '239--259',\n",
      "         'publisher': 'Springer',\n",
      "         'title': 'Neuropathological stageing of Alzheimer-related changes',\n",
      "         'url': 'https://link.springer.com/article/10.1007/BF00308809',\n",
      "         'volume': '82',\n",
      "         'year': '1991'},\n",
      " 'citedby': 11994,\n",
      " 'id_scholarcitedby': '17409024742379397785',\n",
      " 'source': 'scholar',\n",
      " 'url_scholarbib': 'https://scholar.googleusercontent.com/scholar.bib?q=info:maKCJ8RHmfEJ:scholar.google.com/&output=citation&scisdr=CgXgJJ0cEL6M9YEaB7I:AAGBfm0AAAAAXWofH7KSPEbpRJ0hkDlWCz4aj2Q6HGvF&scisig=AAGBfm0AAAAAXWofH9xKwxH2OvvKVSTgVrmVQz9XraeS&scisf=4&ct=citation&cd=0&hl=en'}\n"
     ]
    }
   ],
   "source": [
    "print(search_query)"
   ]
  },
  {
   "cell_type": "code",
   "execution_count": 10,
   "metadata": {},
   "outputs": [],
   "source": [
    "import scholarly\n",
    "#proxies = {'http' : 'socks5://127.0.0.1:9050', 'https': 'socks5://127.0.0.1:9050'}\n",
    "#scholarly.scholarly.use_proxy(**proxies)"
   ]
  },
  {
   "cell_type": "code",
   "execution_count": 13,
   "metadata": {},
   "outputs": [
    {
     "ename": "ConnectionError",
     "evalue": "SOCKSHTTPSConnectionPool(host='scholar.google.com', port=443): Max retries exceeded with url: /scholar?q=Alzheimer (Caused by NewConnectionError('<urllib3.contrib.socks.SOCKSHTTPSConnection object at 0x000001D164A4AD68>: Failed to establish a new connection: [WinError 10061] No connection could be made because the target machine actively refused it',))",
     "output_type": "error",
     "traceback": [
      "\u001b[1;31m---------------------------------------------------------------------------\u001b[0m",
      "\u001b[1;31mConnectionRefusedError\u001b[0m                    Traceback (most recent call last)",
      "\u001b[1;32mb:\\tenflow\\lib\\site-packages\\socks.py\u001b[0m in \u001b[0;36mconnect\u001b[1;34m(self, dest_pair, catch_errors)\u001b[0m\n\u001b[0;32m    786\u001b[0m             \u001b[1;31m# Initial connection to proxy server.\u001b[0m\u001b[1;33m\u001b[0m\u001b[1;33m\u001b[0m\u001b[0m\n\u001b[1;32m--> 787\u001b[1;33m             \u001b[0msuper\u001b[0m\u001b[1;33m(\u001b[0m\u001b[0msocksocket\u001b[0m\u001b[1;33m,\u001b[0m \u001b[0mself\u001b[0m\u001b[1;33m)\u001b[0m\u001b[1;33m.\u001b[0m\u001b[0mconnect\u001b[0m\u001b[1;33m(\u001b[0m\u001b[0mproxy_addr\u001b[0m\u001b[1;33m)\u001b[0m\u001b[1;33m\u001b[0m\u001b[0m\n\u001b[0m\u001b[0;32m    788\u001b[0m \u001b[1;33m\u001b[0m\u001b[0m\n",
      "\u001b[1;31mConnectionRefusedError\u001b[0m: [WinError 10061] No connection could be made because the target machine actively refused it",
      "\nDuring handling of the above exception, another exception occurred:\n",
      "\u001b[1;31mProxyConnectionError\u001b[0m                      Traceback (most recent call last)",
      "\u001b[1;32mb:\\tenflow\\lib\\site-packages\\urllib3\\contrib\\socks.py\u001b[0m in \u001b[0;36m_new_conn\u001b[1;34m(self)\u001b[0m\n\u001b[0;32m    100\u001b[0m                 \u001b[0mtimeout\u001b[0m\u001b[1;33m=\u001b[0m\u001b[0mself\u001b[0m\u001b[1;33m.\u001b[0m\u001b[0mtimeout\u001b[0m\u001b[1;33m,\u001b[0m\u001b[1;33m\u001b[0m\u001b[0m\n\u001b[1;32m--> 101\u001b[1;33m                 \u001b[1;33m**\u001b[0m\u001b[0mextra_kw\u001b[0m\u001b[1;33m\u001b[0m\u001b[0m\n\u001b[0m\u001b[0;32m    102\u001b[0m             )\n",
      "\u001b[1;32mb:\\tenflow\\lib\\site-packages\\socks.py\u001b[0m in \u001b[0;36mcreate_connection\u001b[1;34m(dest_pair, timeout, source_address, proxy_type, proxy_addr, proxy_port, proxy_rdns, proxy_username, proxy_password, socket_options)\u001b[0m\n\u001b[0;32m    208\u001b[0m     \u001b[1;32mif\u001b[0m \u001b[0merr\u001b[0m\u001b[1;33m:\u001b[0m\u001b[1;33m\u001b[0m\u001b[0m\n\u001b[1;32m--> 209\u001b[1;33m         \u001b[1;32mraise\u001b[0m \u001b[0merr\u001b[0m\u001b[1;33m\u001b[0m\u001b[0m\n\u001b[0m\u001b[0;32m    210\u001b[0m \u001b[1;33m\u001b[0m\u001b[0m\n",
      "\u001b[1;32mb:\\tenflow\\lib\\site-packages\\socks.py\u001b[0m in \u001b[0;36mcreate_connection\u001b[1;34m(dest_pair, timeout, source_address, proxy_type, proxy_addr, proxy_port, proxy_rdns, proxy_username, proxy_password, socket_options)\u001b[0m\n\u001b[0;32m    198\u001b[0m \u001b[1;33m\u001b[0m\u001b[0m\n\u001b[1;32m--> 199\u001b[1;33m             \u001b[0msock\u001b[0m\u001b[1;33m.\u001b[0m\u001b[0mconnect\u001b[0m\u001b[1;33m(\u001b[0m\u001b[1;33m(\u001b[0m\u001b[0mremote_host\u001b[0m\u001b[1;33m,\u001b[0m \u001b[0mremote_port\u001b[0m\u001b[1;33m)\u001b[0m\u001b[1;33m)\u001b[0m\u001b[1;33m\u001b[0m\u001b[0m\n\u001b[0m\u001b[0;32m    200\u001b[0m             \u001b[1;32mreturn\u001b[0m \u001b[0msock\u001b[0m\u001b[1;33m\u001b[0m\u001b[0m\n",
      "\u001b[1;32mb:\\tenflow\\lib\\site-packages\\socks.py\u001b[0m in \u001b[0;36mwrapper\u001b[1;34m(*args, **kwargs)\u001b[0m\n\u001b[0;32m     46\u001b[0m                 \u001b[0mself\u001b[0m\u001b[1;33m.\u001b[0m\u001b[0msetblocking\u001b[0m\u001b[1;33m(\u001b[0m\u001b[1;32mTrue\u001b[0m\u001b[1;33m)\u001b[0m\u001b[1;33m\u001b[0m\u001b[0m\n\u001b[1;32m---> 47\u001b[1;33m             \u001b[1;32mreturn\u001b[0m \u001b[0mfunction\u001b[0m\u001b[1;33m(\u001b[0m\u001b[1;33m*\u001b[0m\u001b[0margs\u001b[0m\u001b[1;33m,\u001b[0m \u001b[1;33m**\u001b[0m\u001b[0mkwargs\u001b[0m\u001b[1;33m)\u001b[0m\u001b[1;33m\u001b[0m\u001b[0m\n\u001b[0m\u001b[0;32m     48\u001b[0m         \u001b[1;32mexcept\u001b[0m \u001b[0mException\u001b[0m \u001b[1;32mas\u001b[0m \u001b[0me\u001b[0m\u001b[1;33m:\u001b[0m\u001b[1;33m\u001b[0m\u001b[0m\n",
      "\u001b[1;32mb:\\tenflow\\lib\\site-packages\\socks.py\u001b[0m in \u001b[0;36mconnect\u001b[1;34m(self, dest_pair, catch_errors)\u001b[0m\n\u001b[0;32m    799\u001b[0m                 \u001b[0mlog\u001b[0m\u001b[1;33m.\u001b[0m\u001b[0mdebug\u001b[0m\u001b[1;33m(\u001b[0m\u001b[1;34m\"%s due to: %s\"\u001b[0m\u001b[1;33m,\u001b[0m \u001b[0mmsg\u001b[0m\u001b[1;33m,\u001b[0m \u001b[0merror\u001b[0m\u001b[1;33m)\u001b[0m\u001b[1;33m\u001b[0m\u001b[0m\n\u001b[1;32m--> 800\u001b[1;33m                 \u001b[1;32mraise\u001b[0m \u001b[0mProxyConnectionError\u001b[0m\u001b[1;33m(\u001b[0m\u001b[0mmsg\u001b[0m\u001b[1;33m,\u001b[0m \u001b[0merror\u001b[0m\u001b[1;33m)\u001b[0m\u001b[1;33m\u001b[0m\u001b[0m\n\u001b[0m\u001b[0;32m    801\u001b[0m             \u001b[1;32melse\u001b[0m\u001b[1;33m:\u001b[0m\u001b[1;33m\u001b[0m\u001b[0m\n",
      "\u001b[1;31mProxyConnectionError\u001b[0m: Error connecting to SOCKS5 proxy 127.0.0.1:9050: [WinError 10061] No connection could be made because the target machine actively refused it",
      "\nDuring handling of the above exception, another exception occurred:\n",
      "\u001b[1;31mNewConnectionError\u001b[0m                        Traceback (most recent call last)",
      "\u001b[1;32mb:\\tenflow\\lib\\site-packages\\urllib3\\connectionpool.py\u001b[0m in \u001b[0;36murlopen\u001b[1;34m(self, method, url, body, headers, retries, redirect, assert_same_host, timeout, pool_timeout, release_conn, chunked, body_pos, **response_kw)\u001b[0m\n\u001b[0;32m    602\u001b[0m                                                   \u001b[0mbody\u001b[0m\u001b[1;33m=\u001b[0m\u001b[0mbody\u001b[0m\u001b[1;33m,\u001b[0m \u001b[0mheaders\u001b[0m\u001b[1;33m=\u001b[0m\u001b[0mheaders\u001b[0m\u001b[1;33m,\u001b[0m\u001b[1;33m\u001b[0m\u001b[0m\n\u001b[1;32m--> 603\u001b[1;33m                                                   chunked=chunked)\n\u001b[0m\u001b[0;32m    604\u001b[0m \u001b[1;33m\u001b[0m\u001b[0m\n",
      "\u001b[1;32mb:\\tenflow\\lib\\site-packages\\urllib3\\connectionpool.py\u001b[0m in \u001b[0;36m_make_request\u001b[1;34m(self, conn, method, url, timeout, chunked, **httplib_request_kw)\u001b[0m\n\u001b[0;32m    343\u001b[0m         \u001b[1;32mtry\u001b[0m\u001b[1;33m:\u001b[0m\u001b[1;33m\u001b[0m\u001b[0m\n\u001b[1;32m--> 344\u001b[1;33m             \u001b[0mself\u001b[0m\u001b[1;33m.\u001b[0m\u001b[0m_validate_conn\u001b[0m\u001b[1;33m(\u001b[0m\u001b[0mconn\u001b[0m\u001b[1;33m)\u001b[0m\u001b[1;33m\u001b[0m\u001b[0m\n\u001b[0m\u001b[0;32m    345\u001b[0m         \u001b[1;32mexcept\u001b[0m \u001b[1;33m(\u001b[0m\u001b[0mSocketTimeout\u001b[0m\u001b[1;33m,\u001b[0m \u001b[0mBaseSSLError\u001b[0m\u001b[1;33m)\u001b[0m \u001b[1;32mas\u001b[0m \u001b[0me\u001b[0m\u001b[1;33m:\u001b[0m\u001b[1;33m\u001b[0m\u001b[0m\n",
      "\u001b[1;32mb:\\tenflow\\lib\\site-packages\\urllib3\\connectionpool.py\u001b[0m in \u001b[0;36m_validate_conn\u001b[1;34m(self, conn)\u001b[0m\n\u001b[0;32m    842\u001b[0m         \u001b[1;32mif\u001b[0m \u001b[1;32mnot\u001b[0m \u001b[0mgetattr\u001b[0m\u001b[1;33m(\u001b[0m\u001b[0mconn\u001b[0m\u001b[1;33m,\u001b[0m \u001b[1;34m'sock'\u001b[0m\u001b[1;33m,\u001b[0m \u001b[1;32mNone\u001b[0m\u001b[1;33m)\u001b[0m\u001b[1;33m:\u001b[0m  \u001b[1;31m# AppEngine might not have  `.sock`\u001b[0m\u001b[1;33m\u001b[0m\u001b[0m\n\u001b[1;32m--> 843\u001b[1;33m             \u001b[0mconn\u001b[0m\u001b[1;33m.\u001b[0m\u001b[0mconnect\u001b[0m\u001b[1;33m(\u001b[0m\u001b[1;33m)\u001b[0m\u001b[1;33m\u001b[0m\u001b[0m\n\u001b[0m\u001b[0;32m    844\u001b[0m \u001b[1;33m\u001b[0m\u001b[0m\n",
      "\u001b[1;32mb:\\tenflow\\lib\\site-packages\\urllib3\\connection.py\u001b[0m in \u001b[0;36mconnect\u001b[1;34m(self)\u001b[0m\n\u001b[0;32m    315\u001b[0m         \u001b[1;31m# Add certificate verification\u001b[0m\u001b[1;33m\u001b[0m\u001b[1;33m\u001b[0m\u001b[0m\n\u001b[1;32m--> 316\u001b[1;33m         \u001b[0mconn\u001b[0m \u001b[1;33m=\u001b[0m \u001b[0mself\u001b[0m\u001b[1;33m.\u001b[0m\u001b[0m_new_conn\u001b[0m\u001b[1;33m(\u001b[0m\u001b[1;33m)\u001b[0m\u001b[1;33m\u001b[0m\u001b[0m\n\u001b[0m\u001b[0;32m    317\u001b[0m         \u001b[0mhostname\u001b[0m \u001b[1;33m=\u001b[0m \u001b[0mself\u001b[0m\u001b[1;33m.\u001b[0m\u001b[0mhost\u001b[0m\u001b[1;33m\u001b[0m\u001b[0m\n",
      "\u001b[1;32mb:\\tenflow\\lib\\site-packages\\urllib3\\contrib\\socks.py\u001b[0m in \u001b[0;36m_new_conn\u001b[1;34m(self)\u001b[0m\n\u001b[0;32m    122\u001b[0m                         \u001b[0mself\u001b[0m\u001b[1;33m,\u001b[0m\u001b[1;33m\u001b[0m\u001b[0m\n\u001b[1;32m--> 123\u001b[1;33m                         \u001b[1;34m\"Failed to establish a new connection: %s\"\u001b[0m \u001b[1;33m%\u001b[0m \u001b[0merror\u001b[0m\u001b[1;33m\u001b[0m\u001b[0m\n\u001b[0m\u001b[0;32m    124\u001b[0m                     )\n",
      "\u001b[1;31mNewConnectionError\u001b[0m: <urllib3.contrib.socks.SOCKSHTTPSConnection object at 0x000001D164A4AD68>: Failed to establish a new connection: [WinError 10061] No connection could be made because the target machine actively refused it",
      "\nDuring handling of the above exception, another exception occurred:\n",
      "\u001b[1;31mMaxRetryError\u001b[0m                             Traceback (most recent call last)",
      "\u001b[1;32mb:\\tenflow\\lib\\site-packages\\requests\\adapters.py\u001b[0m in \u001b[0;36msend\u001b[1;34m(self, request, stream, timeout, verify, cert, proxies)\u001b[0m\n\u001b[0;32m    448\u001b[0m                     \u001b[0mretries\u001b[0m\u001b[1;33m=\u001b[0m\u001b[0mself\u001b[0m\u001b[1;33m.\u001b[0m\u001b[0mmax_retries\u001b[0m\u001b[1;33m,\u001b[0m\u001b[1;33m\u001b[0m\u001b[0m\n\u001b[1;32m--> 449\u001b[1;33m                     \u001b[0mtimeout\u001b[0m\u001b[1;33m=\u001b[0m\u001b[0mtimeout\u001b[0m\u001b[1;33m\u001b[0m\u001b[0m\n\u001b[0m\u001b[0;32m    450\u001b[0m                 )\n",
      "\u001b[1;32mb:\\tenflow\\lib\\site-packages\\urllib3\\connectionpool.py\u001b[0m in \u001b[0;36murlopen\u001b[1;34m(self, method, url, body, headers, retries, redirect, assert_same_host, timeout, pool_timeout, release_conn, chunked, body_pos, **response_kw)\u001b[0m\n\u001b[0;32m    640\u001b[0m             retries = retries.increment(method, url, error=e, _pool=self,\n\u001b[1;32m--> 641\u001b[1;33m                                         _stacktrace=sys.exc_info()[2])\n\u001b[0m\u001b[0;32m    642\u001b[0m             \u001b[0mretries\u001b[0m\u001b[1;33m.\u001b[0m\u001b[0msleep\u001b[0m\u001b[1;33m(\u001b[0m\u001b[1;33m)\u001b[0m\u001b[1;33m\u001b[0m\u001b[0m\n",
      "\u001b[1;32mb:\\tenflow\\lib\\site-packages\\urllib3\\util\\retry.py\u001b[0m in \u001b[0;36mincrement\u001b[1;34m(self, method, url, response, error, _pool, _stacktrace)\u001b[0m\n\u001b[0;32m    398\u001b[0m         \u001b[1;32mif\u001b[0m \u001b[0mnew_retry\u001b[0m\u001b[1;33m.\u001b[0m\u001b[0mis_exhausted\u001b[0m\u001b[1;33m(\u001b[0m\u001b[1;33m)\u001b[0m\u001b[1;33m:\u001b[0m\u001b[1;33m\u001b[0m\u001b[0m\n\u001b[1;32m--> 399\u001b[1;33m             \u001b[1;32mraise\u001b[0m \u001b[0mMaxRetryError\u001b[0m\u001b[1;33m(\u001b[0m\u001b[0m_pool\u001b[0m\u001b[1;33m,\u001b[0m \u001b[0murl\u001b[0m\u001b[1;33m,\u001b[0m \u001b[0merror\u001b[0m \u001b[1;32mor\u001b[0m \u001b[0mResponseError\u001b[0m\u001b[1;33m(\u001b[0m\u001b[0mcause\u001b[0m\u001b[1;33m)\u001b[0m\u001b[1;33m)\u001b[0m\u001b[1;33m\u001b[0m\u001b[0m\n\u001b[0m\u001b[0;32m    400\u001b[0m \u001b[1;33m\u001b[0m\u001b[0m\n",
      "\u001b[1;31mMaxRetryError\u001b[0m: SOCKSHTTPSConnectionPool(host='scholar.google.com', port=443): Max retries exceeded with url: /scholar?q=Alzheimer (Caused by NewConnectionError('<urllib3.contrib.socks.SOCKSHTTPSConnection object at 0x000001D164A4AD68>: Failed to establish a new connection: [WinError 10061] No connection could be made because the target machine actively refused it',))",
      "\nDuring handling of the above exception, another exception occurred:\n",
      "\u001b[1;31mConnectionError\u001b[0m                           Traceback (most recent call last)",
      "\u001b[1;32m<ipython-input-13-9ed8911bff27>\u001b[0m in \u001b[0;36m<module>\u001b[1;34m()\u001b[0m\n\u001b[0;32m      1\u001b[0m \u001b[0mi\u001b[0m \u001b[1;33m=\u001b[0m\u001b[1;36m0\u001b[0m\u001b[1;33m;\u001b[0m\u001b[1;33m\u001b[0m\u001b[0m\n\u001b[0;32m      2\u001b[0m \u001b[0mf\u001b[0m \u001b[1;33m=\u001b[0m \u001b[0mopen\u001b[0m\u001b[1;33m(\u001b[0m\u001b[1;34m\"combined.txt\"\u001b[0m\u001b[1;33m,\u001b[0m \u001b[1;34m\"a\"\u001b[0m\u001b[1;33m,\u001b[0m \u001b[0mencoding\u001b[0m\u001b[1;33m=\u001b[0m\u001b[1;34m\"utf-8\"\u001b[0m\u001b[1;33m)\u001b[0m\u001b[1;33m\u001b[0m\u001b[0m\n\u001b[1;32m----> 3\u001b[1;33m \u001b[0msearch_query\u001b[0m \u001b[1;33m=\u001b[0m \u001b[0mscholarly\u001b[0m\u001b[1;33m.\u001b[0m\u001b[0msearch_pubs_query\u001b[0m\u001b[1;33m(\u001b[0m\u001b[1;34m'Alzheimer'\u001b[0m\u001b[1;33m)\u001b[0m\u001b[1;33m\u001b[0m\u001b[0m\n\u001b[0m\u001b[0;32m      4\u001b[0m \u001b[1;33m\u001b[0m\u001b[0m\n\u001b[0;32m      5\u001b[0m \u001b[1;32mwhile\u001b[0m \u001b[1;33m(\u001b[0m\u001b[0mi\u001b[0m\u001b[1;33m<=\u001b[0m\u001b[1;36m2001\u001b[0m\u001b[1;33m)\u001b[0m\u001b[1;33m:\u001b[0m\u001b[1;33m\u001b[0m\u001b[0m\n",
      "\u001b[1;32mb:\\tenflow\\lib\\site-packages\\scholarly\\scholarly.py\u001b[0m in \u001b[0;36msearch_pubs_query\u001b[1;34m(query)\u001b[0m\n\u001b[0;32m    318\u001b[0m     \u001b[1;34m\"\"\"Search by scholar query and return a generator of Publication objects\"\"\"\u001b[0m\u001b[1;33m\u001b[0m\u001b[0m\n\u001b[0;32m    319\u001b[0m     \u001b[0murl\u001b[0m \u001b[1;33m=\u001b[0m \u001b[0m_PUBSEARCH\u001b[0m\u001b[1;33m.\u001b[0m\u001b[0mformat\u001b[0m\u001b[1;33m(\u001b[0m\u001b[0mrequests\u001b[0m\u001b[1;33m.\u001b[0m\u001b[0mutils\u001b[0m\u001b[1;33m.\u001b[0m\u001b[0mquote\u001b[0m\u001b[1;33m(\u001b[0m\u001b[0mquery\u001b[0m\u001b[1;33m)\u001b[0m\u001b[1;33m)\u001b[0m\u001b[1;33m\u001b[0m\u001b[0m\n\u001b[1;32m--> 320\u001b[1;33m     \u001b[0msoup\u001b[0m \u001b[1;33m=\u001b[0m \u001b[0m_get_soup\u001b[0m\u001b[1;33m(\u001b[0m\u001b[0m_HOST\u001b[0m\u001b[1;33m+\u001b[0m\u001b[0murl\u001b[0m\u001b[1;33m)\u001b[0m\u001b[1;33m\u001b[0m\u001b[0m\n\u001b[0m\u001b[0;32m    321\u001b[0m     \u001b[1;32mreturn\u001b[0m \u001b[0m_search_scholar_soup\u001b[0m\u001b[1;33m(\u001b[0m\u001b[0msoup\u001b[0m\u001b[1;33m)\u001b[0m\u001b[1;33m\u001b[0m\u001b[0m\n\u001b[0;32m    322\u001b[0m \u001b[1;33m\u001b[0m\u001b[0m\n",
      "\u001b[1;32mb:\\tenflow\\lib\\site-packages\\scholarly\\scholarly.py\u001b[0m in \u001b[0;36m_get_soup\u001b[1;34m(pagerequest)\u001b[0m\n\u001b[0;32m     97\u001b[0m \u001b[1;32mdef\u001b[0m \u001b[0m_get_soup\u001b[0m\u001b[1;33m(\u001b[0m\u001b[0mpagerequest\u001b[0m\u001b[1;33m)\u001b[0m\u001b[1;33m:\u001b[0m\u001b[1;33m\u001b[0m\u001b[0m\n\u001b[0;32m     98\u001b[0m     \u001b[1;34m\"\"\"Return the BeautifulSoup for a page on scholar.google.com\"\"\"\u001b[0m\u001b[1;33m\u001b[0m\u001b[0m\n\u001b[1;32m---> 99\u001b[1;33m     \u001b[0mhtml\u001b[0m \u001b[1;33m=\u001b[0m \u001b[0m_get_page\u001b[0m\u001b[1;33m(\u001b[0m\u001b[0mpagerequest\u001b[0m\u001b[1;33m)\u001b[0m\u001b[1;33m\u001b[0m\u001b[0m\n\u001b[0m\u001b[0;32m    100\u001b[0m     \u001b[0mhtml\u001b[0m \u001b[1;33m=\u001b[0m \u001b[0mhtml\u001b[0m\u001b[1;33m.\u001b[0m\u001b[0mreplace\u001b[0m\u001b[1;33m(\u001b[0m\u001b[1;34mu'\\xa0'\u001b[0m\u001b[1;33m,\u001b[0m \u001b[1;34mu' '\u001b[0m\u001b[1;33m)\u001b[0m\u001b[1;33m\u001b[0m\u001b[0m\n\u001b[0;32m    101\u001b[0m     \u001b[1;32mreturn\u001b[0m \u001b[0mBeautifulSoup\u001b[0m\u001b[1;33m(\u001b[0m\u001b[0mhtml\u001b[0m\u001b[1;33m,\u001b[0m \u001b[1;34m'html.parser'\u001b[0m\u001b[1;33m)\u001b[0m\u001b[1;33m\u001b[0m\u001b[0m\n",
      "\u001b[1;32mb:\\tenflow\\lib\\site-packages\\scholarly\\scholarly.py\u001b[0m in \u001b[0;36m_get_page\u001b[1;34m(pagerequest)\u001b[0m\n\u001b[0;32m     79\u001b[0m     \u001b[1;31m# Note that we include a sleep to avoid overloading the scholar server\u001b[0m\u001b[1;33m\u001b[0m\u001b[1;33m\u001b[0m\u001b[0m\n\u001b[0;32m     80\u001b[0m     \u001b[0mtime\u001b[0m\u001b[1;33m.\u001b[0m\u001b[0msleep\u001b[0m\u001b[1;33m(\u001b[0m\u001b[1;36m5\u001b[0m\u001b[1;33m+\u001b[0m\u001b[0mrandom\u001b[0m\u001b[1;33m.\u001b[0m\u001b[0muniform\u001b[0m\u001b[1;33m(\u001b[0m\u001b[1;36m0\u001b[0m\u001b[1;33m,\u001b[0m \u001b[1;36m5\u001b[0m\u001b[1;33m)\u001b[0m\u001b[1;33m)\u001b[0m\u001b[1;33m\u001b[0m\u001b[0m\n\u001b[1;32m---> 81\u001b[1;33m     \u001b[0mresp\u001b[0m \u001b[1;33m=\u001b[0m \u001b[0m_SESSION\u001b[0m\u001b[1;33m.\u001b[0m\u001b[0mget\u001b[0m\u001b[1;33m(\u001b[0m\u001b[0mpagerequest\u001b[0m\u001b[1;33m,\u001b[0m \u001b[0mheaders\u001b[0m\u001b[1;33m=\u001b[0m\u001b[0m_HEADERS\u001b[0m\u001b[1;33m,\u001b[0m \u001b[0mcookies\u001b[0m\u001b[1;33m=\u001b[0m\u001b[0m_COOKIES\u001b[0m\u001b[1;33m)\u001b[0m\u001b[1;33m\u001b[0m\u001b[0m\n\u001b[0m\u001b[0;32m     82\u001b[0m     \u001b[1;32mif\u001b[0m \u001b[0mresp\u001b[0m\u001b[1;33m.\u001b[0m\u001b[0mstatus_code\u001b[0m \u001b[1;33m==\u001b[0m \u001b[1;36m200\u001b[0m\u001b[1;33m:\u001b[0m\u001b[1;33m\u001b[0m\u001b[0m\n\u001b[0;32m     83\u001b[0m         \u001b[1;32mreturn\u001b[0m \u001b[0mresp\u001b[0m\u001b[1;33m.\u001b[0m\u001b[0mtext\u001b[0m\u001b[1;33m\u001b[0m\u001b[0m\n",
      "\u001b[1;32mb:\\tenflow\\lib\\site-packages\\requests\\sessions.py\u001b[0m in \u001b[0;36mget\u001b[1;34m(self, url, **kwargs)\u001b[0m\n\u001b[0;32m    544\u001b[0m \u001b[1;33m\u001b[0m\u001b[0m\n\u001b[0;32m    545\u001b[0m         \u001b[0mkwargs\u001b[0m\u001b[1;33m.\u001b[0m\u001b[0msetdefault\u001b[0m\u001b[1;33m(\u001b[0m\u001b[1;34m'allow_redirects'\u001b[0m\u001b[1;33m,\u001b[0m \u001b[1;32mTrue\u001b[0m\u001b[1;33m)\u001b[0m\u001b[1;33m\u001b[0m\u001b[0m\n\u001b[1;32m--> 546\u001b[1;33m         \u001b[1;32mreturn\u001b[0m \u001b[0mself\u001b[0m\u001b[1;33m.\u001b[0m\u001b[0mrequest\u001b[0m\u001b[1;33m(\u001b[0m\u001b[1;34m'GET'\u001b[0m\u001b[1;33m,\u001b[0m \u001b[0murl\u001b[0m\u001b[1;33m,\u001b[0m \u001b[1;33m**\u001b[0m\u001b[0mkwargs\u001b[0m\u001b[1;33m)\u001b[0m\u001b[1;33m\u001b[0m\u001b[0m\n\u001b[0m\u001b[0;32m    547\u001b[0m \u001b[1;33m\u001b[0m\u001b[0m\n\u001b[0;32m    548\u001b[0m     \u001b[1;32mdef\u001b[0m \u001b[0moptions\u001b[0m\u001b[1;33m(\u001b[0m\u001b[0mself\u001b[0m\u001b[1;33m,\u001b[0m \u001b[0murl\u001b[0m\u001b[1;33m,\u001b[0m \u001b[1;33m**\u001b[0m\u001b[0mkwargs\u001b[0m\u001b[1;33m)\u001b[0m\u001b[1;33m:\u001b[0m\u001b[1;33m\u001b[0m\u001b[0m\n",
      "\u001b[1;32mb:\\tenflow\\lib\\site-packages\\requests\\sessions.py\u001b[0m in \u001b[0;36mrequest\u001b[1;34m(self, method, url, params, data, headers, cookies, files, auth, timeout, allow_redirects, proxies, hooks, stream, verify, cert, json)\u001b[0m\n\u001b[0;32m    531\u001b[0m         }\n\u001b[0;32m    532\u001b[0m         \u001b[0msend_kwargs\u001b[0m\u001b[1;33m.\u001b[0m\u001b[0mupdate\u001b[0m\u001b[1;33m(\u001b[0m\u001b[0msettings\u001b[0m\u001b[1;33m)\u001b[0m\u001b[1;33m\u001b[0m\u001b[0m\n\u001b[1;32m--> 533\u001b[1;33m         \u001b[0mresp\u001b[0m \u001b[1;33m=\u001b[0m \u001b[0mself\u001b[0m\u001b[1;33m.\u001b[0m\u001b[0msend\u001b[0m\u001b[1;33m(\u001b[0m\u001b[0mprep\u001b[0m\u001b[1;33m,\u001b[0m \u001b[1;33m**\u001b[0m\u001b[0msend_kwargs\u001b[0m\u001b[1;33m)\u001b[0m\u001b[1;33m\u001b[0m\u001b[0m\n\u001b[0m\u001b[0;32m    534\u001b[0m \u001b[1;33m\u001b[0m\u001b[0m\n\u001b[0;32m    535\u001b[0m         \u001b[1;32mreturn\u001b[0m \u001b[0mresp\u001b[0m\u001b[1;33m\u001b[0m\u001b[0m\n",
      "\u001b[1;32mb:\\tenflow\\lib\\site-packages\\requests\\sessions.py\u001b[0m in \u001b[0;36msend\u001b[1;34m(self, request, **kwargs)\u001b[0m\n\u001b[0;32m    644\u001b[0m \u001b[1;33m\u001b[0m\u001b[0m\n\u001b[0;32m    645\u001b[0m         \u001b[1;31m# Send the request\u001b[0m\u001b[1;33m\u001b[0m\u001b[1;33m\u001b[0m\u001b[0m\n\u001b[1;32m--> 646\u001b[1;33m         \u001b[0mr\u001b[0m \u001b[1;33m=\u001b[0m \u001b[0madapter\u001b[0m\u001b[1;33m.\u001b[0m\u001b[0msend\u001b[0m\u001b[1;33m(\u001b[0m\u001b[0mrequest\u001b[0m\u001b[1;33m,\u001b[0m \u001b[1;33m**\u001b[0m\u001b[0mkwargs\u001b[0m\u001b[1;33m)\u001b[0m\u001b[1;33m\u001b[0m\u001b[0m\n\u001b[0m\u001b[0;32m    647\u001b[0m \u001b[1;33m\u001b[0m\u001b[0m\n\u001b[0;32m    648\u001b[0m         \u001b[1;31m# Total elapsed time of the request (approximately)\u001b[0m\u001b[1;33m\u001b[0m\u001b[1;33m\u001b[0m\u001b[0m\n",
      "\u001b[1;32mb:\\tenflow\\lib\\site-packages\\requests\\adapters.py\u001b[0m in \u001b[0;36msend\u001b[1;34m(self, request, stream, timeout, verify, cert, proxies)\u001b[0m\n\u001b[0;32m    514\u001b[0m                 \u001b[1;32mraise\u001b[0m \u001b[0mSSLError\u001b[0m\u001b[1;33m(\u001b[0m\u001b[0me\u001b[0m\u001b[1;33m,\u001b[0m \u001b[0mrequest\u001b[0m\u001b[1;33m=\u001b[0m\u001b[0mrequest\u001b[0m\u001b[1;33m)\u001b[0m\u001b[1;33m\u001b[0m\u001b[0m\n\u001b[0;32m    515\u001b[0m \u001b[1;33m\u001b[0m\u001b[0m\n\u001b[1;32m--> 516\u001b[1;33m             \u001b[1;32mraise\u001b[0m \u001b[0mConnectionError\u001b[0m\u001b[1;33m(\u001b[0m\u001b[0me\u001b[0m\u001b[1;33m,\u001b[0m \u001b[0mrequest\u001b[0m\u001b[1;33m=\u001b[0m\u001b[0mrequest\u001b[0m\u001b[1;33m)\u001b[0m\u001b[1;33m\u001b[0m\u001b[0m\n\u001b[0m\u001b[0;32m    517\u001b[0m \u001b[1;33m\u001b[0m\u001b[0m\n\u001b[0;32m    518\u001b[0m         \u001b[1;32mexcept\u001b[0m \u001b[0mClosedPoolError\u001b[0m \u001b[1;32mas\u001b[0m \u001b[0me\u001b[0m\u001b[1;33m:\u001b[0m\u001b[1;33m\u001b[0m\u001b[0m\n",
      "\u001b[1;31mConnectionError\u001b[0m: SOCKSHTTPSConnectionPool(host='scholar.google.com', port=443): Max retries exceeded with url: /scholar?q=Alzheimer (Caused by NewConnectionError('<urllib3.contrib.socks.SOCKSHTTPSConnection object at 0x000001D164A4AD68>: Failed to establish a new connection: [WinError 10061] No connection could be made because the target machine actively refused it',))"
     ]
    }
   ],
   "source": [
    "i =0;\n",
    "f = open(\"combined.txt\", \"a\", encoding=\"utf-8\")\n",
    "search_query = scholarly.search_pubs_query('Alzheimer')\n",
    "\n",
    "while (i<=2001):\n",
    "    temp = (next(search_query).fill())\n",
    "    print(i)\n",
    "    f.write(temp.bib['ID']+ \"\\t\"+ temp.bib['title'] + temp.bib['abstract'] + \"\\n\" )\n",
    "    i=i+1\n",
    "f.close()"
   ]
  },
  {
   "cell_type": "code",
   "execution_count": null,
   "metadata": {},
   "outputs": [],
   "source": []
  }
 ],
 "metadata": {
  "kernelspec": {
   "display_name": "Python 3",
   "language": "python",
   "name": "python3"
  },
  "language_info": {
   "codemirror_mode": {
    "name": "ipython",
    "version": 3
   },
   "file_extension": ".py",
   "mimetype": "text/x-python",
   "name": "python",
   "nbconvert_exporter": "python",
   "pygments_lexer": "ipython3",
   "version": "3.6.4"
  }
 },
 "nbformat": 4,
 "nbformat_minor": 2
}
